{
 "cells": [
  {
   "cell_type": "markdown",
   "id": "78c808d0",
   "metadata": {},
   "source": [
    "Collaborative Filtering"
   ]
  },
  {
   "cell_type": "code",
   "execution_count": 1,
   "id": "aa043df1",
   "metadata": {},
   "outputs": [
    {
     "name": "stderr",
     "output_type": "stream",
     "text": [
      "[nltk_data] Downloading package stopwords to\n",
      "[nltk_data]     /Users/amanparikh/nltk_data...\n",
      "[nltk_data]   Package stopwords is already up-to-date!\n"
     ]
    }
   ],
   "source": [
    "import pandas as pd\n",
    "import matplotlib.pyplot as plt\n",
    "from collections import defaultdict\n",
    "import nltk\n",
    "nltk.download('stopwords')\n",
    "from nltk.corpus import stopwords\n",
    "from sklearn.preprocessing import normalize\n",
    "from nltk.stem import WordNetLemmatizer\n",
    "from nltk.tokenize import word_tokenize\n",
    "from sklearn.feature_extraction.text import CountVectorizer, TfidfTransformer"
   ]
  },
  {
   "cell_type": "code",
   "execution_count": 2,
   "id": "93b4ff38",
   "metadata": {},
   "outputs": [],
   "source": [
    "anime = pd.read_csv('anime.csv')\n",
    "user = pd.read_csv('user_anime_list.0.csv')"
   ]
  },
  {
   "cell_type": "code",
   "execution_count": 3,
   "id": "59c3e995",
   "metadata": {},
   "outputs": [
    {
     "data": {
      "text/html": [
       "<div>\n",
       "<style scoped>\n",
       "    .dataframe tbody tr th:only-of-type {\n",
       "        vertical-align: middle;\n",
       "    }\n",
       "\n",
       "    .dataframe tbody tr th {\n",
       "        vertical-align: top;\n",
       "    }\n",
       "\n",
       "    .dataframe thead th {\n",
       "        text-align: right;\n",
       "    }\n",
       "</style>\n",
       "<table border=\"1\" class=\"dataframe\">\n",
       "  <thead>\n",
       "    <tr style=\"text-align: right;\">\n",
       "      <th></th>\n",
       "      <th>anime_id</th>\n",
       "      <th>title</th>\n",
       "      <th>main_picture</th>\n",
       "      <th>alternative_titles</th>\n",
       "      <th>start_date</th>\n",
       "      <th>end_date</th>\n",
       "      <th>synopsis</th>\n",
       "      <th>num_list_users</th>\n",
       "      <th>num_scoring_users</th>\n",
       "      <th>nsfw</th>\n",
       "      <th>medium</th>\n",
       "      <th>status</th>\n",
       "      <th>num_episodes</th>\n",
       "      <th>start_season</th>\n",
       "      <th>source</th>\n",
       "      <th>average_episode_duration</th>\n",
       "      <th>studios</th>\n",
       "      <th>related_anime</th>\n",
       "      <th>recommendations</th>\n",
       "      <th>genres</th>\n",
       "    </tr>\n",
       "  </thead>\n",
       "  <tbody>\n",
       "    <tr>\n",
       "      <th>0</th>\n",
       "      <td>1</td>\n",
       "      <td>Cowboy Bebop</td>\n",
       "      <td>{'medium': 'https://api-cdn.myanimelist.net/im...</td>\n",
       "      <td>{'synonyms': [], 'en': 'Cowboy Bebop', 'ja': '...</td>\n",
       "      <td>1998-04-03</td>\n",
       "      <td>1999-04-24</td>\n",
       "      <td>Crime is timeless. By the year 2071, humanity ...</td>\n",
       "      <td>1731562</td>\n",
       "      <td>892212</td>\n",
       "      <td>white</td>\n",
       "      <td>tv</td>\n",
       "      <td>finished_airing</td>\n",
       "      <td>26</td>\n",
       "      <td>{'year': 1998, 'season': 'spring'}</td>\n",
       "      <td>original</td>\n",
       "      <td>1440</td>\n",
       "      <td>[{'id': 14, 'name': 'Sunrise'}]</td>\n",
       "      <td>[{'anime_id': 5, 'relation': 'side_story'}, {'...</td>\n",
       "      <td>[{'anime_id': 205, 'num_recommendations': 118}...</td>\n",
       "      <td>['Action', 'Adult Cast', 'Award Winning', 'Sci...</td>\n",
       "    </tr>\n",
       "    <tr>\n",
       "      <th>1</th>\n",
       "      <td>5</td>\n",
       "      <td>Cowboy Bebop: Tengoku no Tobira</td>\n",
       "      <td>{'medium': 'https://api-cdn.myanimelist.net/im...</td>\n",
       "      <td>{'synonyms': [\"Cowboy Bebop: Knockin' on Heave...</td>\n",
       "      <td>2001-09-01</td>\n",
       "      <td>2001-09-01</td>\n",
       "      <td>Another day, another bounty—such is the life o...</td>\n",
       "      <td>353984</td>\n",
       "      <td>202526</td>\n",
       "      <td>white</td>\n",
       "      <td>movie</td>\n",
       "      <td>finished_airing</td>\n",
       "      <td>1</td>\n",
       "      <td>{'year': 2001, 'season': 'summer'}</td>\n",
       "      <td>original</td>\n",
       "      <td>6911</td>\n",
       "      <td>[{'id': 4, 'name': 'Bones'}]</td>\n",
       "      <td>[{'anime_id': 1, 'relation': 'parent_story'}]</td>\n",
       "      <td>[{'anime_id': 4106, 'num_recommendations': 3},...</td>\n",
       "      <td>['Action', 'Adult Cast', 'Sci-Fi', 'Space']</td>\n",
       "    </tr>\n",
       "    <tr>\n",
       "      <th>2</th>\n",
       "      <td>6</td>\n",
       "      <td>Trigun</td>\n",
       "      <td>{'medium': 'https://api-cdn.myanimelist.net/im...</td>\n",
       "      <td>{'synonyms': [], 'en': 'Trigun', 'ja': 'トライガン'}</td>\n",
       "      <td>1998-04-01</td>\n",
       "      <td>1998-09-30</td>\n",
       "      <td>Vash the Stampede is the man with a $$60,000,0...</td>\n",
       "      <td>707864</td>\n",
       "      <td>347350</td>\n",
       "      <td>white</td>\n",
       "      <td>tv</td>\n",
       "      <td>finished_airing</td>\n",
       "      <td>26</td>\n",
       "      <td>{'year': 1998, 'season': 'spring'}</td>\n",
       "      <td>manga</td>\n",
       "      <td>1480</td>\n",
       "      <td>[{'id': 11, 'name': 'Madhouse'}]</td>\n",
       "      <td>[{'anime_id': 4106, 'relation': 'side_story'},...</td>\n",
       "      <td>[{'anime_id': 1, 'num_recommendations': 85}, {...</td>\n",
       "      <td>['Action', 'Adult Cast', 'Adventure', 'Sci-Fi'...</td>\n",
       "    </tr>\n",
       "    <tr>\n",
       "      <th>3</th>\n",
       "      <td>7</td>\n",
       "      <td>Witch Hunter Robin</td>\n",
       "      <td>{'medium': 'https://api-cdn.myanimelist.net/im...</td>\n",
       "      <td>{'synonyms': ['WHR'], 'en': 'Witch Hunter Robi...</td>\n",
       "      <td>2002-07-03</td>\n",
       "      <td>2002-12-25</td>\n",
       "      <td>Robin Sena is a powerful craft user drafted in...</td>\n",
       "      <td>110305</td>\n",
       "      <td>42443</td>\n",
       "      <td>white</td>\n",
       "      <td>tv</td>\n",
       "      <td>finished_airing</td>\n",
       "      <td>26</td>\n",
       "      <td>{'year': 2002, 'season': 'summer'}</td>\n",
       "      <td>original</td>\n",
       "      <td>1500</td>\n",
       "      <td>[{'id': 14, 'name': 'Sunrise'}]</td>\n",
       "      <td>[]</td>\n",
       "      <td>[{'anime_id': 2025, 'num_recommendations': 12}...</td>\n",
       "      <td>['Action', 'Detective', 'Drama', 'Mystery', 'S...</td>\n",
       "    </tr>\n",
       "    <tr>\n",
       "      <th>4</th>\n",
       "      <td>8</td>\n",
       "      <td>Bouken Ou Beet</td>\n",
       "      <td>{'medium': 'https://api-cdn.myanimelist.net/im...</td>\n",
       "      <td>{'synonyms': ['Adventure King Beet'], 'en': 'B...</td>\n",
       "      <td>2004-09-30</td>\n",
       "      <td>2005-09-29</td>\n",
       "      <td>It is the dark century and the people are suff...</td>\n",
       "      <td>14822</td>\n",
       "      <td>6353</td>\n",
       "      <td>white</td>\n",
       "      <td>tv</td>\n",
       "      <td>finished_airing</td>\n",
       "      <td>52</td>\n",
       "      <td>{'year': 2004, 'season': 'fall'}</td>\n",
       "      <td>manga</td>\n",
       "      <td>1380</td>\n",
       "      <td>[{'id': 18, 'name': 'Toei Animation'}]</td>\n",
       "      <td>[{'anime_id': 1123, 'relation': 'sequel'}]</td>\n",
       "      <td>[{'anime_id': 417, 'num_recommendations': 2}, ...</td>\n",
       "      <td>['Adventure', 'Fantasy', 'Shounen', 'Supernatu...</td>\n",
       "    </tr>\n",
       "  </tbody>\n",
       "</table>\n",
       "</div>"
      ],
      "text/plain": [
       "   anime_id                            title  \\\n",
       "0         1                     Cowboy Bebop   \n",
       "1         5  Cowboy Bebop: Tengoku no Tobira   \n",
       "2         6                           Trigun   \n",
       "3         7               Witch Hunter Robin   \n",
       "4         8                   Bouken Ou Beet   \n",
       "\n",
       "                                        main_picture  \\\n",
       "0  {'medium': 'https://api-cdn.myanimelist.net/im...   \n",
       "1  {'medium': 'https://api-cdn.myanimelist.net/im...   \n",
       "2  {'medium': 'https://api-cdn.myanimelist.net/im...   \n",
       "3  {'medium': 'https://api-cdn.myanimelist.net/im...   \n",
       "4  {'medium': 'https://api-cdn.myanimelist.net/im...   \n",
       "\n",
       "                                  alternative_titles  start_date    end_date  \\\n",
       "0  {'synonyms': [], 'en': 'Cowboy Bebop', 'ja': '...  1998-04-03  1999-04-24   \n",
       "1  {'synonyms': [\"Cowboy Bebop: Knockin' on Heave...  2001-09-01  2001-09-01   \n",
       "2    {'synonyms': [], 'en': 'Trigun', 'ja': 'トライガン'}  1998-04-01  1998-09-30   \n",
       "3  {'synonyms': ['WHR'], 'en': 'Witch Hunter Robi...  2002-07-03  2002-12-25   \n",
       "4  {'synonyms': ['Adventure King Beet'], 'en': 'B...  2004-09-30  2005-09-29   \n",
       "\n",
       "                                            synopsis  num_list_users  \\\n",
       "0  Crime is timeless. By the year 2071, humanity ...         1731562   \n",
       "1  Another day, another bounty—such is the life o...          353984   \n",
       "2  Vash the Stampede is the man with a $$60,000,0...          707864   \n",
       "3  Robin Sena is a powerful craft user drafted in...          110305   \n",
       "4  It is the dark century and the people are suff...           14822   \n",
       "\n",
       "   num_scoring_users   nsfw medium           status  num_episodes  \\\n",
       "0             892212  white     tv  finished_airing            26   \n",
       "1             202526  white  movie  finished_airing             1   \n",
       "2             347350  white     tv  finished_airing            26   \n",
       "3              42443  white     tv  finished_airing            26   \n",
       "4               6353  white     tv  finished_airing            52   \n",
       "\n",
       "                         start_season    source  average_episode_duration  \\\n",
       "0  {'year': 1998, 'season': 'spring'}  original                      1440   \n",
       "1  {'year': 2001, 'season': 'summer'}  original                      6911   \n",
       "2  {'year': 1998, 'season': 'spring'}     manga                      1480   \n",
       "3  {'year': 2002, 'season': 'summer'}  original                      1500   \n",
       "4    {'year': 2004, 'season': 'fall'}     manga                      1380   \n",
       "\n",
       "                                  studios  \\\n",
       "0         [{'id': 14, 'name': 'Sunrise'}]   \n",
       "1            [{'id': 4, 'name': 'Bones'}]   \n",
       "2        [{'id': 11, 'name': 'Madhouse'}]   \n",
       "3         [{'id': 14, 'name': 'Sunrise'}]   \n",
       "4  [{'id': 18, 'name': 'Toei Animation'}]   \n",
       "\n",
       "                                       related_anime  \\\n",
       "0  [{'anime_id': 5, 'relation': 'side_story'}, {'...   \n",
       "1      [{'anime_id': 1, 'relation': 'parent_story'}]   \n",
       "2  [{'anime_id': 4106, 'relation': 'side_story'},...   \n",
       "3                                                 []   \n",
       "4         [{'anime_id': 1123, 'relation': 'sequel'}]   \n",
       "\n",
       "                                     recommendations  \\\n",
       "0  [{'anime_id': 205, 'num_recommendations': 118}...   \n",
       "1  [{'anime_id': 4106, 'num_recommendations': 3},...   \n",
       "2  [{'anime_id': 1, 'num_recommendations': 85}, {...   \n",
       "3  [{'anime_id': 2025, 'num_recommendations': 12}...   \n",
       "4  [{'anime_id': 417, 'num_recommendations': 2}, ...   \n",
       "\n",
       "                                              genres  \n",
       "0  ['Action', 'Adult Cast', 'Award Winning', 'Sci...  \n",
       "1        ['Action', 'Adult Cast', 'Sci-Fi', 'Space']  \n",
       "2  ['Action', 'Adult Cast', 'Adventure', 'Sci-Fi'...  \n",
       "3  ['Action', 'Detective', 'Drama', 'Mystery', 'S...  \n",
       "4  ['Adventure', 'Fantasy', 'Shounen', 'Supernatu...  "
      ]
     },
     "execution_count": 3,
     "metadata": {},
     "output_type": "execute_result"
    }
   ],
   "source": [
    "anime.head()"
   ]
  },
  {
   "cell_type": "code",
   "execution_count": 4,
   "id": "c10985b1",
   "metadata": {
    "scrolled": true
   },
   "outputs": [],
   "source": [
    "#anime.count()"
   ]
  },
  {
   "cell_type": "code",
   "execution_count": 5,
   "id": "c4d416ce",
   "metadata": {},
   "outputs": [
    {
     "data": {
      "text/html": [
       "<div>\n",
       "<style scoped>\n",
       "    .dataframe tbody tr th:only-of-type {\n",
       "        vertical-align: middle;\n",
       "    }\n",
       "\n",
       "    .dataframe tbody tr th {\n",
       "        vertical-align: top;\n",
       "    }\n",
       "\n",
       "    .dataframe thead th {\n",
       "        text-align: right;\n",
       "    }\n",
       "</style>\n",
       "<table border=\"1\" class=\"dataframe\">\n",
       "  <thead>\n",
       "    <tr style=\"text-align: right;\">\n",
       "      <th></th>\n",
       "      <th>uid</th>\n",
       "      <th>status</th>\n",
       "      <th>score</th>\n",
       "      <th>num_episodes_watched</th>\n",
       "      <th>is_rewatching</th>\n",
       "      <th>start_date</th>\n",
       "      <th>finish_date</th>\n",
       "      <th>priority</th>\n",
       "      <th>num_times_rewatched</th>\n",
       "      <th>rewatch_value</th>\n",
       "      <th>updated_at</th>\n",
       "      <th>username</th>\n",
       "    </tr>\n",
       "  </thead>\n",
       "  <tbody>\n",
       "    <tr>\n",
       "      <th>0</th>\n",
       "      <td>6408</td>\n",
       "      <td>plan_to_watch</td>\n",
       "      <td>0</td>\n",
       "      <td>0</td>\n",
       "      <td>False</td>\n",
       "      <td>NaN</td>\n",
       "      <td>NaN</td>\n",
       "      <td>-1</td>\n",
       "      <td>-1</td>\n",
       "      <td>-1</td>\n",
       "      <td>2022-03-16T23:49:49+00:00</td>\n",
       "      <td>Imfckingsleepy</td>\n",
       "    </tr>\n",
       "    <tr>\n",
       "      <th>1</th>\n",
       "      <td>52034</td>\n",
       "      <td>plan_to_watch</td>\n",
       "      <td>0</td>\n",
       "      <td>0</td>\n",
       "      <td>False</td>\n",
       "      <td>NaN</td>\n",
       "      <td>NaN</td>\n",
       "      <td>-1</td>\n",
       "      <td>-1</td>\n",
       "      <td>-1</td>\n",
       "      <td>2022-06-18T22:15:01+00:00</td>\n",
       "      <td>Imfckingsleepy</td>\n",
       "    </tr>\n",
       "    <tr>\n",
       "      <th>2</th>\n",
       "      <td>41380</td>\n",
       "      <td>completed</td>\n",
       "      <td>6</td>\n",
       "      <td>12</td>\n",
       "      <td>False</td>\n",
       "      <td>NaN</td>\n",
       "      <td>NaN</td>\n",
       "      <td>-1</td>\n",
       "      <td>-1</td>\n",
       "      <td>-1</td>\n",
       "      <td>2022-03-19T01:50:33+00:00</td>\n",
       "      <td>Imfckingsleepy</td>\n",
       "    </tr>\n",
       "    <tr>\n",
       "      <th>3</th>\n",
       "      <td>44881</td>\n",
       "      <td>completed</td>\n",
       "      <td>7</td>\n",
       "      <td>12</td>\n",
       "      <td>False</td>\n",
       "      <td>NaN</td>\n",
       "      <td>2022-03-19</td>\n",
       "      <td>-1</td>\n",
       "      <td>-1</td>\n",
       "      <td>-1</td>\n",
       "      <td>2022-03-19T13:55:35+00:00</td>\n",
       "      <td>Imfckingsleepy</td>\n",
       "    </tr>\n",
       "    <tr>\n",
       "      <th>4</th>\n",
       "      <td>35248</td>\n",
       "      <td>plan_to_watch</td>\n",
       "      <td>0</td>\n",
       "      <td>0</td>\n",
       "      <td>False</td>\n",
       "      <td>NaN</td>\n",
       "      <td>NaN</td>\n",
       "      <td>-1</td>\n",
       "      <td>-1</td>\n",
       "      <td>-1</td>\n",
       "      <td>2022-08-28T20:05:54+00:00</td>\n",
       "      <td>Imfckingsleepy</td>\n",
       "    </tr>\n",
       "  </tbody>\n",
       "</table>\n",
       "</div>"
      ],
      "text/plain": [
       "     uid         status  score  num_episodes_watched  is_rewatching  \\\n",
       "0   6408  plan_to_watch      0                     0          False   \n",
       "1  52034  plan_to_watch      0                     0          False   \n",
       "2  41380      completed      6                    12          False   \n",
       "3  44881      completed      7                    12          False   \n",
       "4  35248  plan_to_watch      0                     0          False   \n",
       "\n",
       "  start_date finish_date  priority  num_times_rewatched  rewatch_value  \\\n",
       "0        NaN         NaN        -1                   -1             -1   \n",
       "1        NaN         NaN        -1                   -1             -1   \n",
       "2        NaN         NaN        -1                   -1             -1   \n",
       "3        NaN  2022-03-19        -1                   -1             -1   \n",
       "4        NaN         NaN        -1                   -1             -1   \n",
       "\n",
       "                  updated_at        username  \n",
       "0  2022-03-16T23:49:49+00:00  Imfckingsleepy  \n",
       "1  2022-06-18T22:15:01+00:00  Imfckingsleepy  \n",
       "2  2022-03-19T01:50:33+00:00  Imfckingsleepy  \n",
       "3  2022-03-19T13:55:35+00:00  Imfckingsleepy  \n",
       "4  2022-08-28T20:05:54+00:00  Imfckingsleepy  "
      ]
     },
     "execution_count": 5,
     "metadata": {},
     "output_type": "execute_result"
    }
   ],
   "source": [
    "user.head()"
   ]
  },
  {
   "cell_type": "code",
   "execution_count": 6,
   "id": "33a1a9e1",
   "metadata": {},
   "outputs": [
    {
     "data": {
      "text/plain": [
       "uid                     7360134\n",
       "status                  7360127\n",
       "score                   7360134\n",
       "num_episodes_watched    7360134\n",
       "is_rewatching           7360134\n",
       "start_date              1225783\n",
       "finish_date             1560725\n",
       "priority                7360134\n",
       "num_times_rewatched     7360134\n",
       "rewatch_value           7360134\n",
       "updated_at              7360134\n",
       "username                7360134\n",
       "dtype: int64"
      ]
     },
     "execution_count": 6,
     "metadata": {},
     "output_type": "execute_result"
    }
   ],
   "source": [
    "user.count()"
   ]
  },
  {
   "cell_type": "code",
   "execution_count": 7,
   "id": "67de7bfb",
   "metadata": {},
   "outputs": [],
   "source": [
    "user.rename(columns={\"uid\":\"anime_id\"},inplace=True)"
   ]
  },
  {
   "cell_type": "code",
   "execution_count": 8,
   "id": "b228ee2e",
   "metadata": {},
   "outputs": [
    {
     "data": {
      "text/plain": [
       "array(['plan_to_watch', 'completed', 'dropped', 'watching', 'on_hold',\n",
       "       nan], dtype=object)"
      ]
     },
     "execution_count": 8,
     "metadata": {},
     "output_type": "execute_result"
    }
   ],
   "source": [
    "user.status.unique()"
   ]
  },
  {
   "cell_type": "code",
   "execution_count": 9,
   "id": "30019cfb",
   "metadata": {},
   "outputs": [],
   "source": [
    "user_cleaned=user[user.status!=\"plan_to_watch\"]"
   ]
  },
  {
   "cell_type": "code",
   "execution_count": 10,
   "id": "71bfd347",
   "metadata": {},
   "outputs": [],
   "source": [
    "user_cleaned=user_cleaned[user_cleaned.score!=0]"
   ]
  },
  {
   "cell_type": "code",
   "execution_count": 11,
   "id": "d8018319",
   "metadata": {},
   "outputs": [
    {
     "data": {
      "text/plain": [
       "anime_id                3810865\n",
       "status                  3810863\n",
       "score                   3810865\n",
       "num_episodes_watched    3810865\n",
       "is_rewatching           3810865\n",
       "start_date               879110\n",
       "finish_date             1283776\n",
       "priority                3810865\n",
       "num_times_rewatched     3810865\n",
       "rewatch_value           3810865\n",
       "updated_at              3810865\n",
       "username                3810865\n",
       "dtype: int64"
      ]
     },
     "execution_count": 11,
     "metadata": {},
     "output_type": "execute_result"
    }
   ],
   "source": [
    "user_cleaned.count()"
   ]
  },
  {
   "cell_type": "code",
   "execution_count": 12,
   "id": "8b7377fb",
   "metadata": {},
   "outputs": [],
   "source": [
    "user_cleaned=user_cleaned[['anime_id','username','score']]"
   ]
  },
  {
   "cell_type": "code",
   "execution_count": 13,
   "id": "245d2bf3",
   "metadata": {},
   "outputs": [
    {
     "data": {
      "text/html": [
       "<div>\n",
       "<style scoped>\n",
       "    .dataframe tbody tr th:only-of-type {\n",
       "        vertical-align: middle;\n",
       "    }\n",
       "\n",
       "    .dataframe tbody tr th {\n",
       "        vertical-align: top;\n",
       "    }\n",
       "\n",
       "    .dataframe thead th {\n",
       "        text-align: right;\n",
       "    }\n",
       "</style>\n",
       "<table border=\"1\" class=\"dataframe\">\n",
       "  <thead>\n",
       "    <tr style=\"text-align: right;\">\n",
       "      <th></th>\n",
       "      <th>anime_id</th>\n",
       "      <th>username</th>\n",
       "      <th>score</th>\n",
       "    </tr>\n",
       "  </thead>\n",
       "  <tbody>\n",
       "    <tr>\n",
       "      <th>2</th>\n",
       "      <td>41380</td>\n",
       "      <td>Imfckingsleepy</td>\n",
       "      <td>6</td>\n",
       "    </tr>\n",
       "    <tr>\n",
       "      <th>3</th>\n",
       "      <td>44881</td>\n",
       "      <td>Imfckingsleepy</td>\n",
       "      <td>7</td>\n",
       "    </tr>\n",
       "    <tr>\n",
       "      <th>5</th>\n",
       "      <td>31646</td>\n",
       "      <td>Imfckingsleepy</td>\n",
       "      <td>9</td>\n",
       "    </tr>\n",
       "    <tr>\n",
       "      <th>7</th>\n",
       "      <td>38101</td>\n",
       "      <td>Imfckingsleepy</td>\n",
       "      <td>6</td>\n",
       "    </tr>\n",
       "    <tr>\n",
       "      <th>8</th>\n",
       "      <td>39783</td>\n",
       "      <td>Imfckingsleepy</td>\n",
       "      <td>3</td>\n",
       "    </tr>\n",
       "  </tbody>\n",
       "</table>\n",
       "</div>"
      ],
      "text/plain": [
       "   anime_id        username  score\n",
       "2     41380  Imfckingsleepy      6\n",
       "3     44881  Imfckingsleepy      7\n",
       "5     31646  Imfckingsleepy      9\n",
       "7     38101  Imfckingsleepy      6\n",
       "8     39783  Imfckingsleepy      3"
      ]
     },
     "execution_count": 13,
     "metadata": {},
     "output_type": "execute_result"
    }
   ],
   "source": [
    "user_cleaned.head()"
   ]
  },
  {
   "cell_type": "code",
   "execution_count": 14,
   "id": "f64af789",
   "metadata": {},
   "outputs": [
    {
     "data": {
      "text/plain": [
       "0            1\n",
       "1            5\n",
       "2            6\n",
       "3            7\n",
       "4            8\n",
       "         ...  \n",
       "11294    54638\n",
       "11295    54643\n",
       "11296    54644\n",
       "11297    54650\n",
       "11298    54660\n",
       "Name: anime_id, Length: 11299, dtype: int64"
      ]
     },
     "execution_count": 14,
     "metadata": {},
     "output_type": "execute_result"
    }
   ],
   "source": [
    "anime_id = anime['anime_id']\n",
    "anime_id"
   ]
  },
  {
   "cell_type": "code",
   "execution_count": 15,
   "id": "da93fadd",
   "metadata": {},
   "outputs": [],
   "source": [
    "user_cleaned = user_cleaned[user_cleaned['anime_id'].isin(anime_id)]"
   ]
  },
  {
   "cell_type": "code",
   "execution_count": 16,
   "id": "300739d9",
   "metadata": {},
   "outputs": [
    {
     "data": {
      "text/html": [
       "<div>\n",
       "<style scoped>\n",
       "    .dataframe tbody tr th:only-of-type {\n",
       "        vertical-align: middle;\n",
       "    }\n",
       "\n",
       "    .dataframe tbody tr th {\n",
       "        vertical-align: top;\n",
       "    }\n",
       "\n",
       "    .dataframe thead th {\n",
       "        text-align: right;\n",
       "    }\n",
       "</style>\n",
       "<table border=\"1\" class=\"dataframe\">\n",
       "  <thead>\n",
       "    <tr style=\"text-align: right;\">\n",
       "      <th></th>\n",
       "      <th>anime_id</th>\n",
       "      <th>username</th>\n",
       "      <th>score</th>\n",
       "    </tr>\n",
       "  </thead>\n",
       "  <tbody>\n",
       "    <tr>\n",
       "      <th>5</th>\n",
       "      <td>31646</td>\n",
       "      <td>Imfckingsleepy</td>\n",
       "      <td>9</td>\n",
       "    </tr>\n",
       "    <tr>\n",
       "      <th>7</th>\n",
       "      <td>38101</td>\n",
       "      <td>Imfckingsleepy</td>\n",
       "      <td>6</td>\n",
       "    </tr>\n",
       "    <tr>\n",
       "      <th>9</th>\n",
       "      <td>41457</td>\n",
       "      <td>Imfckingsleepy</td>\n",
       "      <td>9</td>\n",
       "    </tr>\n",
       "    <tr>\n",
       "      <th>12</th>\n",
       "      <td>42847</td>\n",
       "      <td>Imfckingsleepy</td>\n",
       "      <td>8</td>\n",
       "    </tr>\n",
       "    <tr>\n",
       "      <th>19</th>\n",
       "      <td>6547</td>\n",
       "      <td>Imfckingsleepy</td>\n",
       "      <td>9</td>\n",
       "    </tr>\n",
       "  </tbody>\n",
       "</table>\n",
       "</div>"
      ],
      "text/plain": [
       "    anime_id        username  score\n",
       "5      31646  Imfckingsleepy      9\n",
       "7      38101  Imfckingsleepy      6\n",
       "9      41457  Imfckingsleepy      9\n",
       "12     42847  Imfckingsleepy      8\n",
       "19      6547  Imfckingsleepy      9"
      ]
     },
     "execution_count": 16,
     "metadata": {},
     "output_type": "execute_result"
    }
   ],
   "source": [
    "user_cleaned.head()"
   ]
  },
  {
   "cell_type": "code",
   "execution_count": null,
   "id": "65835ded",
   "metadata": {},
   "outputs": [],
   "source": []
  },
  {
   "cell_type": "code",
   "execution_count": 17,
   "id": "042e1099",
   "metadata": {},
   "outputs": [],
   "source": [
    "from sklearn import preprocessing\n",
    "le = preprocessing.LabelEncoder()"
   ]
  },
  {
   "cell_type": "code",
   "execution_count": 18,
   "id": "ebf3e3f2",
   "metadata": {},
   "outputs": [],
   "source": [
    "user_cleaned['user_id']=le.fit_transform(user_cleaned.username)"
   ]
  },
  {
   "cell_type": "code",
   "execution_count": 19,
   "id": "c7934212",
   "metadata": {},
   "outputs": [],
   "source": [
    "user_cleaned['extra']=1"
   ]
  },
  {
   "cell_type": "code",
   "execution_count": 20,
   "id": "00bb9102",
   "metadata": {},
   "outputs": [
    {
     "data": {
      "text/plain": [
       "(1782688, 5)"
      ]
     },
     "execution_count": 20,
     "metadata": {},
     "output_type": "execute_result"
    }
   ],
   "source": [
    "user_cleaned.shape"
   ]
  },
  {
   "cell_type": "code",
   "execution_count": 21,
   "id": "7bd2fbf1",
   "metadata": {},
   "outputs": [],
   "source": [
    "tryt=user_cleaned.groupby('user_id', as_index=False).sum()"
   ]
  },
  {
   "cell_type": "code",
   "execution_count": 22,
   "id": "f3db2372",
   "metadata": {},
   "outputs": [
    {
     "data": {
      "text/html": [
       "<div>\n",
       "<style scoped>\n",
       "    .dataframe tbody tr th:only-of-type {\n",
       "        vertical-align: middle;\n",
       "    }\n",
       "\n",
       "    .dataframe tbody tr th {\n",
       "        vertical-align: top;\n",
       "    }\n",
       "\n",
       "    .dataframe thead th {\n",
       "        text-align: right;\n",
       "    }\n",
       "</style>\n",
       "<table border=\"1\" class=\"dataframe\">\n",
       "  <thead>\n",
       "    <tr style=\"text-align: right;\">\n",
       "      <th></th>\n",
       "      <th>user_id</th>\n",
       "      <th>anime_id</th>\n",
       "      <th>score</th>\n",
       "      <th>extra</th>\n",
       "    </tr>\n",
       "  </thead>\n",
       "  <tbody>\n",
       "    <tr>\n",
       "      <th>0</th>\n",
       "      <td>0</td>\n",
       "      <td>1253489</td>\n",
       "      <td>652</td>\n",
       "      <td>94</td>\n",
       "    </tr>\n",
       "    <tr>\n",
       "      <th>1</th>\n",
       "      <td>1</td>\n",
       "      <td>6110297</td>\n",
       "      <td>1579</td>\n",
       "      <td>202</td>\n",
       "    </tr>\n",
       "    <tr>\n",
       "      <th>2</th>\n",
       "      <td>2</td>\n",
       "      <td>410411</td>\n",
       "      <td>125</td>\n",
       "      <td>13</td>\n",
       "    </tr>\n",
       "    <tr>\n",
       "      <th>3</th>\n",
       "      <td>3</td>\n",
       "      <td>1327307</td>\n",
       "      <td>358</td>\n",
       "      <td>51</td>\n",
       "    </tr>\n",
       "    <tr>\n",
       "      <th>4</th>\n",
       "      <td>4</td>\n",
       "      <td>1525495</td>\n",
       "      <td>375</td>\n",
       "      <td>49</td>\n",
       "    </tr>\n",
       "    <tr>\n",
       "      <th>...</th>\n",
       "      <td>...</td>\n",
       "      <td>...</td>\n",
       "      <td>...</td>\n",
       "      <td>...</td>\n",
       "    </tr>\n",
       "    <tr>\n",
       "      <th>16305</th>\n",
       "      <td>16305</td>\n",
       "      <td>3181981</td>\n",
       "      <td>687</td>\n",
       "      <td>99</td>\n",
       "    </tr>\n",
       "    <tr>\n",
       "      <th>16306</th>\n",
       "      <td>16306</td>\n",
       "      <td>391136</td>\n",
       "      <td>117</td>\n",
       "      <td>13</td>\n",
       "    </tr>\n",
       "    <tr>\n",
       "      <th>16307</th>\n",
       "      <td>16307</td>\n",
       "      <td>625954</td>\n",
       "      <td>251</td>\n",
       "      <td>32</td>\n",
       "    </tr>\n",
       "    <tr>\n",
       "      <th>16308</th>\n",
       "      <td>16308</td>\n",
       "      <td>3790047</td>\n",
       "      <td>829</td>\n",
       "      <td>112</td>\n",
       "    </tr>\n",
       "    <tr>\n",
       "      <th>16309</th>\n",
       "      <td>16309</td>\n",
       "      <td>32828</td>\n",
       "      <td>8</td>\n",
       "      <td>1</td>\n",
       "    </tr>\n",
       "  </tbody>\n",
       "</table>\n",
       "<p>16310 rows × 4 columns</p>\n",
       "</div>"
      ],
      "text/plain": [
       "       user_id  anime_id  score  extra\n",
       "0            0   1253489    652     94\n",
       "1            1   6110297   1579    202\n",
       "2            2    410411    125     13\n",
       "3            3   1327307    358     51\n",
       "4            4   1525495    375     49\n",
       "...        ...       ...    ...    ...\n",
       "16305    16305   3181981    687     99\n",
       "16306    16306    391136    117     13\n",
       "16307    16307    625954    251     32\n",
       "16308    16308   3790047    829    112\n",
       "16309    16309     32828      8      1\n",
       "\n",
       "[16310 rows x 4 columns]"
      ]
     },
     "execution_count": 22,
     "metadata": {},
     "output_type": "execute_result"
    }
   ],
   "source": [
    "tryt"
   ]
  },
  {
   "cell_type": "code",
   "execution_count": 23,
   "id": "7947a3fd",
   "metadata": {},
   "outputs": [],
   "source": [
    "trya=user_cleaned.groupby('anime_id', as_index=False).sum()"
   ]
  },
  {
   "cell_type": "code",
   "execution_count": 24,
   "id": "b728fd09",
   "metadata": {},
   "outputs": [
    {
     "data": {
      "text/html": [
       "<div>\n",
       "<style scoped>\n",
       "    .dataframe tbody tr th:only-of-type {\n",
       "        vertical-align: middle;\n",
       "    }\n",
       "\n",
       "    .dataframe tbody tr th {\n",
       "        vertical-align: top;\n",
       "    }\n",
       "\n",
       "    .dataframe thead th {\n",
       "        text-align: right;\n",
       "    }\n",
       "</style>\n",
       "<table border=\"1\" class=\"dataframe\">\n",
       "  <thead>\n",
       "    <tr style=\"text-align: right;\">\n",
       "      <th></th>\n",
       "      <th>anime_id</th>\n",
       "      <th>score</th>\n",
       "      <th>user_id</th>\n",
       "      <th>extra</th>\n",
       "    </tr>\n",
       "  </thead>\n",
       "  <tbody>\n",
       "    <tr>\n",
       "      <th>0</th>\n",
       "      <td>1</td>\n",
       "      <td>34911</td>\n",
       "      <td>32995405</td>\n",
       "      <td>4119</td>\n",
       "    </tr>\n",
       "    <tr>\n",
       "      <th>1</th>\n",
       "      <td>5</td>\n",
       "      <td>10622</td>\n",
       "      <td>10413738</td>\n",
       "      <td>1301</td>\n",
       "    </tr>\n",
       "    <tr>\n",
       "      <th>2</th>\n",
       "      <td>6</td>\n",
       "      <td>13263</td>\n",
       "      <td>13218476</td>\n",
       "      <td>1664</td>\n",
       "    </tr>\n",
       "    <tr>\n",
       "      <th>3</th>\n",
       "      <td>7</td>\n",
       "      <td>1149</td>\n",
       "      <td>1391430</td>\n",
       "      <td>169</td>\n",
       "    </tr>\n",
       "    <tr>\n",
       "      <th>4</th>\n",
       "      <td>8</td>\n",
       "      <td>188</td>\n",
       "      <td>228395</td>\n",
       "      <td>28</td>\n",
       "    </tr>\n",
       "    <tr>\n",
       "      <th>...</th>\n",
       "      <td>...</td>\n",
       "      <td>...</td>\n",
       "      <td>...</td>\n",
       "      <td>...</td>\n",
       "    </tr>\n",
       "    <tr>\n",
       "      <th>9401</th>\n",
       "      <td>54426</td>\n",
       "      <td>9</td>\n",
       "      <td>24783</td>\n",
       "      <td>2</td>\n",
       "    </tr>\n",
       "    <tr>\n",
       "      <th>9402</th>\n",
       "      <td>54427</td>\n",
       "      <td>4</td>\n",
       "      <td>13388</td>\n",
       "      <td>1</td>\n",
       "    </tr>\n",
       "    <tr>\n",
       "      <th>9403</th>\n",
       "      <td>54428</td>\n",
       "      <td>5</td>\n",
       "      <td>6342</td>\n",
       "      <td>1</td>\n",
       "    </tr>\n",
       "    <tr>\n",
       "      <th>9404</th>\n",
       "      <td>54429</td>\n",
       "      <td>11</td>\n",
       "      <td>17737</td>\n",
       "      <td>2</td>\n",
       "    </tr>\n",
       "    <tr>\n",
       "      <th>9405</th>\n",
       "      <td>54636</td>\n",
       "      <td>6</td>\n",
       "      <td>1851</td>\n",
       "      <td>1</td>\n",
       "    </tr>\n",
       "  </tbody>\n",
       "</table>\n",
       "<p>9406 rows × 4 columns</p>\n",
       "</div>"
      ],
      "text/plain": [
       "      anime_id  score   user_id  extra\n",
       "0            1  34911  32995405   4119\n",
       "1            5  10622  10413738   1301\n",
       "2            6  13263  13218476   1664\n",
       "3            7   1149   1391430    169\n",
       "4            8    188    228395     28\n",
       "...        ...    ...       ...    ...\n",
       "9401     54426      9     24783      2\n",
       "9402     54427      4     13388      1\n",
       "9403     54428      5      6342      1\n",
       "9404     54429     11     17737      2\n",
       "9405     54636      6      1851      1\n",
       "\n",
       "[9406 rows x 4 columns]"
      ]
     },
     "execution_count": 24,
     "metadata": {},
     "output_type": "execute_result"
    }
   ],
   "source": [
    "trya"
   ]
  },
  {
   "cell_type": "code",
   "execution_count": 25,
   "id": "be1f69b9",
   "metadata": {},
   "outputs": [],
   "source": [
    "try_userid=tryt['user_id'][tryt['extra']>50]"
   ]
  },
  {
   "cell_type": "code",
   "execution_count": 26,
   "id": "6f835c52",
   "metadata": {},
   "outputs": [],
   "source": [
    "try_animeid=trya['anime_id'][trya['extra']>30]"
   ]
  },
  {
   "cell_type": "code",
   "execution_count": 27,
   "id": "9e44ac65",
   "metadata": {},
   "outputs": [
    {
     "data": {
      "text/plain": [
       "0           1\n",
       "1           5\n",
       "2           6\n",
       "3           7\n",
       "5          15\n",
       "        ...  \n",
       "9265    53414\n",
       "9275    53525\n",
       "9278    53581\n",
       "9285    53599\n",
       "9354    54026\n",
       "Name: anime_id, Length: 3603, dtype: int64"
      ]
     },
     "execution_count": 27,
     "metadata": {},
     "output_type": "execute_result"
    }
   ],
   "source": [
    "try_animeid"
   ]
  },
  {
   "cell_type": "code",
   "execution_count": 28,
   "id": "2da0827c",
   "metadata": {},
   "outputs": [
    {
     "data": {
      "text/plain": [
       "1782688"
      ]
     },
     "execution_count": 28,
     "metadata": {},
     "output_type": "execute_result"
    }
   ],
   "source": [
    "user_cleaned.score.value_counts().sum()"
   ]
  },
  {
   "cell_type": "code",
   "execution_count": 29,
   "id": "fbc02d74",
   "metadata": {},
   "outputs": [],
   "source": [
    "user_cleaned = user_cleaned[user_cleaned['user_id'].isin(try_userid)]"
   ]
  },
  {
   "cell_type": "code",
   "execution_count": 30,
   "id": "6fd06572",
   "metadata": {},
   "outputs": [],
   "source": [
    "user_cleaned = user_cleaned[user_cleaned['anime_id'].isin(try_animeid)]"
   ]
  },
  {
   "cell_type": "code",
   "execution_count": 31,
   "id": "07b9f476",
   "metadata": {},
   "outputs": [
    {
     "data": {
      "text/plain": [
       "(1589389, 5)"
      ]
     },
     "execution_count": 31,
     "metadata": {},
     "output_type": "execute_result"
    }
   ],
   "source": [
    "user_cleaned.shape"
   ]
  },
  {
   "cell_type": "code",
   "execution_count": 32,
   "id": "783c16da",
   "metadata": {},
   "outputs": [
    {
     "data": {
      "text/html": [
       "<div>\n",
       "<style scoped>\n",
       "    .dataframe tbody tr th:only-of-type {\n",
       "        vertical-align: middle;\n",
       "    }\n",
       "\n",
       "    .dataframe tbody tr th {\n",
       "        vertical-align: top;\n",
       "    }\n",
       "\n",
       "    .dataframe thead th {\n",
       "        text-align: right;\n",
       "    }\n",
       "</style>\n",
       "<table border=\"1\" class=\"dataframe\">\n",
       "  <thead>\n",
       "    <tr style=\"text-align: right;\">\n",
       "      <th></th>\n",
       "      <th>anime_id</th>\n",
       "      <th>username</th>\n",
       "      <th>score</th>\n",
       "      <th>user_id</th>\n",
       "      <th>extra</th>\n",
       "    </tr>\n",
       "  </thead>\n",
       "  <tbody>\n",
       "    <tr>\n",
       "      <th>5</th>\n",
       "      <td>31646</td>\n",
       "      <td>Imfckingsleepy</td>\n",
       "      <td>9</td>\n",
       "      <td>4404</td>\n",
       "      <td>1</td>\n",
       "    </tr>\n",
       "    <tr>\n",
       "      <th>7</th>\n",
       "      <td>38101</td>\n",
       "      <td>Imfckingsleepy</td>\n",
       "      <td>6</td>\n",
       "      <td>4404</td>\n",
       "      <td>1</td>\n",
       "    </tr>\n",
       "    <tr>\n",
       "      <th>9</th>\n",
       "      <td>41457</td>\n",
       "      <td>Imfckingsleepy</td>\n",
       "      <td>9</td>\n",
       "      <td>4404</td>\n",
       "      <td>1</td>\n",
       "    </tr>\n",
       "    <tr>\n",
       "      <th>12</th>\n",
       "      <td>42847</td>\n",
       "      <td>Imfckingsleepy</td>\n",
       "      <td>8</td>\n",
       "      <td>4404</td>\n",
       "      <td>1</td>\n",
       "    </tr>\n",
       "    <tr>\n",
       "      <th>19</th>\n",
       "      <td>6547</td>\n",
       "      <td>Imfckingsleepy</td>\n",
       "      <td>9</td>\n",
       "      <td>4404</td>\n",
       "      <td>1</td>\n",
       "    </tr>\n",
       "  </tbody>\n",
       "</table>\n",
       "</div>"
      ],
      "text/plain": [
       "    anime_id        username  score  user_id  extra\n",
       "5      31646  Imfckingsleepy      9     4404      1\n",
       "7      38101  Imfckingsleepy      6     4404      1\n",
       "9      41457  Imfckingsleepy      9     4404      1\n",
       "12     42847  Imfckingsleepy      8     4404      1\n",
       "19      6547  Imfckingsleepy      9     4404      1"
      ]
     },
     "execution_count": 32,
     "metadata": {},
     "output_type": "execute_result"
    }
   ],
   "source": [
    "user_cleaned.head()"
   ]
  },
  {
   "cell_type": "code",
   "execution_count": 33,
   "id": "2d61e5c5",
   "metadata": {},
   "outputs": [],
   "source": [
    "user_cleaned.to_csv('user_cleaned.csv')\n"
   ]
  },
  {
   "cell_type": "code",
   "execution_count": 34,
   "id": "5a6c4079",
   "metadata": {},
   "outputs": [],
   "source": [
    "user_cleaned = pd.read_csv('user_cleaned.csv')\n",
    "anime = pd.read_csv('anime.csv')"
   ]
  },
  {
   "cell_type": "code",
   "execution_count": 35,
   "id": "241502e3",
   "metadata": {},
   "outputs": [
    {
     "data": {
      "text/plain": [
       "1589389"
      ]
     },
     "execution_count": 35,
     "metadata": {},
     "output_type": "execute_result"
    }
   ],
   "source": [
    "user_cleaned.score.value_counts().sum()"
   ]
  },
  {
   "cell_type": "code",
   "execution_count": 36,
   "id": "9cfd7cd5",
   "metadata": {},
   "outputs": [],
   "source": [
    "mergeduseritem = pd.merge(user_cleaned, anime, on ='anime_id')"
   ]
  },
  {
   "cell_type": "code",
   "execution_count": 37,
   "id": "e3df8a5f",
   "metadata": {},
   "outputs": [],
   "source": [
    "from sklearn.model_selection import train_test_split"
   ]
  },
  {
   "cell_type": "code",
   "execution_count": 38,
   "id": "7973287b",
   "metadata": {},
   "outputs": [],
   "source": [
    "ratings_train,ratings_test = train_test_split(mergeduseritem,test_size=0.2) "
   ]
  },
  {
   "cell_type": "code",
   "execution_count": 39,
   "id": "3a903c7a",
   "metadata": {},
   "outputs": [
    {
     "data": {
      "text/html": [
       "<div>\n",
       "<style scoped>\n",
       "    .dataframe tbody tr th:only-of-type {\n",
       "        vertical-align: middle;\n",
       "    }\n",
       "\n",
       "    .dataframe tbody tr th {\n",
       "        vertical-align: top;\n",
       "    }\n",
       "\n",
       "    .dataframe thead th {\n",
       "        text-align: right;\n",
       "    }\n",
       "</style>\n",
       "<table border=\"1\" class=\"dataframe\">\n",
       "  <thead>\n",
       "    <tr style=\"text-align: right;\">\n",
       "      <th></th>\n",
       "      <th>Unnamed: 0</th>\n",
       "      <th>anime_id</th>\n",
       "      <th>username</th>\n",
       "      <th>score</th>\n",
       "      <th>user_id</th>\n",
       "      <th>extra</th>\n",
       "      <th>title</th>\n",
       "      <th>main_picture</th>\n",
       "      <th>alternative_titles</th>\n",
       "      <th>start_date</th>\n",
       "      <th>...</th>\n",
       "      <th>medium</th>\n",
       "      <th>status</th>\n",
       "      <th>num_episodes</th>\n",
       "      <th>start_season</th>\n",
       "      <th>source</th>\n",
       "      <th>average_episode_duration</th>\n",
       "      <th>studios</th>\n",
       "      <th>related_anime</th>\n",
       "      <th>recommendations</th>\n",
       "      <th>genres</th>\n",
       "    </tr>\n",
       "  </thead>\n",
       "  <tbody>\n",
       "    <tr>\n",
       "      <th>495129</th>\n",
       "      <td>2649474</td>\n",
       "      <td>37349</td>\n",
       "      <td>Big_Neet_Henrik</td>\n",
       "      <td>9</td>\n",
       "      <td>1457</td>\n",
       "      <td>1</td>\n",
       "      <td>Goblin Slayer</td>\n",
       "      <td>{'medium': 'https://api-cdn.myanimelist.net/im...</td>\n",
       "      <td>{'synonyms': [], 'en': 'Goblin Slayer', 'ja': ...</td>\n",
       "      <td>2018-10-07</td>\n",
       "      <td>...</td>\n",
       "      <td>tv</td>\n",
       "      <td>finished_airing</td>\n",
       "      <td>12</td>\n",
       "      <td>{'year': 2018, 'season': 'fall'}</td>\n",
       "      <td>light_novel</td>\n",
       "      <td>1420</td>\n",
       "      <td>[{'id': 314, 'name': 'White Fox'}]</td>\n",
       "      <td>[{'anime_id': 38807, 'relation': 'summary'}, {...</td>\n",
       "      <td>[{'anime_id': 31859, 'num_recommendations': 19...</td>\n",
       "      <td>['Action', 'Adventure', 'Fantasy', 'Gore']</td>\n",
       "    </tr>\n",
       "    <tr>\n",
       "      <th>969432</th>\n",
       "      <td>1053372</td>\n",
       "      <td>11761</td>\n",
       "      <td>ITer</td>\n",
       "      <td>7</td>\n",
       "      <td>4307</td>\n",
       "      <td>1</td>\n",
       "      <td>Medaka Box</td>\n",
       "      <td>{'medium': 'https://api-cdn.myanimelist.net/im...</td>\n",
       "      <td>{'synonyms': [], 'en': 'Medaka Box', 'ja': 'めだ...</td>\n",
       "      <td>2012-04-05</td>\n",
       "      <td>...</td>\n",
       "      <td>tv</td>\n",
       "      <td>finished_airing</td>\n",
       "      <td>12</td>\n",
       "      <td>{'year': 2012, 'season': 'spring'}</td>\n",
       "      <td>manga</td>\n",
       "      <td>1440</td>\n",
       "      <td>[{'id': 6, 'name': 'Gainax'}]</td>\n",
       "      <td>[{'anime_id': 14527, 'relation': 'sequel'}]</td>\n",
       "      <td>[{'anime_id': 849, 'num_recommendations': 7}, ...</td>\n",
       "      <td>['Action', 'Comedy', 'Ecchi', 'Martial Arts', ...</td>\n",
       "    </tr>\n",
       "    <tr>\n",
       "      <th>1164104</th>\n",
       "      <td>5606249</td>\n",
       "      <td>32899</td>\n",
       "      <td>Kinofhera</td>\n",
       "      <td>7</td>\n",
       "      <td>5348</td>\n",
       "      <td>1</td>\n",
       "      <td>Watashi ga Motete Dousunda</td>\n",
       "      <td>{'medium': 'https://api-cdn.myanimelist.net/im...</td>\n",
       "      <td>{'synonyms': [], 'en': 'Kiss Him, Not Me!', 'j...</td>\n",
       "      <td>2016-10-07</td>\n",
       "      <td>...</td>\n",
       "      <td>tv</td>\n",
       "      <td>finished_airing</td>\n",
       "      <td>12</td>\n",
       "      <td>{'year': 2016, 'season': 'fall'}</td>\n",
       "      <td>manga</td>\n",
       "      <td>1380</td>\n",
       "      <td>[{'id': 112, 'name': \"Brain's Base\"}]</td>\n",
       "      <td>[]</td>\n",
       "      <td>[{'anime_id': 853, 'num_recommendations': 11},...</td>\n",
       "      <td>['Comedy', 'Otaku Culture', 'Reverse Harem', '...</td>\n",
       "    </tr>\n",
       "    <tr>\n",
       "      <th>865741</th>\n",
       "      <td>6088027</td>\n",
       "      <td>32542</td>\n",
       "      <td>Tekatsuyo</td>\n",
       "      <td>8</td>\n",
       "      <td>9843</td>\n",
       "      <td>1</td>\n",
       "      <td>Sakamoto desu ga?</td>\n",
       "      <td>{'medium': 'https://api-cdn.myanimelist.net/im...</td>\n",
       "      <td>{'synonyms': ['Sakamoto desu ga?'], 'en': \"Hav...</td>\n",
       "      <td>2016-04-08</td>\n",
       "      <td>...</td>\n",
       "      <td>tv</td>\n",
       "      <td>finished_airing</td>\n",
       "      <td>12</td>\n",
       "      <td>{'year': 2016, 'season': 'spring'}</td>\n",
       "      <td>manga</td>\n",
       "      <td>1460</td>\n",
       "      <td>[{'id': 37, 'name': 'Studio Deen'}]</td>\n",
       "      <td>[{'anime_id': 33524, 'relation': 'side_story'}]</td>\n",
       "      <td>[{'anime_id': 32648, 'num_recommendations': 25...</td>\n",
       "      <td>['Comedy', 'Gag Humor', 'School', 'Seinen']</td>\n",
       "    </tr>\n",
       "    <tr>\n",
       "      <th>448249</th>\n",
       "      <td>5513334</td>\n",
       "      <td>27601</td>\n",
       "      <td>Dazonwraith</td>\n",
       "      <td>6</td>\n",
       "      <td>2499</td>\n",
       "      <td>1</td>\n",
       "      <td>Chuunibyou demo Koi ga Shitai! Ren: The Rikka ...</td>\n",
       "      <td>{'medium': 'https://api-cdn.myanimelist.net/im...</td>\n",
       "      <td>{'synonyms': ['Chuunibyou demo Koi ga Shitai! ...</td>\n",
       "      <td>2014-09-17</td>\n",
       "      <td>...</td>\n",
       "      <td>special</td>\n",
       "      <td>finished_airing</td>\n",
       "      <td>1</td>\n",
       "      <td>{'year': 2014, 'season': 'summer'}</td>\n",
       "      <td>light_novel</td>\n",
       "      <td>1440</td>\n",
       "      <td>[{'id': 2, 'name': 'Kyoto Animation'}]</td>\n",
       "      <td>[{'anime_id': 18671, 'relation': 'prequel'}]</td>\n",
       "      <td>[]</td>\n",
       "      <td>['Comedy', 'Drama', 'Romance', 'School']</td>\n",
       "    </tr>\n",
       "  </tbody>\n",
       "</table>\n",
       "<p>5 rows × 25 columns</p>\n",
       "</div>"
      ],
      "text/plain": [
       "         Unnamed: 0  anime_id         username  score  user_id  extra  \\\n",
       "495129      2649474     37349  Big_Neet_Henrik      9     1457      1   \n",
       "969432      1053372     11761             ITer      7     4307      1   \n",
       "1164104     5606249     32899        Kinofhera      7     5348      1   \n",
       "865741      6088027     32542        Tekatsuyo      8     9843      1   \n",
       "448249      5513334     27601      Dazonwraith      6     2499      1   \n",
       "\n",
       "                                                     title  \\\n",
       "495129                                       Goblin Slayer   \n",
       "969432                                          Medaka Box   \n",
       "1164104                         Watashi ga Motete Dousunda   \n",
       "865741                                   Sakamoto desu ga?   \n",
       "448249   Chuunibyou demo Koi ga Shitai! Ren: The Rikka ...   \n",
       "\n",
       "                                              main_picture  \\\n",
       "495129   {'medium': 'https://api-cdn.myanimelist.net/im...   \n",
       "969432   {'medium': 'https://api-cdn.myanimelist.net/im...   \n",
       "1164104  {'medium': 'https://api-cdn.myanimelist.net/im...   \n",
       "865741   {'medium': 'https://api-cdn.myanimelist.net/im...   \n",
       "448249   {'medium': 'https://api-cdn.myanimelist.net/im...   \n",
       "\n",
       "                                        alternative_titles  start_date  ...  \\\n",
       "495129   {'synonyms': [], 'en': 'Goblin Slayer', 'ja': ...  2018-10-07  ...   \n",
       "969432   {'synonyms': [], 'en': 'Medaka Box', 'ja': 'めだ...  2012-04-05  ...   \n",
       "1164104  {'synonyms': [], 'en': 'Kiss Him, Not Me!', 'j...  2016-10-07  ...   \n",
       "865741   {'synonyms': ['Sakamoto desu ga?'], 'en': \"Hav...  2016-04-08  ...   \n",
       "448249   {'synonyms': ['Chuunibyou demo Koi ga Shitai! ...  2014-09-17  ...   \n",
       "\n",
       "          medium           status  num_episodes  \\\n",
       "495129        tv  finished_airing            12   \n",
       "969432        tv  finished_airing            12   \n",
       "1164104       tv  finished_airing            12   \n",
       "865741        tv  finished_airing            12   \n",
       "448249   special  finished_airing             1   \n",
       "\n",
       "                               start_season       source  \\\n",
       "495129     {'year': 2018, 'season': 'fall'}  light_novel   \n",
       "969432   {'year': 2012, 'season': 'spring'}        manga   \n",
       "1164104    {'year': 2016, 'season': 'fall'}        manga   \n",
       "865741   {'year': 2016, 'season': 'spring'}        manga   \n",
       "448249   {'year': 2014, 'season': 'summer'}  light_novel   \n",
       "\n",
       "        average_episode_duration                                 studios  \\\n",
       "495129                      1420      [{'id': 314, 'name': 'White Fox'}]   \n",
       "969432                      1440           [{'id': 6, 'name': 'Gainax'}]   \n",
       "1164104                     1380   [{'id': 112, 'name': \"Brain's Base\"}]   \n",
       "865741                      1460     [{'id': 37, 'name': 'Studio Deen'}]   \n",
       "448249                      1440  [{'id': 2, 'name': 'Kyoto Animation'}]   \n",
       "\n",
       "                                             related_anime  \\\n",
       "495129   [{'anime_id': 38807, 'relation': 'summary'}, {...   \n",
       "969432         [{'anime_id': 14527, 'relation': 'sequel'}]   \n",
       "1164104                                                 []   \n",
       "865741     [{'anime_id': 33524, 'relation': 'side_story'}]   \n",
       "448249        [{'anime_id': 18671, 'relation': 'prequel'}]   \n",
       "\n",
       "                                           recommendations  \\\n",
       "495129   [{'anime_id': 31859, 'num_recommendations': 19...   \n",
       "969432   [{'anime_id': 849, 'num_recommendations': 7}, ...   \n",
       "1164104  [{'anime_id': 853, 'num_recommendations': 11},...   \n",
       "865741   [{'anime_id': 32648, 'num_recommendations': 25...   \n",
       "448249                                                  []   \n",
       "\n",
       "                                                    genres  \n",
       "495129          ['Action', 'Adventure', 'Fantasy', 'Gore']  \n",
       "969432   ['Action', 'Comedy', 'Ecchi', 'Martial Arts', ...  \n",
       "1164104  ['Comedy', 'Otaku Culture', 'Reverse Harem', '...  \n",
       "865741         ['Comedy', 'Gag Humor', 'School', 'Seinen']  \n",
       "448249            ['Comedy', 'Drama', 'Romance', 'School']  \n",
       "\n",
       "[5 rows x 25 columns]"
      ]
     },
     "execution_count": 39,
     "metadata": {},
     "output_type": "execute_result"
    }
   ],
   "source": [
    "ratings_train.head()"
   ]
  },
  {
   "cell_type": "code",
   "execution_count": 40,
   "id": "878e7c02",
   "metadata": {},
   "outputs": [],
   "source": [
    "usersPerItem = defaultdict(set)\n",
    "itemsPerUser = defaultdict(set)"
   ]
  },
  {
   "cell_type": "markdown",
   "id": "ec4b7243",
   "metadata": {},
   "source": [
    "# Latent factor"
   ]
  },
  {
   "cell_type": "code",
   "execution_count": 41,
   "id": "d2e75f29",
   "metadata": {},
   "outputs": [],
   "source": [
    "import gzip\n",
    "from collections import defaultdict\n",
    "import scipy\n",
    "import scipy.optimize\n",
    "import numpy\n",
    "import random"
   ]
  },
  {
   "cell_type": "code",
   "execution_count": 42,
   "id": "7bf1bda8",
   "metadata": {},
   "outputs": [],
   "source": [
    "reviewsPerUser = defaultdict(list)\n",
    "reviewsPerItem = defaultdict(list)"
   ]
  },
  {
   "cell_type": "code",
   "execution_count": 43,
   "id": "90759749",
   "metadata": {},
   "outputs": [],
   "source": [
    "user_lf=ratings_train[['title','username','score']]"
   ]
  },
  {
   "cell_type": "code",
   "execution_count": 44,
   "id": "2d26a984",
   "metadata": {},
   "outputs": [],
   "source": [
    "user_cleaned = user_lf.to_dict('records')"
   ]
  },
  {
   "cell_type": "markdown",
   "id": "7b2d82f9",
   "metadata": {},
   "source": []
  },
  {
   "cell_type": "code",
   "execution_count": 45,
   "id": "4ad3c1e0",
   "metadata": {},
   "outputs": [],
   "source": [
    "for d in user_cleaned:\n",
    "    user,item = d['username'], d['title']\n",
    "    reviewsPerUser[user].append(d)\n",
    "    reviewsPerItem[item].append(d)"
   ]
  },
  {
   "cell_type": "code",
   "execution_count": 46,
   "id": "ab411047",
   "metadata": {},
   "outputs": [],
   "source": [
    "# N = len(user_cleaned)\n",
    "# nUsers = len(reviewsPerUser)\n",
    "# nItems = len(reviewsPerItem)\n",
    "# users = list(reviewsPerUser.keys())\n",
    "# items = list(reviewsPerItem.keys())"
   ]
  },
  {
   "cell_type": "code",
   "execution_count": 47,
   "id": "97eb3824",
   "metadata": {},
   "outputs": [],
   "source": [
    "# ratingMean = sum([d['score'] for d in user_cleaned]) / len(user_cleaned)"
   ]
  },
  {
   "cell_type": "code",
   "execution_count": 48,
   "id": "6e57a1bb",
   "metadata": {},
   "outputs": [],
   "source": [
    "# labels = [d['score'] for d in user_cleaned]"
   ]
  },
  {
   "cell_type": "code",
   "execution_count": 49,
   "id": "8f22aef0",
   "metadata": {},
   "outputs": [],
   "source": [
    "# alwaysPredictMean = [ratingMean for d in user_cleaned]"
   ]
  },
  {
   "cell_type": "code",
   "execution_count": 50,
   "id": "76f498f8",
   "metadata": {},
   "outputs": [],
   "source": [
    "# import scipy.optimize"
   ]
  },
  {
   "cell_type": "markdown",
   "id": "35fd820d",
   "metadata": {},
   "source": [
    "# Complete Latent factor"
   ]
  },
  {
   "cell_type": "code",
   "execution_count": 51,
   "id": "e6fbd1bb",
   "metadata": {},
   "outputs": [],
   "source": [
    "# alpha = ratingMean"
   ]
  },
  {
   "cell_type": "code",
   "execution_count": 52,
   "id": "feedc6b7",
   "metadata": {},
   "outputs": [],
   "source": [
    "# userBiases = defaultdict(float)\n",
    "# itemBiases = defaultdict(float)"
   ]
  },
  {
   "cell_type": "code",
   "execution_count": 53,
   "id": "58a3815a",
   "metadata": {},
   "outputs": [],
   "source": [
    "# userGamma = {}\n",
    "# itemGamma = {}"
   ]
  },
  {
   "cell_type": "code",
   "execution_count": 54,
   "id": "239b6df5",
   "metadata": {},
   "outputs": [],
   "source": [
    "# K = 32"
   ]
  },
  {
   "cell_type": "code",
   "execution_count": 55,
   "id": "3fd4024a",
   "metadata": {},
   "outputs": [],
   "source": [
    "# for u in reviewsPerUser:\n",
    "#     userGamma[u] = [random.random() * 0.1 - 0.05 for k in range(K)]"
   ]
  },
  {
   "cell_type": "code",
   "execution_count": 56,
   "id": "50a4a5f2",
   "metadata": {},
   "outputs": [],
   "source": [
    "# for i in reviewsPerItem:\n",
    "#     itemGamma[i] = [random.random() * 0.1 - 0.05 for k in range(K)]"
   ]
  },
  {
   "cell_type": "code",
   "execution_count": 57,
   "id": "0131170b",
   "metadata": {},
   "outputs": [],
   "source": [
    "# def MSE(predictions, labels):\n",
    "#     differences = [(x-y)**2 for x,y in zip(predictions,labels)]\n",
    "#     return sum(differences) / len(differences)"
   ]
  },
  {
   "cell_type": "code",
   "execution_count": 58,
   "id": "7b844812",
   "metadata": {},
   "outputs": [],
   "source": [
    "# def unpack(theta):\n",
    "#     global alpha\n",
    "#     global userBiases\n",
    "#     global itemBiases\n",
    "#     global userGamma\n",
    "#     global itemGamma\n",
    "#     index = 0\n",
    "#     alpha = theta[index]\n",
    "#     index += 1\n",
    "#     userBiases = dict(zip(users, theta[index:index+nUsers]))\n",
    "#     index += nUsers\n",
    "#     itemBiases = dict(zip(items, theta[index:index+nItems]))\n",
    "#     index += nItems\n",
    "#     for u in users:\n",
    "#         userGamma[u] = theta[index:index+K]\n",
    "#         index += K\n",
    "#     for i in items:\n",
    "#         itemGamma[i] = theta[index:index+K]\n",
    "#         index += K"
   ]
  },
  {
   "cell_type": "code",
   "execution_count": 59,
   "id": "3dbece48",
   "metadata": {},
   "outputs": [],
   "source": [
    "def inner(x, y):\n",
    "    return sum([a*b for a,b in zip(x,y)])"
   ]
  },
  {
   "cell_type": "code",
   "execution_count": 60,
   "id": "be149f89",
   "metadata": {},
   "outputs": [],
   "source": [
    "def prediction(user, item):\n",
    "    return alpha + userBiases[user] + itemBiases[item] + inner(userGamma[user], itemGamma[item])"
   ]
  },
  {
   "cell_type": "code",
   "execution_count": 61,
   "id": "fdedf455",
   "metadata": {},
   "outputs": [],
   "source": [
    "# def cost(theta, labels, lamb):\n",
    "#     unpack(theta)\n",
    "#     predictions = [prediction(d['username'], d['title']) for d in user_cleaned]\n",
    "#     cost = MSE(predictions, labels)\n",
    "#     print(\"MSE = \" + str(cost))\n",
    "#     for u in users:\n",
    "#         cost += lamb*userBiases[u]**2\n",
    "#         for k in range(K):\n",
    "#             cost += lamb*userGamma[u][k]**2\n",
    "#     for i in items:\n",
    "#         cost += lamb*itemBiases[i]**2\n",
    "#         for k in range(K):\n",
    "#             cost += lamb*itemGamma[i][k]**2\n",
    "#     return cost"
   ]
  },
  {
   "cell_type": "code",
   "execution_count": 62,
   "id": "bbc72ab3",
   "metadata": {},
   "outputs": [],
   "source": [
    "# def derivative(theta, labels, lamb):\n",
    "#     unpack(theta)\n",
    "#     N = len(user_cleaned)\n",
    "#     dalpha = 0\n",
    "#     dUserBiases = defaultdict(float)\n",
    "#     dItemBiases = defaultdict(float)\n",
    "#     dUserGamma = {}\n",
    "#     dItemGamma = {}\n",
    "#     for u in reviewsPerUser:\n",
    "#         dUserGamma[u] = [0.0 for k in range(K)]\n",
    "#     for i in reviewsPerItem:\n",
    "#         dItemGamma[i] = [0.0 for k in range(K)]\n",
    "#     for d in user_cleaned:\n",
    "#         u,i = d['username'], d['title']\n",
    "#         pred = prediction(u, i)\n",
    "#         diff = pred - d['score']\n",
    "#         dalpha += 2/N*diff\n",
    "#         dUserBiases[u] += 2/N*diff\n",
    "#         dItemBiases[i] += 2/N*diff\n",
    "#         for k in range(K):\n",
    "#             dUserGamma[u][k] += 2/N*itemGamma[i][k]*diff\n",
    "#             dItemGamma[i][k] += 2/N*userGamma[u][k]*diff\n",
    "#     for u in userBiases:\n",
    "#         dUserBiases[u] += 2*lamb*userBiases[u]\n",
    "#         for k in range(K):\n",
    "#             dUserGamma[u][k] += 2*lamb*userGamma[u][k]\n",
    "#     for i in itemBiases:\n",
    "#         dItemBiases[i] += 2*lamb*itemBiases[i]\n",
    "#         for k in range(K):\n",
    "#             dItemGamma[i][k] += 2*lamb*itemGamma[i][k]\n",
    "#     dtheta = [dalpha] + [dUserBiases[u] for u in users] + [dItemBiases[i] for i in items]\n",
    "#     for u in users:\n",
    "#         dtheta += dUserGamma[u]\n",
    "#     for i in items:\n",
    "#         dtheta += dItemGamma[i]\n",
    "#     return numpy.array(dtheta)"
   ]
  },
  {
   "cell_type": "code",
   "execution_count": 63,
   "id": "857d16cd",
   "metadata": {},
   "outputs": [],
   "source": [
    "# MSE(alwaysPredictMean, labels)"
   ]
  },
  {
   "cell_type": "code",
   "execution_count": 64,
   "id": "f55fbe7e",
   "metadata": {},
   "outputs": [],
   "source": [
    "# scipy.optimize.fmin_l_bfgs_b(cost, [alpha] + # Initialize alpha\n",
    "#                                    [0.0]*(nUsers+nItems) + # Initialize beta\n",
    "#                                    [random.random() * 0.1 - 0.05 for k in range(K*(nUsers+nItems))], # Gamma\n",
    "#                              derivative, args = (labels, 0.001))"
   ]
  },
  {
   "cell_type": "code",
   "execution_count": 65,
   "id": "06bace02",
   "metadata": {},
   "outputs": [],
   "source": [
    "# x = []\n",
    "# for i,j in zip(ratings_test['username'], ratings_test['title']):\n",
    "#     x.append(prediction(i,j))"
   ]
  },
  {
   "cell_type": "code",
   "execution_count": 66,
   "id": "5b62ce12",
   "metadata": {},
   "outputs": [],
   "source": [
    "# y = list(ratings_test['score'])\n",
    "# import math as m\n",
    "# m.sqrt(MSE(y,x))"
   ]
  },
  {
   "cell_type": "code",
   "execution_count": 67,
   "id": "49f4c150",
   "metadata": {},
   "outputs": [],
   "source": [
    "# d = {}\n",
    "# d['alpha'] = alpha\n",
    "# d['userBiases'] = userBiases\n",
    "# d['itemBiases'] = itemBiases\n",
    "# d['userGamma'] = userGamma\n",
    "# d['itemGamma'] = itemGamma"
   ]
  },
  {
   "cell_type": "code",
   "execution_count": 68,
   "id": "ca0d6180",
   "metadata": {},
   "outputs": [],
   "source": [
    "# import pickle \n",
    "# with open(\"D:/D drive/UCSD/New folder/Quarter 2/Data Mining Project/RecommenderSystem/notebooks/API/Data/MAL/User_anime_facts/pro.pkl\",\"wb\") as fp:\n",
    "#     pickle.dump(d,fp)"
   ]
  },
  {
   "cell_type": "code",
   "execution_count": 69,
   "id": "f94dbf8a",
   "metadata": {},
   "outputs": [],
   "source": [
    "import pickle\n",
    "with open(\"CFdata.pkl\",\"rb\") as fp:\n",
    "    v = pickle.load(fp)"
   ]
  },
  {
   "cell_type": "code",
   "execution_count": 70,
   "id": "18306a5a",
   "metadata": {},
   "outputs": [],
   "source": [
    "alpha = v['alpha']\n",
    "userBiases = v['userBiases'] \n",
    "itemBiases = v['itemBiases'] \n",
    "userGamma = v['userGamma']\n",
    "itemGamma =  v['itemGamma'] "
   ]
  },
  {
   "cell_type": "code",
   "execution_count": 71,
   "id": "0fb07e63",
   "metadata": {},
   "outputs": [],
   "source": [
    "userlist = defaultdict(set)"
   ]
  },
  {
   "cell_type": "code",
   "execution_count": 72,
   "id": "c84c2760",
   "metadata": {},
   "outputs": [],
   "source": [
    "all_titles = set(mergeduseritem['title'])"
   ]
  },
  {
   "cell_type": "code",
   "execution_count": 73,
   "id": "b3424f6b",
   "metadata": {},
   "outputs": [],
   "source": [
    "for i in reviewsPerUser:\n",
    "    for j in reviewsPerUser[i]:\n",
    "        userlist[i].add(j['title'])"
   ]
  },
  {
   "cell_type": "code",
   "execution_count": 74,
   "id": "f328791a",
   "metadata": {},
   "outputs": [],
   "source": [
    "def titi(username):\n",
    "    rem_t = all_titles.difference(userlist[username])\n",
    "    x = defaultdict()\n",
    "    for i in rem_t:\n",
    "        x[i] = prediction(username,i)\n",
    "    y = dict(sorted(x.items(), key = lambda x: x[1], reverse = True)[:10])\n",
    "    return y"
   ]
  },
  {
   "cell_type": "code",
   "execution_count": 75,
   "id": "ac0a8344",
   "metadata": {},
   "outputs": [],
   "source": [
    "anime['main_picture'].fillna('{}', inplace = True)\n",
    "anime['main_picture'] = anime['main_picture'].apply(lambda x:eval(x))"
   ]
  },
  {
   "cell_type": "code",
   "execution_count": 76,
   "id": "84689afa",
   "metadata": {
    "scrolled": true
   },
   "outputs": [],
   "source": [
    "\n",
    "# images = []\n",
    "# for t in titles:\n",
    "#     images.append(anime[anime['title']==t]['main_picture'][anime[anime['title']==t]['main_picture'].index.to_numpy()[0]]['medium'])\n",
    "    \n",
    "# images"
   ]
  },
  {
   "cell_type": "markdown",
   "id": "29654465",
   "metadata": {},
   "source": [
    "# Content Based Filtering"
   ]
  },
  {
   "cell_type": "markdown",
   "id": "ca9d6f0e",
   "metadata": {},
   "source": [
    "Data Exploration"
   ]
  },
  {
   "cell_type": "code",
   "execution_count": 77,
   "id": "e98a5713",
   "metadata": {},
   "outputs": [
    {
     "name": "stdout",
     "output_type": "stream",
     "text": [
      "<class 'pandas.core.frame.DataFrame'>\n",
      "RangeIndex: 11299 entries, 0 to 11298\n",
      "Data columns (total 20 columns):\n",
      " #   Column                    Non-Null Count  Dtype \n",
      "---  ------                    --------------  ----- \n",
      " 0   anime_id                  11299 non-null  int64 \n",
      " 1   title                     11299 non-null  object\n",
      " 2   main_picture              11221 non-null  object\n",
      " 3   alternative_titles        11299 non-null  object\n",
      " 4   start_date                10970 non-null  object\n",
      " 5   end_date                  10186 non-null  object\n",
      " 6   synopsis                  9442 non-null   object\n",
      " 7   num_list_users            11299 non-null  int64 \n",
      " 8   num_scoring_users         11299 non-null  int64 \n",
      " 9   nsfw                      11299 non-null  object\n",
      " 10  medium                    11299 non-null  object\n",
      " 11  status                    11299 non-null  object\n",
      " 12  num_episodes              11299 non-null  int64 \n",
      " 13  start_season              9286 non-null   object\n",
      " 14  source                    9509 non-null   object\n",
      " 15  average_episode_duration  11299 non-null  int64 \n",
      " 16  studios                   11299 non-null  object\n",
      " 17  related_anime             11299 non-null  object\n",
      " 18  recommendations           11299 non-null  object\n",
      " 19  genres                    11299 non-null  object\n",
      "dtypes: int64(5), object(15)\n",
      "memory usage: 1.7+ MB\n",
      "None\n",
      "(11299, 20)\n"
     ]
    }
   ],
   "source": [
    "df = pd.read_csv('anime.csv')\n",
    "df.head(5)\n",
    "df['source'].value_counts(dropna=False)\n",
    "print(df.info())\n",
    "print(df.shape)"
   ]
  },
  {
   "cell_type": "markdown",
   "id": "b10e0105",
   "metadata": {},
   "source": [
    "Data Cleaning"
   ]
  },
  {
   "cell_type": "code",
   "execution_count": 78,
   "id": "db366bf4",
   "metadata": {
    "scrolled": true
   },
   "outputs": [
    {
     "name": "stdout",
     "output_type": "stream",
     "text": [
      "0\n",
      "['white' 'gray']\n",
      "['original' 'manga' 'light_novel' 'game' 'visual_novel' '4_koma_manga'\n",
      " 'novel' 'other' 'picture_book' 'web_manga' 'music' 'radio' 'book'\n",
      " 'card_game' 'mixed_media' 'web_novel']\n"
     ]
    },
    {
     "data": {
      "text/plain": [
       "(9442, 20)"
      ]
     },
     "execution_count": 78,
     "metadata": {},
     "output_type": "execute_result"
    }
   ],
   "source": [
    "rem_cols = df.columns.values.tolist() # Saving the list of columns for further use\n",
    "df  = df[df['synopsis'].notnull()] # Removing all the rows without any synopsis\n",
    "print(df['synopsis'].isna().sum())\n",
    "print(df['nsfw'].unique())\n",
    "df['source'] = df['source'].fillna('other') # Replacing the nan values in source with 'other'\n",
    "print(df['source'].unique())\n",
    "df.shape #Shape of the data after removing null values for synopsis"
   ]
  },
  {
   "cell_type": "markdown",
   "id": "f775e1fd",
   "metadata": {},
   "source": [
    "Feature Engineering"
   ]
  },
  {
   "cell_type": "code",
   "execution_count": 79,
   "id": "2bd3b504",
   "metadata": {},
   "outputs": [],
   "source": [
    "cat = ['nsfw','source'] # List of columns on which one hot encoding needs to be applied\n",
    "df =df.join(pd.get_dummies(df[cat], sparse=True)) # Applying one hot encoding to the above list of columns"
   ]
  },
  {
   "cell_type": "code",
   "execution_count": 80,
   "id": "c7b18ed6",
   "metadata": {
    "scrolled": true
   },
   "outputs": [
    {
     "name": "stderr",
     "output_type": "stream",
     "text": [
      "/var/folders/60/w5451p953gs03k0nzhrhxt0w0000gn/T/ipykernel_67521/570076148.py:3: SettingWithCopyWarning: \n",
      "A value is trying to be set on a copy of a slice from a DataFrame.\n",
      "Try using .loc[row_indexer,col_indexer] = value instead\n",
      "\n",
      "See the caveats in the documentation: https://pandas.pydata.org/pandas-docs/stable/user_guide/indexing.html#returning-a-view-versus-a-copy\n",
      "  df_1['ones'] = 1\n",
      "/var/folders/60/w5451p953gs03k0nzhrhxt0w0000gn/T/ipykernel_67521/570076148.py:4: SettingWithCopyWarning: \n",
      "A value is trying to be set on a copy of a slice from a DataFrame.\n",
      "Try using .loc[row_indexer,col_indexer] = value instead\n",
      "\n",
      "See the caveats in the documentation: https://pandas.pydata.org/pandas-docs/stable/user_guide/indexing.html#returning-a-view-versus-a-copy\n",
      "  df_1['genres'] = df_1['genres'].apply(lambda x:x.strip('][').split(', '))\n"
     ]
    }
   ],
   "source": [
    "# Applying one hot encoding to the 'Genres' column\n",
    "df_1 = df[['title','genres']]\n",
    "df_1['ones'] = 1\n",
    "df_1['genres'] = df_1['genres'].apply(lambda x:x.strip('][').split(', '))\n",
    "df_1 = df_1.explode('genres')\n",
    "pivot = df_1.pivot_table(index = ['title'], columns = ['genres'], values = 'ones')\n",
    "pivot.fillna(0, inplace = True)\n",
    "pivot = pivot.reset_index()"
   ]
  },
  {
   "cell_type": "code",
   "execution_count": 81,
   "id": "74149153",
   "metadata": {},
   "outputs": [],
   "source": [
    "#Merging the above dataframe to the original dataframe for genres one hot encoded values.\n",
    "df = pd.merge(left=df,right = pivot, on = 'title')"
   ]
  },
  {
   "cell_type": "code",
   "execution_count": 82,
   "id": "c3dca569",
   "metadata": {},
   "outputs": [
    {
     "name": "stdout",
     "output_type": "stream",
     "text": [
      "Index(['nsfw_gray', 'nsfw_white', 'source_4_koma_manga', 'source_book',\n",
      "       'source_card_game', 'source_game', 'source_light_novel', 'source_manga',\n",
      "       'source_mixed_media', 'source_music', 'source_novel', 'source_original',\n",
      "       'source_other', 'source_picture_book', 'source_radio',\n",
      "       'source_visual_novel', 'source_web_manga', 'source_web_novel', '',\n",
      "       ''Action'', ''Adult Cast'', ''Adventure'', ''Anthropomorphic'',\n",
      "       ''Avant Garde'', ''Award Winning'', ''Boys Love'', ''CGDCT'',\n",
      "       ''Childcare'', ''Combat Sports'', ''Comedy'', ''Crossdressing'',\n",
      "       ''Delinquents'', ''Detective'', ''Drama'', ''Ecchi'', ''Educational'',\n",
      "       ''Erotica'', ''Fantasy'', ''Gag Humor'', ''Girls Love'', ''Gore'',\n",
      "       ''Gourmet'', ''Harem'', ''Hentai'', ''High Stakes Game'',\n",
      "       ''Historical'', ''Horror'', ''Idols (Female)'', ''Idols (Male)'',\n",
      "       ''Isekai'', ''Iyashikei'', ''Josei'', ''Kids'', ''Love Polygon'',\n",
      "       ''Magical Sex Shift'', ''Mahou Shoujo'', ''Martial Arts'', ''Mecha'',\n",
      "       ''Medical'', ''Military'', ''Music'', ''Mystery'', ''Mythology'',\n",
      "       ''Organized Crime'', ''Otaku Culture'', ''Parody'', ''Performing Arts'',\n",
      "       ''Pets'', ''Psychological'', ''Racing'', ''Reincarnation'',\n",
      "       ''Reverse Harem'', ''Romance'', ''Romantic Subtext'', ''Samurai'',\n",
      "       ''School'', ''Sci-Fi'', ''Seinen'', ''Shoujo'', ''Shounen'',\n",
      "       ''Showbiz'', ''Slice of Life'', ''Space'', ''Sports'',\n",
      "       ''Strategy Game'', ''Super Power'', ''Supernatural'', ''Survival'',\n",
      "       ''Suspense'', ''Team Sports'', ''Time Travel'', ''Vampire'',\n",
      "       ''Video Game'', ''Visual Arts'', ''Workplace''],\n",
      "      dtype='object')\n"
     ]
    }
   ],
   "source": [
    "# Dropping the unused columns\n",
    "new_df = df.drop(rem_cols,axis=1)\n",
    "new_df.head(5)\n",
    "print(new_df.columns)"
   ]
  },
  {
   "cell_type": "code",
   "execution_count": 83,
   "id": "7b0e0941",
   "metadata": {},
   "outputs": [],
   "source": [
    "# Pre Processing of 'Synopsis' column\n",
    "#Tokenizing\n",
    "def tokenize_words(txt):\n",
    "  tokenized= word_tokenize(txt)\n",
    "  return tokenized\n",
    "#To remove stopwords in text\n",
    "def remove_stopwords(tokenized_txt):\n",
    "  cleaned_text_array = [word for word in tokenized_txt if word not in stop_words]\n",
    "  return cleaned_text_array\n",
    "#Lammetizing\n",
    "def word_lemmatizer(tokenized_text_without_stopwords):\n",
    "  wordnet_lemmatizer = WordNetLemmatizer()\n",
    "  lemmatized = [wordnet_lemmatizer.lemmatize(word) for word in tokenized_text_without_stopwords]\n",
    "  return ' '.join(lemmatized)"
   ]
  },
  {
   "cell_type": "code",
   "execution_count": 84,
   "id": "82525ce7",
   "metadata": {},
   "outputs": [
    {
     "data": {
      "text/html": [
       "<div>\n",
       "<style scoped>\n",
       "    .dataframe tbody tr th:only-of-type {\n",
       "        vertical-align: middle;\n",
       "    }\n",
       "\n",
       "    .dataframe tbody tr th {\n",
       "        vertical-align: top;\n",
       "    }\n",
       "\n",
       "    .dataframe thead th {\n",
       "        text-align: right;\n",
       "    }\n",
       "</style>\n",
       "<table border=\"1\" class=\"dataframe\">\n",
       "  <thead>\n",
       "    <tr style=\"text-align: right;\">\n",
       "      <th></th>\n",
       "      <th>title</th>\n",
       "      <th>synopsis</th>\n",
       "      <th>processed_synopsis</th>\n",
       "      <th>genres</th>\n",
       "      <th>source</th>\n",
       "      <th>medium</th>\n",
       "    </tr>\n",
       "  </thead>\n",
       "  <tbody>\n",
       "    <tr>\n",
       "      <th>0</th>\n",
       "      <td>Cowboy Bebop</td>\n",
       "      <td>Crime is timeless. By the year 2071, humanity ...</td>\n",
       "      <td>Crime timeless . By year 2071 , humanity expan...</td>\n",
       "      <td>['Action', 'Adult Cast', 'Award Winning', 'Sci...</td>\n",
       "      <td>original</td>\n",
       "      <td>tv</td>\n",
       "    </tr>\n",
       "    <tr>\n",
       "      <th>1</th>\n",
       "      <td>Cowboy Bebop: Tengoku no Tobira</td>\n",
       "      <td>Another day, another bounty—such is the life o...</td>\n",
       "      <td>Another day , another bounty—such life often u...</td>\n",
       "      <td>['Action', 'Adult Cast', 'Sci-Fi', 'Space']</td>\n",
       "      <td>original</td>\n",
       "      <td>movie</td>\n",
       "    </tr>\n",
       "    <tr>\n",
       "      <th>2</th>\n",
       "      <td>Trigun</td>\n",
       "      <td>Vash the Stampede is the man with a $$60,000,0...</td>\n",
       "      <td>Vash Stampede man $ $ 60,000,000,000 bounty he...</td>\n",
       "      <td>['Action', 'Adult Cast', 'Adventure', 'Sci-Fi'...</td>\n",
       "      <td>manga</td>\n",
       "      <td>tv</td>\n",
       "    </tr>\n",
       "    <tr>\n",
       "      <th>3</th>\n",
       "      <td>Witch Hunter Robin</td>\n",
       "      <td>Robin Sena is a powerful craft user drafted in...</td>\n",
       "      <td>Robin Sena powerful craft user drafted STNJ—a ...</td>\n",
       "      <td>['Action', 'Detective', 'Drama', 'Mystery', 'S...</td>\n",
       "      <td>original</td>\n",
       "      <td>tv</td>\n",
       "    </tr>\n",
       "    <tr>\n",
       "      <th>4</th>\n",
       "      <td>Bouken Ou Beet</td>\n",
       "      <td>It is the dark century and the people are suff...</td>\n",
       "      <td>It dark century people suffering rule devil , ...</td>\n",
       "      <td>['Adventure', 'Fantasy', 'Shounen', 'Supernatu...</td>\n",
       "      <td>manga</td>\n",
       "      <td>tv</td>\n",
       "    </tr>\n",
       "  </tbody>\n",
       "</table>\n",
       "</div>"
      ],
      "text/plain": [
       "                             title  \\\n",
       "0                     Cowboy Bebop   \n",
       "1  Cowboy Bebop: Tengoku no Tobira   \n",
       "2                           Trigun   \n",
       "3               Witch Hunter Robin   \n",
       "4                   Bouken Ou Beet   \n",
       "\n",
       "                                            synopsis  \\\n",
       "0  Crime is timeless. By the year 2071, humanity ...   \n",
       "1  Another day, another bounty—such is the life o...   \n",
       "2  Vash the Stampede is the man with a $$60,000,0...   \n",
       "3  Robin Sena is a powerful craft user drafted in...   \n",
       "4  It is the dark century and the people are suff...   \n",
       "\n",
       "                                  processed_synopsis  \\\n",
       "0  Crime timeless . By year 2071 , humanity expan...   \n",
       "1  Another day , another bounty—such life often u...   \n",
       "2  Vash Stampede man $ $ 60,000,000,000 bounty he...   \n",
       "3  Robin Sena powerful craft user drafted STNJ—a ...   \n",
       "4  It dark century people suffering rule devil , ...   \n",
       "\n",
       "                                              genres    source medium  \n",
       "0  ['Action', 'Adult Cast', 'Award Winning', 'Sci...  original     tv  \n",
       "1        ['Action', 'Adult Cast', 'Sci-Fi', 'Space']  original  movie  \n",
       "2  ['Action', 'Adult Cast', 'Adventure', 'Sci-Fi'...     manga     tv  \n",
       "3  ['Action', 'Detective', 'Drama', 'Mystery', 'S...  original     tv  \n",
       "4  ['Adventure', 'Fantasy', 'Shounen', 'Supernatu...     manga     tv  "
      ]
     },
     "execution_count": 84,
     "metadata": {},
     "output_type": "execute_result"
    }
   ],
   "source": [
    "stop_words = stopwords.words('english')\n",
    "df['processed_synopsis']=df['synopsis'].apply(tokenize_words)\n",
    "df['processed_synopsis'] = df['processed_synopsis'].apply(lambda x: remove_stopwords(x))\n",
    "\n",
    "df['processed_synopsis']= df['processed_synopsis'].apply(lambda x: word_lemmatizer(x))\n",
    "df[['title','synopsis','processed_synopsis','genres','source','medium']].head(5)"
   ]
  },
  {
   "cell_type": "code",
   "execution_count": 85,
   "id": "89a57159",
   "metadata": {},
   "outputs": [
    {
     "data": {
      "text/plain": [
       "(9442, 7000)"
      ]
     },
     "execution_count": 85,
     "metadata": {},
     "output_type": "execute_result"
    }
   ],
   "source": [
    "# Developing tf-idf matrix for synopsis\n",
    "df_1 = df['processed_synopsis']\n",
    "vectorizer = CountVectorizer(analyzer='word', max_features=7000)\n",
    "x_counts = vectorizer.fit_transform(df_1)\n",
    "transformer = TfidfTransformer(smooth_idf=False)\n",
    "x_tfidf = transformer.fit_transform(x_counts)\n",
    "xtfidf_norm = normalize(x_tfidf, norm='l1', axis=1)\n",
    "xtfidf_norm.shape"
   ]
  },
  {
   "cell_type": "markdown",
   "id": "2a8130ce",
   "metadata": {},
   "source": [
    "Model"
   ]
  },
  {
   "cell_type": "code",
   "execution_count": 86,
   "id": "a9e03ce4",
   "metadata": {},
   "outputs": [],
   "source": [
    "# Calculating cosine similarity scores for both the matrices and averaging them out.\n",
    "from sklearn.metrics.pairwise import cosine_similarity\n",
    "cosine_sim_tfidf = cosine_similarity(xtfidf_norm)\n",
    "cosine_sim_ohe = cosine_similarity(new_df)\n",
    "cosine_sim = (cosine_sim_tfidf + cosine_sim_ohe)/2"
   ]
  },
  {
   "cell_type": "code",
   "execution_count": 87,
   "id": "6a5eae11",
   "metadata": {},
   "outputs": [],
   "source": [
    "# Recommendation function to get the top 10 similar animes.\n",
    "anime_index = pd.Series(df.index, index=df.title).drop_duplicates()\n",
    "def get_recommendation_content(anime_name, similarity=cosine_sim):\n",
    "    idx = anime_index[anime_name]\n",
    "    sim_scores = list(enumerate(cosine_sim[idx]))\n",
    "    sim_scores = sorted(sim_scores, key=lambda x: x[1], reverse=True)\n",
    "    sim_scores = sim_scores[1:11]\n",
    "    anime_indices = [i[0] for i in sim_scores]\n",
    "    result = df[['title', 'genres','synopsis']].iloc[anime_indices]\n",
    "    return result"
   ]
  },
  {
   "cell_type": "markdown",
   "id": "9f2007a5",
   "metadata": {},
   "source": [
    "# Example"
   ]
  },
  {
   "cell_type": "markdown",
   "id": "dd72d6b9",
   "metadata": {},
   "source": [
    "Combining content and collaborative filtering for recommendations"
   ]
  },
  {
   "cell_type": "markdown",
   "id": "bceefc8c",
   "metadata": {},
   "source": [
    "Username : imnoodle\n",
    "Providing collaborative filtering for user BongBong73"
   ]
  },
  {
   "cell_type": "code",
   "execution_count": 88,
   "id": "79b8def6",
   "metadata": {
    "scrolled": true
   },
   "outputs": [
    {
     "name": "stdout",
     "output_type": "stream",
     "text": [
      "Enter your username : BongBong73\n",
      "['Shingeki no Kyojin Season 3 Part 2', 'Steins;Gate', 'Kaguya-sama wa Kokurasetai: Ultra Romantic', 'Kimi no Na wa.', 'Code Geass: Hangyaku no Lelouch R2', 'Kimetsu no Yaiba: Yuukaku-hen', 'Shingeki no Kyojin: The Final Season', 'Kaguya-sama wa Kokurasetai? Tensai-tachi no Renai Zunousen', 'Shingeki no Kyojin: The Final Season Part 2', 'Vinland Saga']\n"
     ]
    }
   ],
   "source": [
    "user=input(\"Enter your username : \")\n",
    "anime_list=titi(user)\n",
    "titles = list(anime_list.keys())\n",
    "print(titles)"
   ]
  },
  {
   "cell_type": "markdown",
   "id": "8e4cd679",
   "metadata": {},
   "source": [
    "Suppose from the list of animes, imnoodle chooses the anime 'Kimetsu no Yaiba: Yuukaku-hen'. We then provide content based recommendations for the anime 'Kimetsu no Yaiba: Yuukaku-hen'."
   ]
  },
  {
   "cell_type": "code",
   "execution_count": 89,
   "id": "7d74b7c3",
   "metadata": {
    "scrolled": true
   },
   "outputs": [
    {
     "data": {
      "text/html": [
       "<div>\n",
       "<style scoped>\n",
       "    .dataframe tbody tr th:only-of-type {\n",
       "        vertical-align: middle;\n",
       "    }\n",
       "\n",
       "    .dataframe tbody tr th {\n",
       "        vertical-align: top;\n",
       "    }\n",
       "\n",
       "    .dataframe thead th {\n",
       "        text-align: right;\n",
       "    }\n",
       "</style>\n",
       "<table border=\"1\" class=\"dataframe\">\n",
       "  <thead>\n",
       "    <tr style=\"text-align: right;\">\n",
       "      <th></th>\n",
       "      <th>title</th>\n",
       "      <th>genres</th>\n",
       "      <th>synopsis</th>\n",
       "    </tr>\n",
       "  </thead>\n",
       "  <tbody>\n",
       "    <tr>\n",
       "      <th>8711</th>\n",
       "      <td>Kimetsu no Yaiba: Mugen Ressha-hen</td>\n",
       "      <td>['Action', 'Fantasy', 'Historical', 'Shounen']</td>\n",
       "      <td>A mysterious string of disappearances on a cer...</td>\n",
       "    </tr>\n",
       "    <tr>\n",
       "      <th>7625</th>\n",
       "      <td>Kimetsu no Yaiba Movie: Mugen Ressha-hen</td>\n",
       "      <td>['Action', 'Fantasy', 'Historical', 'Shounen']</td>\n",
       "      <td>After a string of mysterious disappearances be...</td>\n",
       "    </tr>\n",
       "    <tr>\n",
       "      <th>9055</th>\n",
       "      <td>Nokemono-tachi no Yoru</td>\n",
       "      <td>['Action', 'Anthropomorphic', 'Fantasy', 'Hist...</td>\n",
       "      <td>Wisteria is an orphan girl living in a corner ...</td>\n",
       "    </tr>\n",
       "    <tr>\n",
       "      <th>6410</th>\n",
       "      <td>Nanatsu no Taizai Movie 1: Tenkuu no Torawarebito</td>\n",
       "      <td>['Action', 'Adventure', 'Fantasy', 'Shounen']</td>\n",
       "      <td>In search of a mystical ingredient known as Sk...</td>\n",
       "    </tr>\n",
       "    <tr>\n",
       "      <th>7883</th>\n",
       "      <td>Burn the Witch</td>\n",
       "      <td>['Action', 'Fantasy', 'Shounen']</td>\n",
       "      <td>Although citizens of London view dragons as a ...</td>\n",
       "    </tr>\n",
       "    <tr>\n",
       "      <th>8783</th>\n",
       "      <td>Mato Seihei no Slave</td>\n",
       "      <td>['Action', 'Fantasy', 'Harem', 'Shounen', 'Sup...</td>\n",
       "      <td>When entrances to a different dimension known ...</td>\n",
       "    </tr>\n",
       "    <tr>\n",
       "      <th>8903</th>\n",
       "      <td>Ragna Crimson</td>\n",
       "      <td>['Action', 'Fantasy', 'Shounen']</td>\n",
       "      <td>In a world where dragons rule sky, sea, and la...</td>\n",
       "    </tr>\n",
       "    <tr>\n",
       "      <th>3341</th>\n",
       "      <td>Naruto x UT</td>\n",
       "      <td>['Action', 'Fantasy', 'Shounen']</td>\n",
       "      <td>All-new animation offered throughout UNIQLO cl...</td>\n",
       "    </tr>\n",
       "    <tr>\n",
       "      <th>6221</th>\n",
       "      <td>Saint Seiya: Gold Saints Data File</td>\n",
       "      <td>['Action', 'Fantasy', 'Shounen']</td>\n",
       "      <td>Short special about Gold Saints, included on D...</td>\n",
       "    </tr>\n",
       "    <tr>\n",
       "      <th>5194</th>\n",
       "      <td>Shounen Sunday CM: InuYasha-hen</td>\n",
       "      <td>['Action', 'Fantasy', 'Mythology', 'Shounen']</td>\n",
       "      <td>In an age of turmoil, a tenacious couple comes...</td>\n",
       "    </tr>\n",
       "  </tbody>\n",
       "</table>\n",
       "</div>"
      ],
      "text/plain": [
       "                                                  title  \\\n",
       "8711                 Kimetsu no Yaiba: Mugen Ressha-hen   \n",
       "7625           Kimetsu no Yaiba Movie: Mugen Ressha-hen   \n",
       "9055                             Nokemono-tachi no Yoru   \n",
       "6410  Nanatsu no Taizai Movie 1: Tenkuu no Torawarebito   \n",
       "7883                                     Burn the Witch   \n",
       "8783                               Mato Seihei no Slave   \n",
       "8903                                      Ragna Crimson   \n",
       "3341                                        Naruto x UT   \n",
       "6221                 Saint Seiya: Gold Saints Data File   \n",
       "5194                    Shounen Sunday CM: InuYasha-hen   \n",
       "\n",
       "                                                 genres  \\\n",
       "8711     ['Action', 'Fantasy', 'Historical', 'Shounen']   \n",
       "7625     ['Action', 'Fantasy', 'Historical', 'Shounen']   \n",
       "9055  ['Action', 'Anthropomorphic', 'Fantasy', 'Hist...   \n",
       "6410      ['Action', 'Adventure', 'Fantasy', 'Shounen']   \n",
       "7883                   ['Action', 'Fantasy', 'Shounen']   \n",
       "8783  ['Action', 'Fantasy', 'Harem', 'Shounen', 'Sup...   \n",
       "8903                   ['Action', 'Fantasy', 'Shounen']   \n",
       "3341                   ['Action', 'Fantasy', 'Shounen']   \n",
       "6221                   ['Action', 'Fantasy', 'Shounen']   \n",
       "5194      ['Action', 'Fantasy', 'Mythology', 'Shounen']   \n",
       "\n",
       "                                               synopsis  \n",
       "8711  A mysterious string of disappearances on a cer...  \n",
       "7625  After a string of mysterious disappearances be...  \n",
       "9055  Wisteria is an orphan girl living in a corner ...  \n",
       "6410  In search of a mystical ingredient known as Sk...  \n",
       "7883  Although citizens of London view dragons as a ...  \n",
       "8783  When entrances to a different dimension known ...  \n",
       "8903  In a world where dragons rule sky, sea, and la...  \n",
       "3341  All-new animation offered throughout UNIQLO cl...  \n",
       "6221  Short special about Gold Saints, included on D...  \n",
       "5194  In an age of turmoil, a tenacious couple comes...  "
      ]
     },
     "execution_count": 89,
     "metadata": {},
     "output_type": "execute_result"
    }
   ],
   "source": [
    "get_recommendation_content('Kimetsu no Yaiba: Yuukaku-hen',cosine_sim)"
   ]
  }
 ],
 "metadata": {
  "kernelspec": {
   "display_name": "Python 3 (ipykernel)",
   "language": "python",
   "name": "python3"
  },
  "language_info": {
   "codemirror_mode": {
    "name": "ipython",
    "version": 3
   },
   "file_extension": ".py",
   "mimetype": "text/x-python",
   "name": "python",
   "nbconvert_exporter": "python",
   "pygments_lexer": "ipython3",
   "version": "3.9.7"
  }
 },
 "nbformat": 4,
 "nbformat_minor": 5
}
