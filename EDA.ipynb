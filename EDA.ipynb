{
 "cells": [
  {
   "cell_type": "code",
   "execution_count": 2,
   "id": "3d990022",
   "metadata": {},
   "outputs": [],
   "source": [
    "import pandas as pd\n",
    "import matplotlib.pyplot as plt\n",
    "import numpy as np # linear algebra\n",
    "import seaborn as sns\n",
    "import re\n",
    "import os"
   ]
  },
  {
   "cell_type": "code",
   "execution_count": 3,
   "id": "bfa71cfd",
   "metadata": {},
   "outputs": [],
   "source": [
    "anime = pd.read_csv('anime_Final.csv')\n",
    "user = pd.read_csv('user_anime_list_Final.csv')"
   ]
  },
  {
   "cell_type": "code",
   "execution_count": 4,
   "id": "638d3c5c",
   "metadata": {},
   "outputs": [
    {
     "data": {
      "text/html": [
       "<div>\n",
       "<style scoped>\n",
       "    .dataframe tbody tr th:only-of-type {\n",
       "        vertical-align: middle;\n",
       "    }\n",
       "\n",
       "    .dataframe tbody tr th {\n",
       "        vertical-align: top;\n",
       "    }\n",
       "\n",
       "    .dataframe thead th {\n",
       "        text-align: right;\n",
       "    }\n",
       "</style>\n",
       "<table border=\"1\" class=\"dataframe\">\n",
       "  <thead>\n",
       "    <tr style=\"text-align: right;\">\n",
       "      <th></th>\n",
       "      <th>anime_id</th>\n",
       "      <th>title</th>\n",
       "      <th>main_picture</th>\n",
       "      <th>alternative_titles</th>\n",
       "      <th>start_date</th>\n",
       "      <th>end_date</th>\n",
       "      <th>synopsis</th>\n",
       "      <th>num_list_users</th>\n",
       "      <th>num_scoring_users</th>\n",
       "      <th>nsfw</th>\n",
       "      <th>medium</th>\n",
       "      <th>status</th>\n",
       "      <th>num_episodes</th>\n",
       "      <th>start_season</th>\n",
       "      <th>source</th>\n",
       "      <th>average_episode_duration</th>\n",
       "      <th>studios</th>\n",
       "      <th>related_anime</th>\n",
       "      <th>recommendations</th>\n",
       "      <th>genres</th>\n",
       "    </tr>\n",
       "  </thead>\n",
       "  <tbody>\n",
       "    <tr>\n",
       "      <th>0</th>\n",
       "      <td>1</td>\n",
       "      <td>Cowboy Bebop</td>\n",
       "      <td>{'medium': 'https://api-cdn.myanimelist.net/im...</td>\n",
       "      <td>{'synonyms': [], 'en': 'Cowboy Bebop', 'ja': '...</td>\n",
       "      <td>1998-04-03</td>\n",
       "      <td>1999-04-24</td>\n",
       "      <td>Crime is timeless. By the year 2071, humanity ...</td>\n",
       "      <td>1731562</td>\n",
       "      <td>892212</td>\n",
       "      <td>white</td>\n",
       "      <td>tv</td>\n",
       "      <td>finished_airing</td>\n",
       "      <td>26</td>\n",
       "      <td>{'year': 1998, 'season': 'spring'}</td>\n",
       "      <td>original</td>\n",
       "      <td>1440</td>\n",
       "      <td>[{'id': 14, 'name': 'Sunrise'}]</td>\n",
       "      <td>[{'anime_id': 5, 'relation': 'side_story'}, {'...</td>\n",
       "      <td>[{'anime_id': 205, 'num_recommendations': 118}...</td>\n",
       "      <td>['Action', 'Adult Cast', 'Award Winning', 'Sci...</td>\n",
       "    </tr>\n",
       "    <tr>\n",
       "      <th>1</th>\n",
       "      <td>5</td>\n",
       "      <td>Cowboy Bebop: Tengoku no Tobira</td>\n",
       "      <td>{'medium': 'https://api-cdn.myanimelist.net/im...</td>\n",
       "      <td>{'synonyms': [\"Cowboy Bebop: Knockin' on Heave...</td>\n",
       "      <td>2001-09-01</td>\n",
       "      <td>2001-09-01</td>\n",
       "      <td>Another day, another bounty—such is the life o...</td>\n",
       "      <td>353984</td>\n",
       "      <td>202526</td>\n",
       "      <td>white</td>\n",
       "      <td>movie</td>\n",
       "      <td>finished_airing</td>\n",
       "      <td>1</td>\n",
       "      <td>{'year': 2001, 'season': 'summer'}</td>\n",
       "      <td>original</td>\n",
       "      <td>6911</td>\n",
       "      <td>[{'id': 4, 'name': 'Bones'}]</td>\n",
       "      <td>[{'anime_id': 1, 'relation': 'parent_story'}]</td>\n",
       "      <td>[{'anime_id': 4106, 'num_recommendations': 3},...</td>\n",
       "      <td>['Action', 'Adult Cast', 'Sci-Fi', 'Space']</td>\n",
       "    </tr>\n",
       "    <tr>\n",
       "      <th>2</th>\n",
       "      <td>6</td>\n",
       "      <td>Trigun</td>\n",
       "      <td>{'medium': 'https://api-cdn.myanimelist.net/im...</td>\n",
       "      <td>{'synonyms': [], 'en': 'Trigun', 'ja': 'トライガン'}</td>\n",
       "      <td>1998-04-01</td>\n",
       "      <td>1998-09-30</td>\n",
       "      <td>Vash the Stampede is the man with a $$60,000,0...</td>\n",
       "      <td>707864</td>\n",
       "      <td>347350</td>\n",
       "      <td>white</td>\n",
       "      <td>tv</td>\n",
       "      <td>finished_airing</td>\n",
       "      <td>26</td>\n",
       "      <td>{'year': 1998, 'season': 'spring'}</td>\n",
       "      <td>manga</td>\n",
       "      <td>1480</td>\n",
       "      <td>[{'id': 11, 'name': 'Madhouse'}]</td>\n",
       "      <td>[{'anime_id': 4106, 'relation': 'side_story'},...</td>\n",
       "      <td>[{'anime_id': 1, 'num_recommendations': 85}, {...</td>\n",
       "      <td>['Action', 'Adult Cast', 'Adventure', 'Sci-Fi'...</td>\n",
       "    </tr>\n",
       "    <tr>\n",
       "      <th>3</th>\n",
       "      <td>7</td>\n",
       "      <td>Witch Hunter Robin</td>\n",
       "      <td>{'medium': 'https://api-cdn.myanimelist.net/im...</td>\n",
       "      <td>{'synonyms': ['WHR'], 'en': 'Witch Hunter Robi...</td>\n",
       "      <td>2002-07-03</td>\n",
       "      <td>2002-12-25</td>\n",
       "      <td>Robin Sena is a powerful craft user drafted in...</td>\n",
       "      <td>110305</td>\n",
       "      <td>42443</td>\n",
       "      <td>white</td>\n",
       "      <td>tv</td>\n",
       "      <td>finished_airing</td>\n",
       "      <td>26</td>\n",
       "      <td>{'year': 2002, 'season': 'summer'}</td>\n",
       "      <td>original</td>\n",
       "      <td>1500</td>\n",
       "      <td>[{'id': 14, 'name': 'Sunrise'}]</td>\n",
       "      <td>[]</td>\n",
       "      <td>[{'anime_id': 2025, 'num_recommendations': 12}...</td>\n",
       "      <td>['Action', 'Detective', 'Drama', 'Mystery', 'S...</td>\n",
       "    </tr>\n",
       "    <tr>\n",
       "      <th>4</th>\n",
       "      <td>8</td>\n",
       "      <td>Bouken Ou Beet</td>\n",
       "      <td>{'medium': 'https://api-cdn.myanimelist.net/im...</td>\n",
       "      <td>{'synonyms': ['Adventure King Beet'], 'en': 'B...</td>\n",
       "      <td>2004-09-30</td>\n",
       "      <td>2005-09-29</td>\n",
       "      <td>It is the dark century and the people are suff...</td>\n",
       "      <td>14822</td>\n",
       "      <td>6353</td>\n",
       "      <td>white</td>\n",
       "      <td>tv</td>\n",
       "      <td>finished_airing</td>\n",
       "      <td>52</td>\n",
       "      <td>{'year': 2004, 'season': 'fall'}</td>\n",
       "      <td>manga</td>\n",
       "      <td>1380</td>\n",
       "      <td>[{'id': 18, 'name': 'Toei Animation'}]</td>\n",
       "      <td>[{'anime_id': 1123, 'relation': 'sequel'}]</td>\n",
       "      <td>[{'anime_id': 417, 'num_recommendations': 2}, ...</td>\n",
       "      <td>['Adventure', 'Fantasy', 'Shounen', 'Supernatu...</td>\n",
       "    </tr>\n",
       "  </tbody>\n",
       "</table>\n",
       "</div>"
      ],
      "text/plain": [
       "   anime_id                            title  \\\n",
       "0         1                     Cowboy Bebop   \n",
       "1         5  Cowboy Bebop: Tengoku no Tobira   \n",
       "2         6                           Trigun   \n",
       "3         7               Witch Hunter Robin   \n",
       "4         8                   Bouken Ou Beet   \n",
       "\n",
       "                                        main_picture  \\\n",
       "0  {'medium': 'https://api-cdn.myanimelist.net/im...   \n",
       "1  {'medium': 'https://api-cdn.myanimelist.net/im...   \n",
       "2  {'medium': 'https://api-cdn.myanimelist.net/im...   \n",
       "3  {'medium': 'https://api-cdn.myanimelist.net/im...   \n",
       "4  {'medium': 'https://api-cdn.myanimelist.net/im...   \n",
       "\n",
       "                                  alternative_titles  start_date    end_date  \\\n",
       "0  {'synonyms': [], 'en': 'Cowboy Bebop', 'ja': '...  1998-04-03  1999-04-24   \n",
       "1  {'synonyms': [\"Cowboy Bebop: Knockin' on Heave...  2001-09-01  2001-09-01   \n",
       "2    {'synonyms': [], 'en': 'Trigun', 'ja': 'トライガン'}  1998-04-01  1998-09-30   \n",
       "3  {'synonyms': ['WHR'], 'en': 'Witch Hunter Robi...  2002-07-03  2002-12-25   \n",
       "4  {'synonyms': ['Adventure King Beet'], 'en': 'B...  2004-09-30  2005-09-29   \n",
       "\n",
       "                                            synopsis  num_list_users  \\\n",
       "0  Crime is timeless. By the year 2071, humanity ...         1731562   \n",
       "1  Another day, another bounty—such is the life o...          353984   \n",
       "2  Vash the Stampede is the man with a $$60,000,0...          707864   \n",
       "3  Robin Sena is a powerful craft user drafted in...          110305   \n",
       "4  It is the dark century and the people are suff...           14822   \n",
       "\n",
       "   num_scoring_users   nsfw medium           status  num_episodes  \\\n",
       "0             892212  white     tv  finished_airing            26   \n",
       "1             202526  white  movie  finished_airing             1   \n",
       "2             347350  white     tv  finished_airing            26   \n",
       "3              42443  white     tv  finished_airing            26   \n",
       "4               6353  white     tv  finished_airing            52   \n",
       "\n",
       "                         start_season    source  average_episode_duration  \\\n",
       "0  {'year': 1998, 'season': 'spring'}  original                      1440   \n",
       "1  {'year': 2001, 'season': 'summer'}  original                      6911   \n",
       "2  {'year': 1998, 'season': 'spring'}     manga                      1480   \n",
       "3  {'year': 2002, 'season': 'summer'}  original                      1500   \n",
       "4    {'year': 2004, 'season': 'fall'}     manga                      1380   \n",
       "\n",
       "                                  studios  \\\n",
       "0         [{'id': 14, 'name': 'Sunrise'}]   \n",
       "1            [{'id': 4, 'name': 'Bones'}]   \n",
       "2        [{'id': 11, 'name': 'Madhouse'}]   \n",
       "3         [{'id': 14, 'name': 'Sunrise'}]   \n",
       "4  [{'id': 18, 'name': 'Toei Animation'}]   \n",
       "\n",
       "                                       related_anime  \\\n",
       "0  [{'anime_id': 5, 'relation': 'side_story'}, {'...   \n",
       "1      [{'anime_id': 1, 'relation': 'parent_story'}]   \n",
       "2  [{'anime_id': 4106, 'relation': 'side_story'},...   \n",
       "3                                                 []   \n",
       "4         [{'anime_id': 1123, 'relation': 'sequel'}]   \n",
       "\n",
       "                                     recommendations  \\\n",
       "0  [{'anime_id': 205, 'num_recommendations': 118}...   \n",
       "1  [{'anime_id': 4106, 'num_recommendations': 3},...   \n",
       "2  [{'anime_id': 1, 'num_recommendations': 85}, {...   \n",
       "3  [{'anime_id': 2025, 'num_recommendations': 12}...   \n",
       "4  [{'anime_id': 417, 'num_recommendations': 2}, ...   \n",
       "\n",
       "                                              genres  \n",
       "0  ['Action', 'Adult Cast', 'Award Winning', 'Sci...  \n",
       "1        ['Action', 'Adult Cast', 'Sci-Fi', 'Space']  \n",
       "2  ['Action', 'Adult Cast', 'Adventure', 'Sci-Fi'...  \n",
       "3  ['Action', 'Detective', 'Drama', 'Mystery', 'S...  \n",
       "4  ['Adventure', 'Fantasy', 'Shounen', 'Supernatu...  "
      ]
     },
     "execution_count": 4,
     "metadata": {},
     "output_type": "execute_result"
    }
   ],
   "source": [
    "anime.head()"
   ]
  },
  {
   "cell_type": "code",
   "execution_count": null,
   "id": "a0c81366",
   "metadata": {
    "scrolled": true
   },
   "outputs": [],
   "source": [
    "#anime.count()"
   ]
  },
  {
   "cell_type": "code",
   "execution_count": 67,
   "id": "eb399794",
   "metadata": {},
   "outputs": [],
   "source": [
    "import pandas as pd\n",
    "\n",
    "# create a sample DataFrame\n",
    "df = pd.DataFrame({\n",
    "    'id': [1, 2, 3, 4],\n",
    "    'colors': ['red', 'blue', 'green', 'red'],\n",
    "    'values': [10, 20, 30, 40]\n",
    "})\n",
    "\n",
    "# use pivot_table() to group by 'id' and push 'colors' as columns\n",
    "pivot = pd.pivot_table(df, index='id', columns='colors', values='values', aggfunc='sum')\n",
    "\n",
    "# fill any missing values with 0\n",
    "pivot = pivot.fillna(0)"
   ]
  },
  {
   "cell_type": "code",
   "execution_count": 63,
   "id": "110a6854",
   "metadata": {},
   "outputs": [
    {
     "data": {
      "text/html": [
       "<div>\n",
       "<style scoped>\n",
       "    .dataframe tbody tr th:only-of-type {\n",
       "        vertical-align: middle;\n",
       "    }\n",
       "\n",
       "    .dataframe tbody tr th {\n",
       "        vertical-align: top;\n",
       "    }\n",
       "\n",
       "    .dataframe thead th {\n",
       "        text-align: right;\n",
       "    }\n",
       "</style>\n",
       "<table border=\"1\" class=\"dataframe\">\n",
       "  <thead>\n",
       "    <tr style=\"text-align: right;\">\n",
       "      <th></th>\n",
       "      <th>id</th>\n",
       "      <th>colors</th>\n",
       "    </tr>\n",
       "  </thead>\n",
       "  <tbody>\n",
       "    <tr>\n",
       "      <th>0</th>\n",
       "      <td>1</td>\n",
       "      <td>red</td>\n",
       "    </tr>\n",
       "    <tr>\n",
       "      <th>1</th>\n",
       "      <td>2</td>\n",
       "      <td>blue</td>\n",
       "    </tr>\n",
       "    <tr>\n",
       "      <th>2</th>\n",
       "      <td>3</td>\n",
       "      <td>green</td>\n",
       "    </tr>\n",
       "  </tbody>\n",
       "</table>\n",
       "</div>"
      ],
      "text/plain": [
       "   id colors\n",
       "0   1    red\n",
       "1   2   blue\n",
       "2   3  green"
      ]
     },
     "execution_count": 63,
     "metadata": {},
     "output_type": "execute_result"
    }
   ],
   "source": [
    "dff = pd.DataFrame({\n",
    "    'id': [1, 2, 3],\n",
    "    'colors': ['red', 'blue', 'green']\n",
    "})\n",
    "dff"
   ]
  },
  {
   "cell_type": "code",
   "execution_count": 66,
   "id": "65d97e78",
   "metadata": {},
   "outputs": [
    {
     "data": {
      "text/html": [
       "<div>\n",
       "<style scoped>\n",
       "    .dataframe tbody tr th:only-of-type {\n",
       "        vertical-align: middle;\n",
       "    }\n",
       "\n",
       "    .dataframe tbody tr th {\n",
       "        vertical-align: top;\n",
       "    }\n",
       "\n",
       "    .dataframe thead th {\n",
       "        text-align: right;\n",
       "    }\n",
       "</style>\n",
       "<table border=\"1\" class=\"dataframe\">\n",
       "  <thead>\n",
       "    <tr style=\"text-align: right;\">\n",
       "      <th></th>\n",
       "      <th>id</th>\n",
       "      <th>colors</th>\n",
       "      <th>values</th>\n",
       "    </tr>\n",
       "  </thead>\n",
       "  <tbody>\n",
       "    <tr>\n",
       "      <th>0</th>\n",
       "      <td>1</td>\n",
       "      <td>red</td>\n",
       "      <td>10</td>\n",
       "    </tr>\n",
       "    <tr>\n",
       "      <th>1</th>\n",
       "      <td>2</td>\n",
       "      <td>blue</td>\n",
       "      <td>20</td>\n",
       "    </tr>\n",
       "    <tr>\n",
       "      <th>2</th>\n",
       "      <td>3</td>\n",
       "      <td>green</td>\n",
       "      <td>30</td>\n",
       "    </tr>\n",
       "    <tr>\n",
       "      <th>3</th>\n",
       "      <td>4</td>\n",
       "      <td>red</td>\n",
       "      <td>40</td>\n",
       "    </tr>\n",
       "  </tbody>\n",
       "</table>\n",
       "</div>"
      ],
      "text/plain": [
       "   id colors  values\n",
       "0   1    red      10\n",
       "1   2   blue      20\n",
       "2   3  green      30\n",
       "3   4    red      40"
      ]
     },
     "execution_count": 66,
     "metadata": {},
     "output_type": "execute_result"
    }
   ],
   "source": [
    "dff = pd.DataFrame({\n",
    "    'id': [1, 2, 3, 4],\n",
    "    'colors': ['red', 'blue', 'green', 'red'],\n",
    "    'values': [10, 20, 30, 40]\n",
    "})\n",
    "dff"
   ]
  },
  {
   "cell_type": "code",
   "execution_count": 68,
   "id": "d9996462",
   "metadata": {},
   "outputs": [
    {
     "data": {
      "text/html": [
       "<div>\n",
       "<style scoped>\n",
       "    .dataframe tbody tr th:only-of-type {\n",
       "        vertical-align: middle;\n",
       "    }\n",
       "\n",
       "    .dataframe tbody tr th {\n",
       "        vertical-align: top;\n",
       "    }\n",
       "\n",
       "    .dataframe thead th {\n",
       "        text-align: right;\n",
       "    }\n",
       "</style>\n",
       "<table border=\"1\" class=\"dataframe\">\n",
       "  <thead>\n",
       "    <tr style=\"text-align: right;\">\n",
       "      <th>colors</th>\n",
       "      <th>blue</th>\n",
       "      <th>green</th>\n",
       "      <th>red</th>\n",
       "    </tr>\n",
       "    <tr>\n",
       "      <th>id</th>\n",
       "      <th></th>\n",
       "      <th></th>\n",
       "      <th></th>\n",
       "    </tr>\n",
       "  </thead>\n",
       "  <tbody>\n",
       "    <tr>\n",
       "      <th>1</th>\n",
       "      <td>0.0</td>\n",
       "      <td>0.0</td>\n",
       "      <td>10.0</td>\n",
       "    </tr>\n",
       "    <tr>\n",
       "      <th>2</th>\n",
       "      <td>20.0</td>\n",
       "      <td>0.0</td>\n",
       "      <td>0.0</td>\n",
       "    </tr>\n",
       "    <tr>\n",
       "      <th>3</th>\n",
       "      <td>0.0</td>\n",
       "      <td>30.0</td>\n",
       "      <td>0.0</td>\n",
       "    </tr>\n",
       "    <tr>\n",
       "      <th>4</th>\n",
       "      <td>0.0</td>\n",
       "      <td>0.0</td>\n",
       "      <td>40.0</td>\n",
       "    </tr>\n",
       "  </tbody>\n",
       "</table>\n",
       "</div>"
      ],
      "text/plain": [
       "colors  blue  green   red\n",
       "id                       \n",
       "1        0.0    0.0  10.0\n",
       "2       20.0    0.0   0.0\n",
       "3        0.0   30.0   0.0\n",
       "4        0.0    0.0  40.0"
      ]
     },
     "execution_count": 68,
     "metadata": {},
     "output_type": "execute_result"
    }
   ],
   "source": [
    "pivot"
   ]
  },
  {
   "cell_type": "code",
   "execution_count": 40,
   "id": "cdbf6e16",
   "metadata": {},
   "outputs": [],
   "source": [
    "user_eda=user[user.score!=0]"
   ]
  },
  {
   "cell_type": "code",
   "execution_count": 73,
   "id": "f5da588e",
   "metadata": {},
   "outputs": [],
   "source": [
    "#user_eda"
   ]
  },
  {
   "cell_type": "code",
   "execution_count": 43,
   "id": "b1b85a49",
   "metadata": {},
   "outputs": [],
   "source": [
    "statusScore=user_eda.groupby('status')['score'].value_counts()"
   ]
  },
  {
   "cell_type": "code",
   "execution_count": 70,
   "id": "487bb6e5",
   "metadata": {},
   "outputs": [],
   "source": [
    "xyz=user_eda.groupby('status')['score'].value_counts().reset_index(level=['status'])"
   ]
  },
  {
   "cell_type": "code",
   "execution_count": 93,
   "id": "ac46fc08",
   "metadata": {},
   "outputs": [
    {
     "data": {
      "text/html": [
       "<div>\n",
       "<style scoped>\n",
       "    .dataframe tbody tr th:only-of-type {\n",
       "        vertical-align: middle;\n",
       "    }\n",
       "\n",
       "    .dataframe tbody tr th {\n",
       "        vertical-align: top;\n",
       "    }\n",
       "\n",
       "    .dataframe thead th {\n",
       "        text-align: right;\n",
       "    }\n",
       "</style>\n",
       "<table border=\"1\" class=\"dataframe\">\n",
       "  <thead>\n",
       "    <tr style=\"text-align: right;\">\n",
       "      <th></th>\n",
       "      <th>status</th>\n",
       "      <th>sc_count</th>\n",
       "    </tr>\n",
       "    <tr>\n",
       "      <th>score</th>\n",
       "      <th></th>\n",
       "      <th></th>\n",
       "    </tr>\n",
       "  </thead>\n",
       "  <tbody>\n",
       "    <tr>\n",
       "      <th>8</th>\n",
       "      <td>completed</td>\n",
       "      <td>2636291</td>\n",
       "    </tr>\n",
       "    <tr>\n",
       "      <th>7</th>\n",
       "      <td>completed</td>\n",
       "      <td>2461022</td>\n",
       "    </tr>\n",
       "    <tr>\n",
       "      <th>9</th>\n",
       "      <td>completed</td>\n",
       "      <td>1630394</td>\n",
       "    </tr>\n",
       "    <tr>\n",
       "      <th>6</th>\n",
       "      <td>completed</td>\n",
       "      <td>1292655</td>\n",
       "    </tr>\n",
       "    <tr>\n",
       "      <th>10</th>\n",
       "      <td>completed</td>\n",
       "      <td>1098224</td>\n",
       "    </tr>\n",
       "    <tr>\n",
       "      <th>5</th>\n",
       "      <td>completed</td>\n",
       "      <td>648363</td>\n",
       "    </tr>\n",
       "    <tr>\n",
       "      <th>4</th>\n",
       "      <td>completed</td>\n",
       "      <td>280830</td>\n",
       "    </tr>\n",
       "    <tr>\n",
       "      <th>3</th>\n",
       "      <td>completed</td>\n",
       "      <td>144628</td>\n",
       "    </tr>\n",
       "    <tr>\n",
       "      <th>2</th>\n",
       "      <td>completed</td>\n",
       "      <td>83142</td>\n",
       "    </tr>\n",
       "    <tr>\n",
       "      <th>1</th>\n",
       "      <td>completed</td>\n",
       "      <td>77896</td>\n",
       "    </tr>\n",
       "    <tr>\n",
       "      <th>5</th>\n",
       "      <td>dropped</td>\n",
       "      <td>73504</td>\n",
       "    </tr>\n",
       "    <tr>\n",
       "      <th>4</th>\n",
       "      <td>dropped</td>\n",
       "      <td>57123</td>\n",
       "    </tr>\n",
       "    <tr>\n",
       "      <th>6</th>\n",
       "      <td>dropped</td>\n",
       "      <td>51589</td>\n",
       "    </tr>\n",
       "    <tr>\n",
       "      <th>3</th>\n",
       "      <td>dropped</td>\n",
       "      <td>33378</td>\n",
       "    </tr>\n",
       "    <tr>\n",
       "      <th>1</th>\n",
       "      <td>dropped</td>\n",
       "      <td>26141</td>\n",
       "    </tr>\n",
       "    <tr>\n",
       "      <th>7</th>\n",
       "      <td>dropped</td>\n",
       "      <td>25625</td>\n",
       "    </tr>\n",
       "    <tr>\n",
       "      <th>2</th>\n",
       "      <td>dropped</td>\n",
       "      <td>22940</td>\n",
       "    </tr>\n",
       "    <tr>\n",
       "      <th>8</th>\n",
       "      <td>dropped</td>\n",
       "      <td>8076</td>\n",
       "    </tr>\n",
       "    <tr>\n",
       "      <th>9</th>\n",
       "      <td>dropped</td>\n",
       "      <td>2302</td>\n",
       "    </tr>\n",
       "    <tr>\n",
       "      <th>10</th>\n",
       "      <td>dropped</td>\n",
       "      <td>1621</td>\n",
       "    </tr>\n",
       "    <tr>\n",
       "      <th>7</th>\n",
       "      <td>on_hold</td>\n",
       "      <td>33024</td>\n",
       "    </tr>\n",
       "    <tr>\n",
       "      <th>8</th>\n",
       "      <td>on_hold</td>\n",
       "      <td>24117</td>\n",
       "    </tr>\n",
       "    <tr>\n",
       "      <th>6</th>\n",
       "      <td>on_hold</td>\n",
       "      <td>20318</td>\n",
       "    </tr>\n",
       "    <tr>\n",
       "      <th>9</th>\n",
       "      <td>on_hold</td>\n",
       "      <td>9637</td>\n",
       "    </tr>\n",
       "    <tr>\n",
       "      <th>5</th>\n",
       "      <td>on_hold</td>\n",
       "      <td>9535</td>\n",
       "    </tr>\n",
       "    <tr>\n",
       "      <th>10</th>\n",
       "      <td>on_hold</td>\n",
       "      <td>6905</td>\n",
       "    </tr>\n",
       "    <tr>\n",
       "      <th>4</th>\n",
       "      <td>on_hold</td>\n",
       "      <td>3294</td>\n",
       "    </tr>\n",
       "    <tr>\n",
       "      <th>3</th>\n",
       "      <td>on_hold</td>\n",
       "      <td>1353</td>\n",
       "    </tr>\n",
       "    <tr>\n",
       "      <th>2</th>\n",
       "      <td>on_hold</td>\n",
       "      <td>983</td>\n",
       "    </tr>\n",
       "    <tr>\n",
       "      <th>1</th>\n",
       "      <td>on_hold</td>\n",
       "      <td>775</td>\n",
       "    </tr>\n",
       "    <tr>\n",
       "      <th>10</th>\n",
       "      <td>plan_to_watch</td>\n",
       "      <td>10067</td>\n",
       "    </tr>\n",
       "    <tr>\n",
       "      <th>7</th>\n",
       "      <td>plan_to_watch</td>\n",
       "      <td>7540</td>\n",
       "    </tr>\n",
       "    <tr>\n",
       "      <th>8</th>\n",
       "      <td>plan_to_watch</td>\n",
       "      <td>6028</td>\n",
       "    </tr>\n",
       "    <tr>\n",
       "      <th>9</th>\n",
       "      <td>plan_to_watch</td>\n",
       "      <td>4385</td>\n",
       "    </tr>\n",
       "    <tr>\n",
       "      <th>6</th>\n",
       "      <td>plan_to_watch</td>\n",
       "      <td>3230</td>\n",
       "    </tr>\n",
       "    <tr>\n",
       "      <th>5</th>\n",
       "      <td>plan_to_watch</td>\n",
       "      <td>2295</td>\n",
       "    </tr>\n",
       "    <tr>\n",
       "      <th>1</th>\n",
       "      <td>plan_to_watch</td>\n",
       "      <td>1235</td>\n",
       "    </tr>\n",
       "    <tr>\n",
       "      <th>4</th>\n",
       "      <td>plan_to_watch</td>\n",
       "      <td>462</td>\n",
       "    </tr>\n",
       "    <tr>\n",
       "      <th>3</th>\n",
       "      <td>plan_to_watch</td>\n",
       "      <td>278</td>\n",
       "    </tr>\n",
       "    <tr>\n",
       "      <th>2</th>\n",
       "      <td>plan_to_watch</td>\n",
       "      <td>263</td>\n",
       "    </tr>\n",
       "    <tr>\n",
       "      <th>8</th>\n",
       "      <td>watching</td>\n",
       "      <td>51268</td>\n",
       "    </tr>\n",
       "    <tr>\n",
       "      <th>7</th>\n",
       "      <td>watching</td>\n",
       "      <td>47206</td>\n",
       "    </tr>\n",
       "    <tr>\n",
       "      <th>10</th>\n",
       "      <td>watching</td>\n",
       "      <td>39410</td>\n",
       "    </tr>\n",
       "    <tr>\n",
       "      <th>9</th>\n",
       "      <td>watching</td>\n",
       "      <td>34410</td>\n",
       "    </tr>\n",
       "    <tr>\n",
       "      <th>6</th>\n",
       "      <td>watching</td>\n",
       "      <td>21330</td>\n",
       "    </tr>\n",
       "    <tr>\n",
       "      <th>5</th>\n",
       "      <td>watching</td>\n",
       "      <td>8910</td>\n",
       "    </tr>\n",
       "    <tr>\n",
       "      <th>4</th>\n",
       "      <td>watching</td>\n",
       "      <td>3484</td>\n",
       "    </tr>\n",
       "    <tr>\n",
       "      <th>1</th>\n",
       "      <td>watching</td>\n",
       "      <td>1777</td>\n",
       "    </tr>\n",
       "    <tr>\n",
       "      <th>3</th>\n",
       "      <td>watching</td>\n",
       "      <td>1704</td>\n",
       "    </tr>\n",
       "    <tr>\n",
       "      <th>2</th>\n",
       "      <td>watching</td>\n",
       "      <td>1193</td>\n",
       "    </tr>\n",
       "  </tbody>\n",
       "</table>\n",
       "</div>"
      ],
      "text/plain": [
       "              status  sc_count\n",
       "score                         \n",
       "8          completed   2636291\n",
       "7          completed   2461022\n",
       "9          completed   1630394\n",
       "6          completed   1292655\n",
       "10         completed   1098224\n",
       "5          completed    648363\n",
       "4          completed    280830\n",
       "3          completed    144628\n",
       "2          completed     83142\n",
       "1          completed     77896\n",
       "5            dropped     73504\n",
       "4            dropped     57123\n",
       "6            dropped     51589\n",
       "3            dropped     33378\n",
       "1            dropped     26141\n",
       "7            dropped     25625\n",
       "2            dropped     22940\n",
       "8            dropped      8076\n",
       "9            dropped      2302\n",
       "10           dropped      1621\n",
       "7            on_hold     33024\n",
       "8            on_hold     24117\n",
       "6            on_hold     20318\n",
       "9            on_hold      9637\n",
       "5            on_hold      9535\n",
       "10           on_hold      6905\n",
       "4            on_hold      3294\n",
       "3            on_hold      1353\n",
       "2            on_hold       983\n",
       "1            on_hold       775\n",
       "10     plan_to_watch     10067\n",
       "7      plan_to_watch      7540\n",
       "8      plan_to_watch      6028\n",
       "9      plan_to_watch      4385\n",
       "6      plan_to_watch      3230\n",
       "5      plan_to_watch      2295\n",
       "1      plan_to_watch      1235\n",
       "4      plan_to_watch       462\n",
       "3      plan_to_watch       278\n",
       "2      plan_to_watch       263\n",
       "8           watching     51268\n",
       "7           watching     47206\n",
       "10          watching     39410\n",
       "9           watching     34410\n",
       "6           watching     21330\n",
       "5           watching      8910\n",
       "4           watching      3484\n",
       "1           watching      1777\n",
       "3           watching      1704\n",
       "2           watching      1193"
      ]
     },
     "execution_count": 93,
     "metadata": {},
     "output_type": "execute_result"
    }
   ],
   "source": [
    "xyz"
   ]
  },
  {
   "cell_type": "code",
   "execution_count": 82,
   "id": "3463436a",
   "metadata": {},
   "outputs": [],
   "source": [
    "pivotxyz = pd.pivot_table(xyz, index='score', columns='status', values='sc_count', aggfunc='sum')"
   ]
  },
  {
   "cell_type": "code",
   "execution_count": 92,
   "id": "2f9d3a2f",
   "metadata": {},
   "outputs": [
    {
     "data": {
      "text/html": [
       "<div>\n",
       "<style scoped>\n",
       "    .dataframe tbody tr th:only-of-type {\n",
       "        vertical-align: middle;\n",
       "    }\n",
       "\n",
       "    .dataframe tbody tr th {\n",
       "        vertical-align: top;\n",
       "    }\n",
       "\n",
       "    .dataframe thead th {\n",
       "        text-align: right;\n",
       "    }\n",
       "</style>\n",
       "<table border=\"1\" class=\"dataframe\">\n",
       "  <thead>\n",
       "    <tr style=\"text-align: right;\">\n",
       "      <th>status</th>\n",
       "      <th>completed</th>\n",
       "      <th>dropped</th>\n",
       "      <th>on_hold</th>\n",
       "      <th>plan_to_watch</th>\n",
       "      <th>watching</th>\n",
       "      <th>score</th>\n",
       "    </tr>\n",
       "    <tr>\n",
       "      <th>score</th>\n",
       "      <th></th>\n",
       "      <th></th>\n",
       "      <th></th>\n",
       "      <th></th>\n",
       "      <th></th>\n",
       "      <th></th>\n",
       "    </tr>\n",
       "  </thead>\n",
       "  <tbody>\n",
       "    <tr>\n",
       "      <th>1</th>\n",
       "      <td>77896</td>\n",
       "      <td>26141</td>\n",
       "      <td>775</td>\n",
       "      <td>1235</td>\n",
       "      <td>1777</td>\n",
       "      <td>1</td>\n",
       "    </tr>\n",
       "    <tr>\n",
       "      <th>2</th>\n",
       "      <td>83142</td>\n",
       "      <td>22940</td>\n",
       "      <td>983</td>\n",
       "      <td>263</td>\n",
       "      <td>1193</td>\n",
       "      <td>2</td>\n",
       "    </tr>\n",
       "    <tr>\n",
       "      <th>3</th>\n",
       "      <td>144628</td>\n",
       "      <td>33378</td>\n",
       "      <td>1353</td>\n",
       "      <td>278</td>\n",
       "      <td>1704</td>\n",
       "      <td>3</td>\n",
       "    </tr>\n",
       "    <tr>\n",
       "      <th>4</th>\n",
       "      <td>280830</td>\n",
       "      <td>57123</td>\n",
       "      <td>3294</td>\n",
       "      <td>462</td>\n",
       "      <td>3484</td>\n",
       "      <td>4</td>\n",
       "    </tr>\n",
       "    <tr>\n",
       "      <th>5</th>\n",
       "      <td>648363</td>\n",
       "      <td>73504</td>\n",
       "      <td>9535</td>\n",
       "      <td>2295</td>\n",
       "      <td>8910</td>\n",
       "      <td>5</td>\n",
       "    </tr>\n",
       "    <tr>\n",
       "      <th>6</th>\n",
       "      <td>1292655</td>\n",
       "      <td>51589</td>\n",
       "      <td>20318</td>\n",
       "      <td>3230</td>\n",
       "      <td>21330</td>\n",
       "      <td>6</td>\n",
       "    </tr>\n",
       "    <tr>\n",
       "      <th>7</th>\n",
       "      <td>2461022</td>\n",
       "      <td>25625</td>\n",
       "      <td>33024</td>\n",
       "      <td>7540</td>\n",
       "      <td>47206</td>\n",
       "      <td>7</td>\n",
       "    </tr>\n",
       "    <tr>\n",
       "      <th>8</th>\n",
       "      <td>2636291</td>\n",
       "      <td>8076</td>\n",
       "      <td>24117</td>\n",
       "      <td>6028</td>\n",
       "      <td>51268</td>\n",
       "      <td>8</td>\n",
       "    </tr>\n",
       "    <tr>\n",
       "      <th>9</th>\n",
       "      <td>1630394</td>\n",
       "      <td>2302</td>\n",
       "      <td>9637</td>\n",
       "      <td>4385</td>\n",
       "      <td>34410</td>\n",
       "      <td>9</td>\n",
       "    </tr>\n",
       "    <tr>\n",
       "      <th>10</th>\n",
       "      <td>1098224</td>\n",
       "      <td>1621</td>\n",
       "      <td>6905</td>\n",
       "      <td>10067</td>\n",
       "      <td>39410</td>\n",
       "      <td>10</td>\n",
       "    </tr>\n",
       "  </tbody>\n",
       "</table>\n",
       "</div>"
      ],
      "text/plain": [
       "status  completed  dropped  on_hold  plan_to_watch  watching  score\n",
       "score                                                              \n",
       "1           77896    26141      775           1235      1777      1\n",
       "2           83142    22940      983            263      1193      2\n",
       "3          144628    33378     1353            278      1704      3\n",
       "4          280830    57123     3294            462      3484      4\n",
       "5          648363    73504     9535           2295      8910      5\n",
       "6         1292655    51589    20318           3230     21330      6\n",
       "7         2461022    25625    33024           7540     47206      7\n",
       "8         2636291     8076    24117           6028     51268      8\n",
       "9         1630394     2302     9637           4385     34410      9\n",
       "10        1098224     1621     6905          10067     39410     10"
      ]
     },
     "execution_count": 92,
     "metadata": {},
     "output_type": "execute_result"
    }
   ],
   "source": [
    "pivotxyz"
   ]
  },
  {
   "cell_type": "code",
   "execution_count": 91,
   "id": "76a80eb9",
   "metadata": {},
   "outputs": [],
   "source": [
    "pivotxyz['score']=range(1,len(pivotxyz)+1)"
   ]
  },
  {
   "cell_type": "code",
   "execution_count": 80,
   "id": "7f44ddfe",
   "metadata": {},
   "outputs": [],
   "source": [
    "xyz.rename(columns={'score':'sc_count'},inplace=True)"
   ]
  },
  {
   "cell_type": "code",
   "execution_count": 104,
   "id": "2c9fcc65",
   "metadata": {},
   "outputs": [
    {
     "data": {
      "image/png": "[encoded data removed]",
      "text/plain": [
       "<Figure size 432x288 with 1 Axes>"
      ]
     },
     "metadata": {
      "needs_background": "light"
     },
     "output_type": "display_data"
    }
   ],
   "source": [
    "plt.figure(figsize=(6,4))\n",
    "plt.bar(pivotxyz['score'], pivotxyz['completed'], label='completed')\n",
    "plt.bar(pivotxyz['score'], pivotxyz['dropped'], bottom=pivotxyz['completed'], label='dropped')\n",
    "plt.bar(pivotxyz['score'], pivotxyz['on_hold'], bottom=pivotxyz['completed']+pivotxyz['dropped'], label='on_hold')\n",
    "plt.bar(pivotxyz['score'], pivotxyz['plan_to_watch'], bottom=pivotxyz['completed']+pivotxyz['dropped']+pivotxyz['on_hold'], label='plan_to_watch')\n",
    "plt.bar(pivotxyz['score'], pivotxyz['watching'], bottom=pivotxyz['completed']+pivotxyz['dropped']+pivotxyz['on_hold']+pivotxyz['plan_to_watch'], label='watching')\n",
    "\n",
    "# add labels and titles\n",
    "\n",
    "plt.xlabel('Score')\n",
    "plt.ylabel('No. of users')\n",
    "plt.title('No. of users by Score')\n",
    "plt.legend()\n",
    "\n",
    "# display the plot\n",
    "plt.show()"
   ]
  },
  {
   "cell_type": "code",
   "execution_count": 103,
   "id": "a43854e9",
   "metadata": {},
   "outputs": [
    {
     "data": {
      "image/png": "[encoded data removed]",
      "text/plain": [
       "<Figure size 432x288 with 1 Axes>"
      ]
     },
     "metadata": {
      "needs_background": "light"
     },
     "output_type": "display_data"
    }
   ],
   "source": [
    "plt.figure(figsize=(6,4))\n",
    "plt.bar(pivotxyz['score'], pivotxyz['dropped'], label='dropped')\n",
    "plt.bar(pivotxyz['score'], pivotxyz['on_hold'], bottom=pivotxyz['dropped'], label='on_hold')\n",
    "plt.bar(pivotxyz['score'], pivotxyz['plan_to_watch'], bottom=pivotxyz['dropped']+pivotxyz['on_hold'], label='plan_to_watch')\n",
    "plt.bar(pivotxyz['score'], pivotxyz['watching'], bottom=pivotxyz['dropped']+pivotxyz['on_hold']+pivotxyz['plan_to_watch'], label='watching')\n",
    "\n",
    "# add labels and titles\n",
    "plt.xlabel('Score')\n",
    "plt.ylabel('No. of users')\n",
    "plt.title('No. of users by Score (excluding: completed)')\n",
    "plt.legend()\n",
    "\n",
    "# display the plot\n",
    "plt.show()"
   ]
  },
  {
   "cell_type": "code",
   "execution_count": 59,
   "id": "63b3b522",
   "metadata": {},
   "outputs": [
    {
     "data": {
      "image/png": "[encoded data removed]",
      "text/plain": [
       "<Figure size 432x288 with 1 Axes>"
      ]
     },
     "metadata": {
      "needs_background": "light"
     },
     "output_type": "display_data"
    }
   ],
   "source": [
    "bar1 = sns.barplot(x=\"status\",  y=\"score\", data=xyz, color='darkblue')"
   ]
  },
  {
   "cell_type": "code",
   "execution_count": 44,
   "id": "0ee69a29",
   "metadata": {},
   "outputs": [
    {
     "data": {
      "text/plain": [
       "status         score\n",
       "completed      8        2636291\n",
       "               7        2461022\n",
       "               9        1630394\n",
       "               6        1292655\n",
       "               10       1098224\n",
       "               5         648363\n",
       "               4         280830\n",
       "               3         144628\n",
       "               2          83142\n",
       "               1          77896\n",
       "dropped        5          73504\n",
       "               4          57123\n",
       "               6          51589\n",
       "               3          33378\n",
       "               1          26141\n",
       "               7          25625\n",
       "               2          22940\n",
       "               8           8076\n",
       "               9           2302\n",
       "               10          1621\n",
       "on_hold        7          33024\n",
       "               8          24117\n",
       "               6          20318\n",
       "               9           9637\n",
       "               5           9535\n",
       "               10          6905\n",
       "               4           3294\n",
       "               3           1353\n",
       "               2            983\n",
       "               1            775\n",
       "plan_to_watch  10         10067\n",
       "               7           7540\n",
       "               8           6028\n",
       "               9           4385\n",
       "               6           3230\n",
       "               5           2295\n",
       "               1           1235\n",
       "               4            462\n",
       "               3            278\n",
       "               2            263\n",
       "watching       8          51268\n",
       "               7          47206\n",
       "               10         39410\n",
       "               9          34410\n",
       "               6          21330\n",
       "               5           8910\n",
       "               4           3484\n",
       "               1           1777\n",
       "               3           1704\n",
       "               2           1193\n",
       "Name: score, dtype: int64"
      ]
     },
     "execution_count": 44,
     "metadata": {},
     "output_type": "execute_result"
    }
   ],
   "source": [
    "statusScore"
   ]
  },
  {
   "cell_type": "code",
   "execution_count": 41,
   "id": "16934713",
   "metadata": {},
   "outputs": [],
   "source": [
    "statusScore=user.groupby('status')['score'].value_counts()"
   ]
  },
  {
   "cell_type": "code",
   "execution_count": 42,
   "id": "bab8774f",
   "metadata": {},
   "outputs": [
    {
     "data": {
      "text/plain": [
       "status         score\n",
       "completed      8        2636291\n",
       "               0        2506600\n",
       "               7        2461022\n",
       "               9        1630394\n",
       "               6        1292655\n",
       "               10       1098224\n",
       "               5         648363\n",
       "               4         280830\n",
       "               3         144628\n",
       "               2          83142\n",
       "               1          77896\n",
       "dropped        0         471475\n",
       "               5          73504\n",
       "               4          57123\n",
       "               6          51589\n",
       "               3          33378\n",
       "               1          26141\n",
       "               7          25625\n",
       "               2          22940\n",
       "               8           8076\n",
       "               9           2302\n",
       "               10          1621\n",
       "on_hold        0         430510\n",
       "               7          33024\n",
       "               8          24117\n",
       "               6          20318\n",
       "               9           9637\n",
       "               5           9535\n",
       "               10          6905\n",
       "               4           3294\n",
       "               3           1353\n",
       "               2            983\n",
       "               1            775\n",
       "plan_to_watch  0        5799563\n",
       "               10         10067\n",
       "               7           7540\n",
       "               8           6028\n",
       "               9           4385\n",
       "               6           3230\n",
       "               5           2295\n",
       "               1           1235\n",
       "               4            462\n",
       "               3            278\n",
       "               2            263\n",
       "watching       0         823033\n",
       "               8          51268\n",
       "               7          47206\n",
       "               10         39410\n",
       "               9          34410\n",
       "               6          21330\n",
       "               5           8910\n",
       "               4           3484\n",
       "               1           1777\n",
       "               3           1704\n",
       "               2           1193\n",
       "Name: score, dtype: int64"
      ]
     },
     "execution_count": 42,
     "metadata": {},
     "output_type": "execute_result"
    }
   ],
   "source": [
    "statusScore"
   ]
  },
  {
   "cell_type": "code",
   "execution_count": 123,
   "id": "dd2a5017",
   "metadata": {},
   "outputs": [
    {
     "data": {
      "text/plain": [
       "completed        12860045\n",
       "plan_to_watch     5835346\n",
       "watching          1033725\n",
       "dropped            773774\n",
       "on_hold            540451\n",
       "Name: status, dtype: int64"
      ]
     },
     "execution_count": 123,
     "metadata": {},
     "output_type": "execute_result"
    }
   ],
   "source": [
    "user['status'].value_counts()"
   ]
  },
  {
   "cell_type": "code",
   "execution_count": 120,
   "id": "fdb09b68",
   "metadata": {},
   "outputs": [
    {
     "data": {
      "text/plain": [
       "1.755825344351193"
      ]
     },
     "execution_count": 120,
     "metadata": {},
     "output_type": "execute_result"
    }
   ],
   "source": [
    "user[user['status']=='dropped']['score'].mean()"
   ]
  },
  {
   "cell_type": "code",
   "execution_count": null,
   "id": "3e8d1db6",
   "metadata": {},
   "outputs": [],
   "source": [
    "user.shape"
   ]
  },
  {
   "cell_type": "code",
   "execution_count": null,
   "id": "110199a4",
   "metadata": {},
   "outputs": [],
   "source": [
    "user.count()"
   ]
  },
  {
   "cell_type": "code",
   "execution_count": 80,
   "id": "ac700a0b",
   "metadata": {},
   "outputs": [],
   "source": [
    "user.rename(columns={\"uid\":\"anime_id\"},inplace=True)"
   ]
  },
  {
   "cell_type": "code",
   "execution_count": null,
   "id": "dbca706c",
   "metadata": {},
   "outputs": [],
   "source": [
    "user.status.unique()"
   ]
  },
  {
   "cell_type": "code",
   "execution_count": null,
   "id": "d2203d77",
   "metadata": {},
   "outputs": [],
   "source": [
    "user.head()"
   ]
  },
  {
   "cell_type": "code",
   "execution_count": 97,
   "id": "bd558684",
   "metadata": {},
   "outputs": [
    {
     "data": {
      "text/html": [
       "<div>\n",
       "<style scoped>\n",
       "    .dataframe tbody tr th:only-of-type {\n",
       "        vertical-align: middle;\n",
       "    }\n",
       "\n",
       "    .dataframe tbody tr th {\n",
       "        vertical-align: top;\n",
       "    }\n",
       "\n",
       "    .dataframe thead th {\n",
       "        text-align: right;\n",
       "    }\n",
       "</style>\n",
       "<table border=\"1\" class=\"dataframe\">\n",
       "  <thead>\n",
       "    <tr style=\"text-align: right;\">\n",
       "      <th></th>\n",
       "      <th>anime_id</th>\n",
       "      <th>title</th>\n",
       "      <th>main_picture</th>\n",
       "      <th>alternative_titles</th>\n",
       "      <th>start_date</th>\n",
       "      <th>end_date</th>\n",
       "      <th>synopsis</th>\n",
       "      <th>num_list_users</th>\n",
       "      <th>num_scoring_users</th>\n",
       "      <th>nsfw</th>\n",
       "      <th>...</th>\n",
       "      <th>status</th>\n",
       "      <th>num_episodes</th>\n",
       "      <th>start_season</th>\n",
       "      <th>source</th>\n",
       "      <th>average_episode_duration</th>\n",
       "      <th>studios</th>\n",
       "      <th>related_anime</th>\n",
       "      <th>recommendations</th>\n",
       "      <th>genres</th>\n",
       "      <th>year</th>\n",
       "    </tr>\n",
       "  </thead>\n",
       "  <tbody>\n",
       "    <tr>\n",
       "      <th>0</th>\n",
       "      <td>1</td>\n",
       "      <td>Cowboy Bebop</td>\n",
       "      <td>{'medium': 'https://api-cdn.myanimelist.net/im...</td>\n",
       "      <td>{'synonyms': [], 'en': 'Cowboy Bebop', 'ja': '...</td>\n",
       "      <td>1998-04-03</td>\n",
       "      <td>1999-04-24</td>\n",
       "      <td>Crime is timeless. By the year 2071, humanity ...</td>\n",
       "      <td>1731562</td>\n",
       "      <td>892212</td>\n",
       "      <td>white</td>\n",
       "      <td>...</td>\n",
       "      <td>finished_airing</td>\n",
       "      <td>26</td>\n",
       "      <td>{'year': 1998, 'season': 'spring'}</td>\n",
       "      <td>original</td>\n",
       "      <td>1440</td>\n",
       "      <td>[{'id': 14, 'name': 'Sunrise'}]</td>\n",
       "      <td>[{'anime_id': 5, 'relation': 'side_story'}, {'...</td>\n",
       "      <td>[{'anime_id': 205, 'num_recommendations': 118}...</td>\n",
       "      <td>[Action, Adult Cast, Award Winning, Sci-Fi, Sp...</td>\n",
       "      <td>1998</td>\n",
       "    </tr>\n",
       "    <tr>\n",
       "      <th>1</th>\n",
       "      <td>5</td>\n",
       "      <td>Cowboy Bebop: Tengoku no Tobira</td>\n",
       "      <td>{'medium': 'https://api-cdn.myanimelist.net/im...</td>\n",
       "      <td>{'synonyms': [\"Cowboy Bebop: Knockin' on Heave...</td>\n",
       "      <td>2001-09-01</td>\n",
       "      <td>2001-09-01</td>\n",
       "      <td>Another day, another bounty—such is the life o...</td>\n",
       "      <td>353984</td>\n",
       "      <td>202526</td>\n",
       "      <td>white</td>\n",
       "      <td>...</td>\n",
       "      <td>finished_airing</td>\n",
       "      <td>1</td>\n",
       "      <td>{'year': 2001, 'season': 'summer'}</td>\n",
       "      <td>original</td>\n",
       "      <td>6911</td>\n",
       "      <td>[{'id': 4, 'name': 'Bones'}]</td>\n",
       "      <td>[{'anime_id': 1, 'relation': 'parent_story'}]</td>\n",
       "      <td>[{'anime_id': 4106, 'num_recommendations': 3},...</td>\n",
       "      <td>[Action, Adult Cast, Sci-Fi, Space]</td>\n",
       "      <td>2001</td>\n",
       "    </tr>\n",
       "    <tr>\n",
       "      <th>2</th>\n",
       "      <td>6</td>\n",
       "      <td>Trigun</td>\n",
       "      <td>{'medium': 'https://api-cdn.myanimelist.net/im...</td>\n",
       "      <td>{'synonyms': [], 'en': 'Trigun', 'ja': 'トライガン'}</td>\n",
       "      <td>1998-04-01</td>\n",
       "      <td>1998-09-30</td>\n",
       "      <td>Vash the Stampede is the man with a $$60,000,0...</td>\n",
       "      <td>707864</td>\n",
       "      <td>347350</td>\n",
       "      <td>white</td>\n",
       "      <td>...</td>\n",
       "      <td>finished_airing</td>\n",
       "      <td>26</td>\n",
       "      <td>{'year': 1998, 'season': 'spring'}</td>\n",
       "      <td>manga</td>\n",
       "      <td>1480</td>\n",
       "      <td>[{'id': 11, 'name': 'Madhouse'}]</td>\n",
       "      <td>[{'anime_id': 4106, 'relation': 'side_story'},...</td>\n",
       "      <td>[{'anime_id': 1, 'num_recommendations': 85}, {...</td>\n",
       "      <td>[Action, Adult Cast, Adventure, Sci-Fi, Shounen]</td>\n",
       "      <td>1998</td>\n",
       "    </tr>\n",
       "    <tr>\n",
       "      <th>3</th>\n",
       "      <td>7</td>\n",
       "      <td>Witch Hunter Robin</td>\n",
       "      <td>{'medium': 'https://api-cdn.myanimelist.net/im...</td>\n",
       "      <td>{'synonyms': ['WHR'], 'en': 'Witch Hunter Robi...</td>\n",
       "      <td>2002-07-03</td>\n",
       "      <td>2002-12-25</td>\n",
       "      <td>Robin Sena is a powerful craft user drafted in...</td>\n",
       "      <td>110305</td>\n",
       "      <td>42443</td>\n",
       "      <td>white</td>\n",
       "      <td>...</td>\n",
       "      <td>finished_airing</td>\n",
       "      <td>26</td>\n",
       "      <td>{'year': 2002, 'season': 'summer'}</td>\n",
       "      <td>original</td>\n",
       "      <td>1500</td>\n",
       "      <td>[{'id': 14, 'name': 'Sunrise'}]</td>\n",
       "      <td>[]</td>\n",
       "      <td>[{'anime_id': 2025, 'num_recommendations': 12}...</td>\n",
       "      <td>[Action, Detective, Drama, Mystery, Supernatural]</td>\n",
       "      <td>2002</td>\n",
       "    </tr>\n",
       "    <tr>\n",
       "      <th>4</th>\n",
       "      <td>8</td>\n",
       "      <td>Bouken Ou Beet</td>\n",
       "      <td>{'medium': 'https://api-cdn.myanimelist.net/im...</td>\n",
       "      <td>{'synonyms': ['Adventure King Beet'], 'en': 'B...</td>\n",
       "      <td>2004-09-30</td>\n",
       "      <td>2005-09-29</td>\n",
       "      <td>It is the dark century and the people are suff...</td>\n",
       "      <td>14822</td>\n",
       "      <td>6353</td>\n",
       "      <td>white</td>\n",
       "      <td>...</td>\n",
       "      <td>finished_airing</td>\n",
       "      <td>52</td>\n",
       "      <td>{'year': 2004, 'season': 'fall'}</td>\n",
       "      <td>manga</td>\n",
       "      <td>1380</td>\n",
       "      <td>[{'id': 18, 'name': 'Toei Animation'}]</td>\n",
       "      <td>[{'anime_id': 1123, 'relation': 'sequel'}]</td>\n",
       "      <td>[{'anime_id': 417, 'num_recommendations': 2}, ...</td>\n",
       "      <td>[Adventure, Fantasy, Shounen, Supernatural]</td>\n",
       "      <td>2004</td>\n",
       "    </tr>\n",
       "  </tbody>\n",
       "</table>\n",
       "<p>5 rows × 21 columns</p>\n",
       "</div>"
      ],
      "text/plain": [
       "   anime_id                            title  \\\n",
       "0         1                     Cowboy Bebop   \n",
       "1         5  Cowboy Bebop: Tengoku no Tobira   \n",
       "2         6                           Trigun   \n",
       "3         7               Witch Hunter Robin   \n",
       "4         8                   Bouken Ou Beet   \n",
       "\n",
       "                                        main_picture  \\\n",
       "0  {'medium': 'https://api-cdn.myanimelist.net/im...   \n",
       "1  {'medium': 'https://api-cdn.myanimelist.net/im...   \n",
       "2  {'medium': 'https://api-cdn.myanimelist.net/im...   \n",
       "3  {'medium': 'https://api-cdn.myanimelist.net/im...   \n",
       "4  {'medium': 'https://api-cdn.myanimelist.net/im...   \n",
       "\n",
       "                                  alternative_titles  start_date    end_date  \\\n",
       "0  {'synonyms': [], 'en': 'Cowboy Bebop', 'ja': '...  1998-04-03  1999-04-24   \n",
       "1  {'synonyms': [\"Cowboy Bebop: Knockin' on Heave...  2001-09-01  2001-09-01   \n",
       "2    {'synonyms': [], 'en': 'Trigun', 'ja': 'トライガン'}  1998-04-01  1998-09-30   \n",
       "3  {'synonyms': ['WHR'], 'en': 'Witch Hunter Robi...  2002-07-03  2002-12-25   \n",
       "4  {'synonyms': ['Adventure King Beet'], 'en': 'B...  2004-09-30  2005-09-29   \n",
       "\n",
       "                                            synopsis  num_list_users  \\\n",
       "0  Crime is timeless. By the year 2071, humanity ...         1731562   \n",
       "1  Another day, another bounty—such is the life o...          353984   \n",
       "2  Vash the Stampede is the man with a $$60,000,0...          707864   \n",
       "3  Robin Sena is a powerful craft user drafted in...          110305   \n",
       "4  It is the dark century and the people are suff...           14822   \n",
       "\n",
       "   num_scoring_users   nsfw  ...           status num_episodes  \\\n",
       "0             892212  white  ...  finished_airing           26   \n",
       "1             202526  white  ...  finished_airing            1   \n",
       "2             347350  white  ...  finished_airing           26   \n",
       "3              42443  white  ...  finished_airing           26   \n",
       "4               6353  white  ...  finished_airing           52   \n",
       "\n",
       "                         start_season    source average_episode_duration  \\\n",
       "0  {'year': 1998, 'season': 'spring'}  original                     1440   \n",
       "1  {'year': 2001, 'season': 'summer'}  original                     6911   \n",
       "2  {'year': 1998, 'season': 'spring'}     manga                     1480   \n",
       "3  {'year': 2002, 'season': 'summer'}  original                     1500   \n",
       "4    {'year': 2004, 'season': 'fall'}     manga                     1380   \n",
       "\n",
       "                                  studios  \\\n",
       "0         [{'id': 14, 'name': 'Sunrise'}]   \n",
       "1            [{'id': 4, 'name': 'Bones'}]   \n",
       "2        [{'id': 11, 'name': 'Madhouse'}]   \n",
       "3         [{'id': 14, 'name': 'Sunrise'}]   \n",
       "4  [{'id': 18, 'name': 'Toei Animation'}]   \n",
       "\n",
       "                                       related_anime  \\\n",
       "0  [{'anime_id': 5, 'relation': 'side_story'}, {'...   \n",
       "1      [{'anime_id': 1, 'relation': 'parent_story'}]   \n",
       "2  [{'anime_id': 4106, 'relation': 'side_story'},...   \n",
       "3                                                 []   \n",
       "4         [{'anime_id': 1123, 'relation': 'sequel'}]   \n",
       "\n",
       "                                     recommendations  \\\n",
       "0  [{'anime_id': 205, 'num_recommendations': 118}...   \n",
       "1  [{'anime_id': 4106, 'num_recommendations': 3},...   \n",
       "2  [{'anime_id': 1, 'num_recommendations': 85}, {...   \n",
       "3  [{'anime_id': 2025, 'num_recommendations': 12}...   \n",
       "4  [{'anime_id': 417, 'num_recommendations': 2}, ...   \n",
       "\n",
       "                                              genres  year  \n",
       "0  [Action, Adult Cast, Award Winning, Sci-Fi, Sp...  1998  \n",
       "1                [Action, Adult Cast, Sci-Fi, Space]  2001  \n",
       "2   [Action, Adult Cast, Adventure, Sci-Fi, Shounen]  1998  \n",
       "3  [Action, Detective, Drama, Mystery, Supernatural]  2002  \n",
       "4        [Adventure, Fantasy, Shounen, Supernatural]  2004  \n",
       "\n",
       "[5 rows x 21 columns]"
      ]
     },
     "execution_count": 97,
     "metadata": {},
     "output_type": "execute_result"
    }
   ],
   "source": [
    "anime.head()"
   ]
  },
  {
   "cell_type": "code",
   "execution_count": 98,
   "id": "f6add900",
   "metadata": {},
   "outputs": [
    {
     "data": {
      "text/plain": [
       "Index(['anime_id', 'title', 'main_picture', 'alternative_titles', 'start_date',\n",
       "       'end_date', 'synopsis', 'num_list_users', 'num_scoring_users', 'nsfw',\n",
       "       'medium', 'status', 'num_episodes', 'start_season', 'source',\n",
       "       'average_episode_duration', 'studios', 'related_anime',\n",
       "       'recommendations', 'genres', 'year'],\n",
       "      dtype='object')"
      ]
     },
     "execution_count": 98,
     "metadata": {},
     "output_type": "execute_result"
    }
   ],
   "source": [
    "anime.columns"
   ]
  },
  {
   "cell_type": "code",
   "execution_count": null,
   "id": "06d56e0e",
   "metadata": {},
   "outputs": [],
   "source": [
    "anime.count()"
   ]
  },
  {
   "cell_type": "code",
   "execution_count": 5,
   "id": "f73d0541",
   "metadata": {},
   "outputs": [],
   "source": [
    "anime['genres']= anime['genres'].apply(lambda x: eval(x))"
   ]
  },
  {
   "cell_type": "code",
   "execution_count": 6,
   "id": "5658ce15",
   "metadata": {},
   "outputs": [],
   "source": [
    "a_genres=anime.explode('genres')"
   ]
  },
  {
   "cell_type": "code",
   "execution_count": 7,
   "id": "febab43f",
   "metadata": {},
   "outputs": [],
   "source": [
    "anime_genres=a_genres.groupby('genres').count()['anime_id'].sort_values(ascending=False)[:20]"
   ]
  },
  {
   "cell_type": "code",
   "execution_count": 105,
   "id": "37ab2397",
   "metadata": {},
   "outputs": [],
   "source": [
    "type_count = anime['medium'].value_counts()"
   ]
  },
  {
   "cell_type": "code",
   "execution_count": 106,
   "id": "bceb629b",
   "metadata": {},
   "outputs": [
    {
     "data": {
      "text/plain": [
       "tv         3522\n",
       "movie      2094\n",
       "ova        1938\n",
       "ona        1476\n",
       "special    1190\n",
       "music      1059\n",
       "unknown      20\n",
       "Name: medium, dtype: int64"
      ]
     },
     "execution_count": 106,
     "metadata": {},
     "output_type": "execute_result"
    }
   ],
   "source": [
    "type_count"
   ]
  },
  {
   "cell_type": "code",
   "execution_count": 107,
   "id": "c8f052ad",
   "metadata": {},
   "outputs": [
    {
     "data": {
      "image/png": "[encoded data removed]",
      "text/plain": [
       "<Figure size 432x288 with 1 Axes>"
      ]
     },
     "metadata": {
      "needs_background": "light"
     },
     "output_type": "display_data"
    }
   ],
   "source": [
    "type_count = anime['medium'].value_counts()[:6]\n",
    "plt.figure(figsize=(6,4))\n",
    "sns.barplot(x=type_count.index,\n",
    "            y=type_count.values,\n",
    "            palette='magma').set_title('Anime Medium')\n",
    "plt.title('Medium ')\n",
    "plt.tight_layout()\n",
    "plt.show()"
   ]
  },
  {
   "cell_type": "code",
   "execution_count": null,
   "id": "bd5211fb",
   "metadata": {},
   "outputs": [],
   "source": [
    "type_count = anime['source'].value_counts()\n",
    "\n",
    "sns.barplot(x=type_count.values,\n",
    "            y=type_count.index,\n",
    "            palette='magma').set_title('Anime Medium')\n",
    "plt.title('')\n",
    "plt.tight_layout()\n",
    "plt.show()"
   ]
  },
  {
   "cell_type": "code",
   "execution_count": 110,
   "id": "eb149615",
   "metadata": {},
   "outputs": [
    {
     "data": {
      "image/png": "[encoded data removed]",
      "text/plain": [
       "<Figure size 1080x1080 with 1 Axes>"
      ]
     },
     "metadata": {
      "needs_background": "light"
     },
     "output_type": "display_data"
    }
   ],
   "source": [
    "type_count = anime['num_episodes'].value_counts()\n",
    "plt.figure(figsize=(15,15))\n",
    "sns.barplot(x=type_count.values,\n",
    "            y=type_count.index,\n",
    "            palette='magma').set_title('Number of Epsisodes')\n",
    "plt.tight_layout()\n",
    "plt.show()"
   ]
  },
  {
   "cell_type": "code",
   "execution_count": null,
   "id": "37557e45",
   "metadata": {},
   "outputs": [],
   "source": [
    "anime['year']=anime['start_date']."
   ]
  },
  {
   "cell_type": "code",
   "execution_count": 12,
   "id": "95a06dfb",
   "metadata": {},
   "outputs": [
    {
     "data": {
      "text/plain": [
       "original        4159\n",
       "manga           2324\n",
       "game             521\n",
       "visual_novel     481\n",
       "other            473\n",
       "light_novel      421\n",
       "novel            347\n",
       "web_manga        171\n",
       "Name: source, dtype: int64"
      ]
     },
     "execution_count": 12,
     "metadata": {},
     "output_type": "execute_result"
    }
   ],
   "source": [
    "source_count=anime['source'].value_counts()[:8]\n",
    "source_count"
   ]
  },
  {
   "cell_type": "code",
   "execution_count": 20,
   "id": "1a7ddd9b",
   "metadata": {},
   "outputs": [
    {
     "data": {
      "text/plain": [
       "original        4159\n",
       "manga           2324\n",
       "game             521\n",
       "visual_novel     481\n",
       "other            493\n",
       "light_novel      421\n",
       "novel            347\n",
       "web_manga        171\n",
       "4_koma_manga     158\n",
       "music            154\n",
       "book              93\n",
       "picture_book      85\n",
       "mixed_media       53\n",
       "card_game         33\n",
       "web_novel         29\n",
       "radio              7\n",
       "Name: source, dtype: int64"
      ]
     },
     "execution_count": 20,
     "metadata": {},
     "output_type": "execute_result"
    }
   ],
   "source": [
    "source_count"
   ]
  },
  {
   "cell_type": "markdown",
   "id": "7221a8ce",
   "metadata": {},
   "source": [
    "#Top Sources"
   ]
  },
  {
   "cell_type": "code",
   "execution_count": 21,
   "id": "e986fe1d",
   "metadata": {},
   "outputs": [
    {
     "data": {
      "text/plain": [
       "original        4159\n",
       "manga           2324\n",
       "game             521\n",
       "visual_novel     481\n",
       "other            493\n",
       "light_novel      421\n",
       "novel            347\n",
       "Name: source, dtype: int64"
      ]
     },
     "execution_count": 21,
     "metadata": {},
     "output_type": "execute_result"
    }
   ],
   "source": [
    "source_count = anime['source'].value_counts()\n",
    "source_count['other']+=type_count[type_count.values<300].sum()\n",
    "TopSources=source_count[source_count.values>300]\n",
    "TopSources"
   ]
  },
  {
   "cell_type": "code",
   "execution_count": 109,
   "id": "67fc0a45",
   "metadata": {},
   "outputs": [
    {
     "data": {
      "application/vnd.plotly.v1+json": {
       "config": {
        "plotlyServerURL": "https://plot.ly"
       },
       "data": [
        {
         "hoverinfo": "label+percent",
         "labels": [
          "original",
          "manga",
          "game",
          "visual_novel",
          "other",
          "light_novel",
          "novel"
         ],
         "marker": {
          "line": {
           "color": "#000000",
           "width": 2
          }
         },
         "textfont": {
          "size": 20
         },
         "textinfo": "value",
         "type": "pie",
         "values": [
          4159,
          2324,
          521,
          481,
          493,
          421,
          347
         ]
        }
       ],
       "layout": {
        "height": 600,
        "template": {
         "data": {
          "bar": [
           {
            "error_x": {
             "color": "#2a3f5f"
            },
            "error_y": {
             "color": "#2a3f5f"
            },
            "marker": {
             "line": {
              "color": "#E5ECF6",
              "width": 0.5
             },
             "pattern": {
              "fillmode": "overlay",
              "size": 10,
              "solidity": 0.2
             }
            },
            "type": "bar"
           }
          ],
          "barpolar": [
           {
            "marker": {
             "line": {
              "color": "#E5ECF6",
              "width": 0.5
             },
             "pattern": {
              "fillmode": "overlay",
              "size": 10,
              "solidity": 0.2
             }
            },
            "type": "barpolar"
           }
          ],
          "carpet": [
           {
            "aaxis": {
             "endlinecolor": "#2a3f5f",
             "gridcolor": "white",
             "linecolor": "white",
             "minorgridcolor": "white",
             "startlinecolor": "#2a3f5f"
            },
            "baxis": {
             "endlinecolor": "#2a3f5f",
             "gridcolor": "white",
             "linecolor": "white",
             "minorgridcolor": "white",
             "startlinecolor": "#2a3f5f"
            },
            "type": "carpet"
           }
          ],
          "choropleth": [
           {
            "colorbar": {
             "outlinewidth": 0,
             "ticks": ""
            },
            "type": "choropleth"
           }
          ],
          "contour": [
           {
            "colorbar": {
             "outlinewidth": 0,
             "ticks": ""
            },
            "colorscale": [
             [
              0,
              "#0d0887"
             ],
             [
              0.1111111111111111,
              "#46039f"
             ],
             [
              0.2222222222222222,
              "#7201a8"
             ],
             [
              0.3333333333333333,
              "#9c179e"
             ],
             [
              0.4444444444444444,
              "#bd3786"
             ],
             [
              0.5555555555555556,
              "#d8576b"
             ],
             [
              0.6666666666666666,
              "#ed7953"
             ],
             [
              0.7777777777777778,
              "#fb9f3a"
             ],
             [
              0.8888888888888888,
              "#fdca26"
             ],
             [
              1,
              "#f0f921"
             ]
            ],
            "type": "contour"
           }
          ],
          "contourcarpet": [
           {
            "colorbar": {
             "outlinewidth": 0,
             "ticks": ""
            },
            "type": "contourcarpet"
           }
          ],
          "heatmap": [
           {
            "colorbar": {
             "outlinewidth": 0,
             "ticks": ""
            },
            "colorscale": [
             [
              0,
              "#0d0887"
             ],
             [
              0.1111111111111111,
              "#46039f"
             ],
             [
              0.2222222222222222,
              "#7201a8"
             ],
             [
              0.3333333333333333,
              "#9c179e"
             ],
             [
              0.4444444444444444,
              "#bd3786"
             ],
             [
              0.5555555555555556,
              "#d8576b"
             ],
             [
              0.6666666666666666,
              "#ed7953"
             ],
             [
              0.7777777777777778,
              "#fb9f3a"
             ],
             [
              0.8888888888888888,
              "#fdca26"
             ],
             [
              1,
              "#f0f921"
             ]
            ],
            "type": "heatmap"
           }
          ],
          "heatmapgl": [
           {
            "colorbar": {
             "outlinewidth": 0,
             "ticks": ""
            },
            "colorscale": [
             [
              0,
              "#0d0887"
             ],
             [
              0.1111111111111111,
              "#46039f"
             ],
             [
              0.2222222222222222,
              "#7201a8"
             ],
             [
              0.3333333333333333,
              "#9c179e"
             ],
             [
              0.4444444444444444,
              "#bd3786"
             ],
             [
              0.5555555555555556,
              "#d8576b"
             ],
             [
              0.6666666666666666,
              "#ed7953"
             ],
             [
              0.7777777777777778,
              "#fb9f3a"
             ],
             [
              0.8888888888888888,
              "#fdca26"
             ],
             [
              1,
              "#f0f921"
             ]
            ],
            "type": "heatmapgl"
           }
          ],
          "histogram": [
           {
            "marker": {
             "pattern": {
              "fillmode": "overlay",
              "size": 10,
              "solidity": 0.2
             }
            },
            "type": "histogram"
           }
          ],
          "histogram2d": [
           {
            "colorbar": {
             "outlinewidth": 0,
             "ticks": ""
            },
            "colorscale": [
             [
              0,
              "#0d0887"
             ],
             [
              0.1111111111111111,
              "#46039f"
             ],
             [
              0.2222222222222222,
              "#7201a8"
             ],
             [
              0.3333333333333333,
              "#9c179e"
             ],
             [
              0.4444444444444444,
              "#bd3786"
             ],
             [
              0.5555555555555556,
              "#d8576b"
             ],
             [
              0.6666666666666666,
              "#ed7953"
             ],
             [
              0.7777777777777778,
              "#fb9f3a"
             ],
             [
              0.8888888888888888,
              "#fdca26"
             ],
             [
              1,
              "#f0f921"
             ]
            ],
            "type": "histogram2d"
           }
          ],
          "histogram2dcontour": [
           {
            "colorbar": {
             "outlinewidth": 0,
             "ticks": ""
            },
            "colorscale": [
             [
              0,
              "#0d0887"
             ],
             [
              0.1111111111111111,
              "#46039f"
             ],
             [
              0.2222222222222222,
              "#7201a8"
             ],
             [
              0.3333333333333333,
              "#9c179e"
             ],
             [
              0.4444444444444444,
              "#bd3786"
             ],
             [
              0.5555555555555556,
              "#d8576b"
             ],
             [
              0.6666666666666666,
              "#ed7953"
             ],
             [
              0.7777777777777778,
              "#fb9f3a"
             ],
             [
              0.8888888888888888,
              "#fdca26"
             ],
             [
              1,
              "#f0f921"
             ]
            ],
            "type": "histogram2dcontour"
           }
          ],
          "mesh3d": [
           {
            "colorbar": {
             "outlinewidth": 0,
             "ticks": ""
            },
            "type": "mesh3d"
           }
          ],
          "parcoords": [
           {
            "line": {
             "colorbar": {
              "outlinewidth": 0,
              "ticks": ""
             }
            },
            "type": "parcoords"
           }
          ],
          "pie": [
           {
            "automargin": true,
            "type": "pie"
           }
          ],
          "scatter": [
           {
            "marker": {
             "colorbar": {
              "outlinewidth": 0,
              "ticks": ""
             }
            },
            "type": "scatter"
           }
          ],
          "scatter3d": [
           {
            "line": {
             "colorbar": {
              "outlinewidth": 0,
              "ticks": ""
             }
            },
            "marker": {
             "colorbar": {
              "outlinewidth": 0,
              "ticks": ""
             }
            },
            "type": "scatter3d"
           }
          ],
          "scattercarpet": [
           {
            "marker": {
             "colorbar": {
              "outlinewidth": 0,
              "ticks": ""
             }
            },
            "type": "scattercarpet"
           }
          ],
          "scattergeo": [
           {
            "marker": {
             "colorbar": {
              "outlinewidth": 0,
              "ticks": ""
             }
            },
            "type": "scattergeo"
           }
          ],
          "scattergl": [
           {
            "marker": {
             "colorbar": {
              "outlinewidth": 0,
              "ticks": ""
             }
            },
            "type": "scattergl"
           }
          ],
          "scattermapbox": [
           {
            "marker": {
             "colorbar": {
              "outlinewidth": 0,
              "ticks": ""
             }
            },
            "type": "scattermapbox"
           }
          ],
          "scatterpolar": [
           {
            "marker": {
             "colorbar": {
              "outlinewidth": 0,
              "ticks": ""
             }
            },
            "type": "scatterpolar"
           }
          ],
          "scatterpolargl": [
           {
            "marker": {
             "colorbar": {
              "outlinewidth": 0,
              "ticks": ""
             }
            },
            "type": "scatterpolargl"
           }
          ],
          "scatterternary": [
           {
            "marker": {
             "colorbar": {
              "outlinewidth": 0,
              "ticks": ""
             }
            },
            "type": "scatterternary"
           }
          ],
          "surface": [
           {
            "colorbar": {
             "outlinewidth": 0,
             "ticks": ""
            },
            "colorscale": [
             [
              0,
              "#0d0887"
             ],
             [
              0.1111111111111111,
              "#46039f"
             ],
             [
              0.2222222222222222,
              "#7201a8"
             ],
             [
              0.3333333333333333,
              "#9c179e"
             ],
             [
              0.4444444444444444,
              "#bd3786"
             ],
             [
              0.5555555555555556,
              "#d8576b"
             ],
             [
              0.6666666666666666,
              "#ed7953"
             ],
             [
              0.7777777777777778,
              "#fb9f3a"
             ],
             [
              0.8888888888888888,
              "#fdca26"
             ],
             [
              1,
              "#f0f921"
             ]
            ],
            "type": "surface"
           }
          ],
          "table": [
           {
            "cells": {
             "fill": {
              "color": "#EBF0F8"
             },
             "line": {
              "color": "white"
             }
            },
            "header": {
             "fill": {
              "color": "#C8D4E3"
             },
             "line": {
              "color": "white"
             }
            },
            "type": "table"
           }
          ]
         },
         "layout": {
          "annotationdefaults": {
           "arrowcolor": "#2a3f5f",
           "arrowhead": 0,
           "arrowwidth": 1
          },
          "autotypenumbers": "strict",
          "coloraxis": {
           "colorbar": {
            "outlinewidth": 0,
            "ticks": ""
           }
          },
          "colorscale": {
           "diverging": [
            [
             0,
             "#8e0152"
            ],
            [
             0.1,
             "#c51b7d"
            ],
            [
             0.2,
             "#de77ae"
            ],
            [
             0.3,
             "#f1b6da"
            ],
            [
             0.4,
             "#fde0ef"
            ],
            [
             0.5,
             "#f7f7f7"
            ],
            [
             0.6,
             "#e6f5d0"
            ],
            [
             0.7,
             "#b8e186"
            ],
            [
             0.8,
             "#7fbc41"
            ],
            [
             0.9,
             "#4d9221"
            ],
            [
             1,
             "#276419"
            ]
           ],
           "sequential": [
            [
             0,
             "#0d0887"
            ],
            [
             0.1111111111111111,
             "#46039f"
            ],
            [
             0.2222222222222222,
             "#7201a8"
            ],
            [
             0.3333333333333333,
             "#9c179e"
            ],
            [
             0.4444444444444444,
             "#bd3786"
            ],
            [
             0.5555555555555556,
             "#d8576b"
            ],
            [
             0.6666666666666666,
             "#ed7953"
            ],
            [
             0.7777777777777778,
             "#fb9f3a"
            ],
            [
             0.8888888888888888,
             "#fdca26"
            ],
            [
             1,
             "#f0f921"
            ]
           ],
           "sequentialminus": [
            [
             0,
             "#0d0887"
            ],
            [
             0.1111111111111111,
             "#46039f"
            ],
            [
             0.2222222222222222,
             "#7201a8"
            ],
            [
             0.3333333333333333,
             "#9c179e"
            ],
            [
             0.4444444444444444,
             "#bd3786"
            ],
            [
             0.5555555555555556,
             "#d8576b"
            ],
            [
             0.6666666666666666,
             "#ed7953"
            ],
            [
             0.7777777777777778,
             "#fb9f3a"
            ],
            [
             0.8888888888888888,
             "#fdca26"
            ],
            [
             1,
             "#f0f921"
            ]
           ]
          },
          "colorway": [
           "#636efa",
           "#EF553B",
           "#00cc96",
           "#ab63fa",
           "#FFA15A",
           "#19d3f3",
           "#FF6692",
           "#B6E880",
           "#FF97FF",
           "#FECB52"
          ],
          "font": {
           "color": "#2a3f5f"
          },
          "geo": {
           "bgcolor": "white",
           "lakecolor": "white",
           "landcolor": "#E5ECF6",
           "showlakes": true,
           "showland": true,
           "subunitcolor": "white"
          },
          "hoverlabel": {
           "align": "left"
          },
          "hovermode": "closest",
          "mapbox": {
           "style": "light"
          },
          "paper_bgcolor": "white",
          "plot_bgcolor": "#E5ECF6",
          "polar": {
           "angularaxis": {
            "gridcolor": "white",
            "linecolor": "white",
            "ticks": ""
           },
           "bgcolor": "#E5ECF6",
           "radialaxis": {
            "gridcolor": "white",
            "linecolor": "white",
            "ticks": ""
           }
          },
          "scene": {
           "xaxis": {
            "backgroundcolor": "#E5ECF6",
            "gridcolor": "white",
            "gridwidth": 2,
            "linecolor": "white",
            "showbackground": true,
            "ticks": "",
            "zerolinecolor": "white"
           },
           "yaxis": {
            "backgroundcolor": "#E5ECF6",
            "gridcolor": "white",
            "gridwidth": 2,
            "linecolor": "white",
            "showbackground": true,
            "ticks": "",
            "zerolinecolor": "white"
           },
           "zaxis": {
            "backgroundcolor": "#E5ECF6",
            "gridcolor": "white",
            "gridwidth": 2,
            "linecolor": "white",
            "showbackground": true,
            "ticks": "",
            "zerolinecolor": "white"
           }
          },
          "shapedefaults": {
           "line": {
            "color": "#2a3f5f"
           }
          },
          "ternary": {
           "aaxis": {
            "gridcolor": "white",
            "linecolor": "white",
            "ticks": ""
           },
           "baxis": {
            "gridcolor": "white",
            "linecolor": "white",
            "ticks": ""
           },
           "bgcolor": "#E5ECF6",
           "caxis": {
            "gridcolor": "white",
            "linecolor": "white",
            "ticks": ""
           }
          },
          "title": {
           "x": 0.05
          },
          "xaxis": {
           "automargin": true,
           "gridcolor": "white",
           "linecolor": "white",
           "ticks": "",
           "title": {
            "standoff": 15
           },
           "zerolinecolor": "white",
           "zerolinewidth": 2
          },
          "yaxis": {
           "automargin": true,
           "gridcolor": "white",
           "linecolor": "white",
           "ticks": "",
           "title": {
            "standoff": 15
           },
           "zerolinecolor": "white",
           "zerolinewidth": 2
          }
         }
        },
        "title": {
         "text": "Source",
         "x": 0.5,
         "xanchor": "center",
         "y": 0.9,
         "yanchor": "top"
        },
        "width": 800
       }
      },
      "text/html": [
       "<div>                            <div id=\"6f5e8220-7fd5-4b17-a0fa-05a4034b7810\" class=\"plotly-graph-div\" style=\"height:600px; width:800px;\"></div>            <script type=\"text/javascript\">                require([\"plotly\"], function(Plotly) {                    window.PLOTLYENV=window.PLOTLYENV || {};                                    if (document.getElementById(\"6f5e8220-7fd5-4b17-a0fa-05a4034b7810\")) {                    Plotly.newPlot(                        \"6f5e8220-7fd5-4b17-a0fa-05a4034b7810\",                        [{\"hoverinfo\":\"label+percent\",\"labels\":[\"original\",\"manga\",\"game\",\"visual_novel\",\"other\",\"light_novel\",\"novel\"],\"marker\":{\"line\":{\"color\":\"#000000\",\"width\":2}},\"textfont\":{\"size\":20},\"textinfo\":\"value\",\"type\":\"pie\",\"values\":[4159,2324,521,481,493,421,347]}],                        {\"height\":600,\"template\":{\"data\":{\"bar\":[{\"error_x\":{\"color\":\"#2a3f5f\"},\"error_y\":{\"color\":\"#2a3f5f\"},\"marker\":{\"line\":{\"color\":\"#E5ECF6\",\"width\":0.5},\"pattern\":{\"fillmode\":\"overlay\",\"size\":10,\"solidity\":0.2}},\"type\":\"bar\"}],\"barpolar\":[{\"marker\":{\"line\":{\"color\":\"#E5ECF6\",\"width\":0.5},\"pattern\":{\"fillmode\":\"overlay\",\"size\":10,\"solidity\":0.2}},\"type\":\"barpolar\"}],\"carpet\":[{\"aaxis\":{\"endlinecolor\":\"#2a3f5f\",\"gridcolor\":\"white\",\"linecolor\":\"white\",\"minorgridcolor\":\"white\",\"startlinecolor\":\"#2a3f5f\"},\"baxis\":{\"endlinecolor\":\"#2a3f5f\",\"gridcolor\":\"white\",\"linecolor\":\"white\",\"minorgridcolor\":\"white\",\"startlinecolor\":\"#2a3f5f\"},\"type\":\"carpet\"}],\"choropleth\":[{\"colorbar\":{\"outlinewidth\":0,\"ticks\":\"\"},\"type\":\"choropleth\"}],\"contour\":[{\"colorbar\":{\"outlinewidth\":0,\"ticks\":\"\"},\"colorscale\":[[0.0,\"#0d0887\"],[0.1111111111111111,\"#46039f\"],[0.2222222222222222,\"#7201a8\"],[0.3333333333333333,\"#9c179e\"],[0.4444444444444444,\"#bd3786\"],[0.5555555555555556,\"#d8576b\"],[0.6666666666666666,\"#ed7953\"],[0.7777777777777778,\"#fb9f3a\"],[0.8888888888888888,\"#fdca26\"],[1.0,\"#f0f921\"]],\"type\":\"contour\"}],\"contourcarpet\":[{\"colorbar\":{\"outlinewidth\":0,\"ticks\":\"\"},\"type\":\"contourcarpet\"}],\"heatmap\":[{\"colorbar\":{\"outlinewidth\":0,\"ticks\":\"\"},\"colorscale\":[[0.0,\"#0d0887\"],[0.1111111111111111,\"#46039f\"],[0.2222222222222222,\"#7201a8\"],[0.3333333333333333,\"#9c179e\"],[0.4444444444444444,\"#bd3786\"],[0.5555555555555556,\"#d8576b\"],[0.6666666666666666,\"#ed7953\"],[0.7777777777777778,\"#fb9f3a\"],[0.8888888888888888,\"#fdca26\"],[1.0,\"#f0f921\"]],\"type\":\"heatmap\"}],\"heatmapgl\":[{\"colorbar\":{\"outlinewidth\":0,\"ticks\":\"\"},\"colorscale\":[[0.0,\"#0d0887\"],[0.1111111111111111,\"#46039f\"],[0.2222222222222222,\"#7201a8\"],[0.3333333333333333,\"#9c179e\"],[0.4444444444444444,\"#bd3786\"],[0.5555555555555556,\"#d8576b\"],[0.6666666666666666,\"#ed7953\"],[0.7777777777777778,\"#fb9f3a\"],[0.8888888888888888,\"#fdca26\"],[1.0,\"#f0f921\"]],\"type\":\"heatmapgl\"}],\"histogram\":[{\"marker\":{\"pattern\":{\"fillmode\":\"overlay\",\"size\":10,\"solidity\":0.2}},\"type\":\"histogram\"}],\"histogram2d\":[{\"colorbar\":{\"outlinewidth\":0,\"ticks\":\"\"},\"colorscale\":[[0.0,\"#0d0887\"],[0.1111111111111111,\"#46039f\"],[0.2222222222222222,\"#7201a8\"],[0.3333333333333333,\"#9c179e\"],[0.4444444444444444,\"#bd3786\"],[0.5555555555555556,\"#d8576b\"],[0.6666666666666666,\"#ed7953\"],[0.7777777777777778,\"#fb9f3a\"],[0.8888888888888888,\"#fdca26\"],[1.0,\"#f0f921\"]],\"type\":\"histogram2d\"}],\"histogram2dcontour\":[{\"colorbar\":{\"outlinewidth\":0,\"ticks\":\"\"},\"colorscale\":[[0.0,\"#0d0887\"],[0.1111111111111111,\"#46039f\"],[0.2222222222222222,\"#7201a8\"],[0.3333333333333333,\"#9c179e\"],[0.4444444444444444,\"#bd3786\"],[0.5555555555555556,\"#d8576b\"],[0.6666666666666666,\"#ed7953\"],[0.7777777777777778,\"#fb9f3a\"],[0.8888888888888888,\"#fdca26\"],[1.0,\"#f0f921\"]],\"type\":\"histogram2dcontour\"}],\"mesh3d\":[{\"colorbar\":{\"outlinewidth\":0,\"ticks\":\"\"},\"type\":\"mesh3d\"}],\"parcoords\":[{\"line\":{\"colorbar\":{\"outlinewidth\":0,\"ticks\":\"\"}},\"type\":\"parcoords\"}],\"pie\":[{\"automargin\":true,\"type\":\"pie\"}],\"scatter\":[{\"marker\":{\"colorbar\":{\"outlinewidth\":0,\"ticks\":\"\"}},\"type\":\"scatter\"}],\"scatter3d\":[{\"line\":{\"colorbar\":{\"outlinewidth\":0,\"ticks\":\"\"}},\"marker\":{\"colorbar\":{\"outlinewidth\":0,\"ticks\":\"\"}},\"type\":\"scatter3d\"}],\"scattercarpet\":[{\"marker\":{\"colorbar\":{\"outlinewidth\":0,\"ticks\":\"\"}},\"type\":\"scattercarpet\"}],\"scattergeo\":[{\"marker\":{\"colorbar\":{\"outlinewidth\":0,\"ticks\":\"\"}},\"type\":\"scattergeo\"}],\"scattergl\":[{\"marker\":{\"colorbar\":{\"outlinewidth\":0,\"ticks\":\"\"}},\"type\":\"scattergl\"}],\"scattermapbox\":[{\"marker\":{\"colorbar\":{\"outlinewidth\":0,\"ticks\":\"\"}},\"type\":\"scattermapbox\"}],\"scatterpolar\":[{\"marker\":{\"colorbar\":{\"outlinewidth\":0,\"ticks\":\"\"}},\"type\":\"scatterpolar\"}],\"scatterpolargl\":[{\"marker\":{\"colorbar\":{\"outlinewidth\":0,\"ticks\":\"\"}},\"type\":\"scatterpolargl\"}],\"scatterternary\":[{\"marker\":{\"colorbar\":{\"outlinewidth\":0,\"ticks\":\"\"}},\"type\":\"scatterternary\"}],\"surface\":[{\"colorbar\":{\"outlinewidth\":0,\"ticks\":\"\"},\"colorscale\":[[0.0,\"#0d0887\"],[0.1111111111111111,\"#46039f\"],[0.2222222222222222,\"#7201a8\"],[0.3333333333333333,\"#9c179e\"],[0.4444444444444444,\"#bd3786\"],[0.5555555555555556,\"#d8576b\"],[0.6666666666666666,\"#ed7953\"],[0.7777777777777778,\"#fb9f3a\"],[0.8888888888888888,\"#fdca26\"],[1.0,\"#f0f921\"]],\"type\":\"surface\"}],\"table\":[{\"cells\":{\"fill\":{\"color\":\"#EBF0F8\"},\"line\":{\"color\":\"white\"}},\"header\":{\"fill\":{\"color\":\"#C8D4E3\"},\"line\":{\"color\":\"white\"}},\"type\":\"table\"}]},\"layout\":{\"annotationdefaults\":{\"arrowcolor\":\"#2a3f5f\",\"arrowhead\":0,\"arrowwidth\":1},\"autotypenumbers\":\"strict\",\"coloraxis\":{\"colorbar\":{\"outlinewidth\":0,\"ticks\":\"\"}},\"colorscale\":{\"diverging\":[[0,\"#8e0152\"],[0.1,\"#c51b7d\"],[0.2,\"#de77ae\"],[0.3,\"#f1b6da\"],[0.4,\"#fde0ef\"],[0.5,\"#f7f7f7\"],[0.6,\"#e6f5d0\"],[0.7,\"#b8e186\"],[0.8,\"#7fbc41\"],[0.9,\"#4d9221\"],[1,\"#276419\"]],\"sequential\":[[0.0,\"#0d0887\"],[0.1111111111111111,\"#46039f\"],[0.2222222222222222,\"#7201a8\"],[0.3333333333333333,\"#9c179e\"],[0.4444444444444444,\"#bd3786\"],[0.5555555555555556,\"#d8576b\"],[0.6666666666666666,\"#ed7953\"],[0.7777777777777778,\"#fb9f3a\"],[0.8888888888888888,\"#fdca26\"],[1.0,\"#f0f921\"]],\"sequentialminus\":[[0.0,\"#0d0887\"],[0.1111111111111111,\"#46039f\"],[0.2222222222222222,\"#7201a8\"],[0.3333333333333333,\"#9c179e\"],[0.4444444444444444,\"#bd3786\"],[0.5555555555555556,\"#d8576b\"],[0.6666666666666666,\"#ed7953\"],[0.7777777777777778,\"#fb9f3a\"],[0.8888888888888888,\"#fdca26\"],[1.0,\"#f0f921\"]]},\"colorway\":[\"#636efa\",\"#EF553B\",\"#00cc96\",\"#ab63fa\",\"#FFA15A\",\"#19d3f3\",\"#FF6692\",\"#B6E880\",\"#FF97FF\",\"#FECB52\"],\"font\":{\"color\":\"#2a3f5f\"},\"geo\":{\"bgcolor\":\"white\",\"lakecolor\":\"white\",\"landcolor\":\"#E5ECF6\",\"showlakes\":true,\"showland\":true,\"subunitcolor\":\"white\"},\"hoverlabel\":{\"align\":\"left\"},\"hovermode\":\"closest\",\"mapbox\":{\"style\":\"light\"},\"paper_bgcolor\":\"white\",\"plot_bgcolor\":\"#E5ECF6\",\"polar\":{\"angularaxis\":{\"gridcolor\":\"white\",\"linecolor\":\"white\",\"ticks\":\"\"},\"bgcolor\":\"#E5ECF6\",\"radialaxis\":{\"gridcolor\":\"white\",\"linecolor\":\"white\",\"ticks\":\"\"}},\"scene\":{\"xaxis\":{\"backgroundcolor\":\"#E5ECF6\",\"gridcolor\":\"white\",\"gridwidth\":2,\"linecolor\":\"white\",\"showbackground\":true,\"ticks\":\"\",\"zerolinecolor\":\"white\"},\"yaxis\":{\"backgroundcolor\":\"#E5ECF6\",\"gridcolor\":\"white\",\"gridwidth\":2,\"linecolor\":\"white\",\"showbackground\":true,\"ticks\":\"\",\"zerolinecolor\":\"white\"},\"zaxis\":{\"backgroundcolor\":\"#E5ECF6\",\"gridcolor\":\"white\",\"gridwidth\":2,\"linecolor\":\"white\",\"showbackground\":true,\"ticks\":\"\",\"zerolinecolor\":\"white\"}},\"shapedefaults\":{\"line\":{\"color\":\"#2a3f5f\"}},\"ternary\":{\"aaxis\":{\"gridcolor\":\"white\",\"linecolor\":\"white\",\"ticks\":\"\"},\"baxis\":{\"gridcolor\":\"white\",\"linecolor\":\"white\",\"ticks\":\"\"},\"bgcolor\":\"#E5ECF6\",\"caxis\":{\"gridcolor\":\"white\",\"linecolor\":\"white\",\"ticks\":\"\"}},\"title\":{\"x\":0.05},\"xaxis\":{\"automargin\":true,\"gridcolor\":\"white\",\"linecolor\":\"white\",\"ticks\":\"\",\"title\":{\"standoff\":15},\"zerolinecolor\":\"white\",\"zerolinewidth\":2},\"yaxis\":{\"automargin\":true,\"gridcolor\":\"white\",\"linecolor\":\"white\",\"ticks\":\"\",\"title\":{\"standoff\":15},\"zerolinecolor\":\"white\",\"zerolinewidth\":2}}},\"title\":{\"text\":\"Source\",\"x\":0.5,\"xanchor\":\"center\",\"y\":0.9,\"yanchor\":\"top\"},\"width\":800},                        {\"responsive\": true}                    ).then(function(){\n",
       "                            \n",
       "var gd = document.getElementById('6f5e8220-7fd5-4b17-a0fa-05a4034b7810');\n",
       "var x = new MutationObserver(function (mutations, observer) {{\n",
       "        var display = window.getComputedStyle(gd).display;\n",
       "        if (!display || display === 'none') {{\n",
       "            console.log([gd, 'removed!']);\n",
       "            Plotly.purge(gd);\n",
       "            observer.disconnect();\n",
       "        }}\n",
       "}});\n",
       "\n",
       "// Listen for the removal of the full notebook cells\n",
       "var notebookContainer = gd.closest('#notebook-container');\n",
       "if (notebookContainer) {{\n",
       "    x.observe(notebookContainer, {childList: true});\n",
       "}}\n",
       "\n",
       "// Listen for the clearing of the current output cell\n",
       "var outputEl = gd.closest('.output');\n",
       "if (outputEl) {{\n",
       "    x.observe(outputEl, {childList: true});\n",
       "}}\n",
       "\n",
       "                        })                };                });            </script>        </div>"
      ]
     },
     "metadata": {},
     "output_type": "display_data"
    }
   ],
   "source": [
    "import plotly.graph_objects as go\n",
    "labels = TopSources.index\n",
    "values = TopSources.values\n",
    "\n",
    "fig = go.Figure(data=[go.Pie(labels=labels,\n",
    "                             values=values)],layout=go.Layout(height=600, width=800))\n",
    "fig.update_traces(hoverinfo='label+percent', textinfo='value', textfont_size=20,\n",
    "                  marker=dict(line=dict(color='#000000', width=2)))\n",
    "\n",
    "fig.update_layout(\n",
    "    title={\n",
    "        'text': \"Source\",\n",
    "        'y':0.9,\n",
    "        'x':0.5,\n",
    "        'xanchor': 'center',\n",
    "        'yanchor': 'top'})\n",
    "\n",
    "fig.show()"
   ]
  },
  {
   "cell_type": "code",
   "execution_count": 23,
   "id": "9295c93e",
   "metadata": {},
   "outputs": [
    {
     "data": {
      "image/png": "[encoded data removed]",
      "text/plain": [
       "<Figure size 432x288 with 1 Axes>"
      ]
     },
     "metadata": {
      "needs_background": "light"
     },
     "output_type": "display_data"
    }
   ],
   "source": [
    "plt.figure(figsize=(6,4))\n",
    "sns.barplot(x=TopSources.index,\n",
    "            y=TopSources.values,\n",
    "            palette='magma').set_title('Sources')\n",
    "plt.tight_layout()\n",
    "plt.show()"
   ]
  },
  {
   "cell_type": "markdown",
   "id": "d67ae078",
   "metadata": {},
   "source": [
    "Year"
   ]
  },
  {
   "cell_type": "code",
   "execution_count": 24,
   "id": "a631c696",
   "metadata": {},
   "outputs": [],
   "source": [
    "anime['year']=anime.start_date.str.split(\"-\", expand = True)[0]"
   ]
  },
  {
   "cell_type": "code",
   "execution_count": 25,
   "id": "d12f8480",
   "metadata": {},
   "outputs": [
    {
     "data": {
      "text/plain": [
       "0        1998\n",
       "1        2001\n",
       "2        1998\n",
       "3        2002\n",
       "4        2004\n",
       "         ... \n",
       "11294     NaN\n",
       "11295    2004\n",
       "11296    2023\n",
       "11297    2023\n",
       "11298    2005\n",
       "Name: 0, Length: 11299, dtype: object"
      ]
     },
     "execution_count": 25,
     "metadata": {},
     "output_type": "execute_result"
    }
   ],
   "source": [
    "anime.start_date.str.split(\"-\", expand = True)[0]"
   ]
  },
  {
   "cell_type": "code",
   "execution_count": 26,
   "id": "06d30833",
   "metadata": {},
   "outputs": [],
   "source": [
    "year_series = pd.Series(anime['year']).dropna()\n",
    "year_series=year_series.astype(int)\n",
    "year_counts = year_series.groupby(year_series).size()"
   ]
  },
  {
   "cell_type": "code",
   "execution_count": 108,
   "id": "e196e52e",
   "metadata": {},
   "outputs": [
    {
     "data": {
      "image/png": "[encoded data removed]",
      "text/plain": [
       "<Figure size 432x288 with 1 Axes>"
      ]
     },
     "metadata": {
      "needs_background": "light"
     },
     "output_type": "display_data"
    }
   ],
   "source": [
    "import matplotlib.pyplot as plt\n",
    "plt.figure(figsize=(6,4))\n",
    "plt.bar(year_counts.index, year_counts.values)\n",
    "plt.xlabel('Year')\n",
    "plt.ylabel('Number of Animes Released')\n",
    "plt.title('No. of animes by year')\n",
    "plt.show()"
   ]
  }
 ],
 "metadata": {
  "kernelspec": {
   "display_name": "Python 3 (ipykernel)",
   "language": "python",
   "name": "python3"
  },
  "language_info": {
   "codemirror_mode": {
    "name": "ipython",
    "version": 3
   },
   "file_extension": ".py",
   "mimetype": "text/x-python",
   "name": "python",
   "nbconvert_exporter": "python",
   "pygments_lexer": "ipython3",
   "version": "3.9.5"
  }
 },
 "nbformat": 4,
 "nbformat_minor": 5
}
